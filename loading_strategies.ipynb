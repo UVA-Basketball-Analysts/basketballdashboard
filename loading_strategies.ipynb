{
 "cells": [
  {
   "cell_type": "code",
   "execution_count": 73,
   "id": "c9203eef-b260-4fa3-832e-b21ae1c2af43",
   "metadata": {},
   "outputs": [],
   "source": [
    "import os\n",
    "import glob\n",
    "import pandas as pd\n",
    "import re\n",
    "import dash\n",
    "from jupyter_dash import JupyterDash\n",
    "from dash import dcc\n",
    "from dash import html\n",
    "from dash.dependencies import Input, Output\n",
    "import numpy as np\n",
    "import plotly.express as px\n",
    "import plotly.graph_objects as go\n",
    "import plotly.figure_factory as ff"
   ]
  },
  {
   "cell_type": "code",
   "execution_count": null,
   "id": "b3989881-b04a-4ac0-a7da-9dc4a3c35675",
   "metadata": {},
   "outputs": [],
   "source": []
  },
  {
   "cell_type": "code",
   "execution_count": 74,
   "id": "e3f7428c-617f-43ba-9d83-b6229ef57eac",
   "metadata": {},
   "outputs": [],
   "source": [
    "df2 = pd.read_csv(\"clinician.csv\")\n",
    "\n",
    "df2 = df2.sort_values(['meta__person__unique_id', 'timestamp'])\n",
    "\n",
    "df_sorted2 = df2.sort_values(['meta__person__unique_id', 'timestamp'])\n",
    "playerid = 'fb4a0783-469e-4064-8380-a5e8a34075dd'\n",
    "\n",
    "#one_athlete = df2[df2['meta__person__unique_id'].str.contains(playerid)]\n",
    "#df_strat = one_athlete.filter(regex = re.compile(r'meta__person__unique_id|meta__session__session_guid|timestamp|summary__bilateral_squat__loading_strategy__bilateral|summary__unilateral_squat__loading_strategy__left_leg|summary__unilateral_squat__loading_strategy__right_leg|summary__lateral_lunge__loading_strategy__left_leg|summary__lateral_lunge__loading_strategy__right_leg'))\n",
    "\n",
    "#df_strat = one_athlete.filter(regex = re.compile(r'meta__person__unique_id|timestamp|summary__bilateral_squat__loading_strategy__bilateral|summary__unilateral_squat__loading_strategy__left_leg|summary__unilateral_squat__loading_strategy__right_leg|summary__lateral_lunge__loading_strategy__left_leg|summary__lateral_lunge__loading_strategy__right_leg'))\n",
    "\n",
    "\n",
    "#df_strat['summary__bilateral_squat__loading_strategy__bilateral'] = df_strat.summary__bilateral_squat__loading_strategy__bilateral.astype('str')\n",
    "#df_strat['summary__unilateral_squat__loading_strategy__left_leg'] = df_strat.summary__unilateral_squat__loading_strategy__left_leg.astype('str')\n",
    "#df_strat['summary__unilateral_squat__loading_strategy__right_leg'] = df_strat.summary__unilateral_squat__loading_strategy__right_leg.astype('str')\n",
    "#df_strat['summary__lateral_lunge__loading_strategy__left_leg'] = df_strat.summary__bilateral_squat__loading_strategy__bilateral.astype('str')\n",
    "#df_strat['summary__lateral_lunge__loading_strategy__right_leg'] = df_strat.summary__lateral_lunge__loading_strategy__right_leg.astype('str')\n",
    "\n",
    "#df_strat  \n",
    "\n",
    "#one_athlete = df2[df2['meta__person__unique_id'].str.contains(playerid)]\n",
    "#df_strat = one_athlete.filter(regex = re.compile(r'timestamp|summary__bilateral_squat__loading_strategy__bilateral|summary__unilateral_squat__loading_strategy__left_leg|summary__unilateral_squat__loading_strategy__right_leg|summary__lateral_lunge__loading_strategy__left_leg|summary__lateral_lunge__loading_strategy__right_leg'))\n",
    "\n",
    "#df_strat = df_strat.drop('meta__session__session_timestamp', axis=1)\n",
    "\n",
    "\n",
    "#df_strat.set_index('timestamp', inplace=True)\n",
    "\n",
    "    \n",
    "#df_transposed = df_strat.transpose()\n",
    "\n",
    "#df_transposed = df_transposed.reset_index()\n",
    "#df_transposed['strategies'] = df_transposed['index']\n",
    "\n",
    "#df_transposed = df_transposed.drop('index', axis=1)\n",
    "\n",
    "#strategies_col = df_transposed.pop('strategies')\n",
    "#df_transposed.insert(0, 'strategies', strategies_col)\n",
    "\n",
    "\n",
    "#column_width = [max(len(str(val)), 15) for val in df_transposed['strategies']]\n",
    "#column_width[0] = 100\n",
    "#cell_colors = [['blue' if val == 'hip' else 'orange' for val in column] for column in df_transposed.values.tolist()]\n",
    "\n",
    "\n",
    "#fig = go.Figure(data=[go.Table(\n",
    "#    header=dict(\n",
    "#        values=list(df_transposed.columns),\n",
    "#        fill_color='orange',\n",
    "#        font=dict(color='white', family=\"Lato\", size=20),\n",
    "#       align='center'\n",
    "#),\n",
    "#    cells=dict(\n",
    "#        values=df_transposed.values.T,\n",
    "#        height=30, # set the height of the cells to 30 pixels\n",
    "#        fill_color='darkblue',\n",
    "#        font=dict(color='white', family=\"Lato\", size=20),\n",
    "#        align='center'\n",
    "#    ))])\n",
    "\n",
    "\n",
    "#fig.update_layout(\n",
    "#    height=1000,\n",
    "#)\n",
    "\n",
    "#fig.show()\n",
    "\n",
    "\n",
    "\n",
    "\n",
    "\n",
    "\n",
    "\n"
   ]
  },
  {
   "cell_type": "code",
   "execution_count": null,
   "id": "d773c06a-3026-4800-ad39-14daaebfa6c1",
   "metadata": {},
   "outputs": [],
   "source": []
  },
  {
   "cell_type": "code",
   "execution_count": null,
   "id": "85138b1c-82e4-45cc-8e08-d29c717bc33d",
   "metadata": {},
   "outputs": [],
   "source": []
  },
  {
   "cell_type": "code",
   "execution_count": 75,
   "id": "679c5b92-e5d7-4eb1-af2c-3e49a4183598",
   "metadata": {},
   "outputs": [
    {
     "data": {
      "text/html": [
       "<div>\n",
       "<style scoped>\n",
       "    .dataframe tbody tr th:only-of-type {\n",
       "        vertical-align: middle;\n",
       "    }\n",
       "\n",
       "    .dataframe tbody tr th {\n",
       "        vertical-align: top;\n",
       "    }\n",
       "\n",
       "    .dataframe thead th {\n",
       "        text-align: right;\n",
       "    }\n",
       "</style>\n",
       "<table border=\"1\" class=\"dataframe\">\n",
       "  <thead>\n",
       "    <tr style=\"text-align: right;\">\n",
       "      <th></th>\n",
       "      <th>71</th>\n",
       "      <th>48</th>\n",
       "      <th>37</th>\n",
       "      <th>33</th>\n",
       "      <th>7</th>\n",
       "      <th>1</th>\n",
       "      <th>69</th>\n",
       "      <th>53</th>\n",
       "      <th>34</th>\n",
       "      <th>27</th>\n",
       "      <th>...</th>\n",
       "      <th>125</th>\n",
       "      <th>101</th>\n",
       "      <th>92</th>\n",
       "      <th>80</th>\n",
       "      <th>128</th>\n",
       "      <th>116</th>\n",
       "      <th>107</th>\n",
       "      <th>91</th>\n",
       "      <th>82</th>\n",
       "      <th>106</th>\n",
       "    </tr>\n",
       "  </thead>\n",
       "  <tbody>\n",
       "    <tr>\n",
       "      <th>id</th>\n",
       "      <td>dari-clinician</td>\n",
       "      <td>dari-clinician</td>\n",
       "      <td>dari-clinician</td>\n",
       "      <td>dari-clinician</td>\n",
       "      <td>dari-clinician</td>\n",
       "      <td>dari-clinician</td>\n",
       "      <td>dari-clinician</td>\n",
       "      <td>dari-clinician</td>\n",
       "      <td>dari-clinician</td>\n",
       "      <td>dari-clinician</td>\n",
       "      <td>...</td>\n",
       "      <td>dari-clinician</td>\n",
       "      <td>dari-clinician</td>\n",
       "      <td>dari-clinician</td>\n",
       "      <td>dari-clinician</td>\n",
       "      <td>dari-clinician</td>\n",
       "      <td>dari-clinician</td>\n",
       "      <td>dari-clinician</td>\n",
       "      <td>dari-clinician</td>\n",
       "      <td>dari-clinician</td>\n",
       "      <td>dari-clinician</td>\n",
       "    </tr>\n",
       "    <tr>\n",
       "      <th>name</th>\n",
       "      <td>Clinician Report</td>\n",
       "      <td>Clinician Report</td>\n",
       "      <td>Clinician Report</td>\n",
       "      <td>Clinician Report</td>\n",
       "      <td>Clinician Report</td>\n",
       "      <td>Clinician Report</td>\n",
       "      <td>Clinician Report</td>\n",
       "      <td>Clinician Report</td>\n",
       "      <td>Clinician Report</td>\n",
       "      <td>Clinician Report</td>\n",
       "      <td>...</td>\n",
       "      <td>Clinician Report</td>\n",
       "      <td>Clinician Report</td>\n",
       "      <td>Clinician Report</td>\n",
       "      <td>Clinician Report</td>\n",
       "      <td>Clinician Report</td>\n",
       "      <td>Clinician Report</td>\n",
       "      <td>Clinician Report</td>\n",
       "      <td>Clinician Report</td>\n",
       "      <td>Clinician Report</td>\n",
       "      <td>Clinician Report</td>\n",
       "    </tr>\n",
       "    <tr>\n",
       "      <th>version</th>\n",
       "      <td>46d9dad9612ae8bb594d26bb3fa93904</td>\n",
       "      <td>46d9dad9612ae8bb594d26bb3fa93904</td>\n",
       "      <td>46d9dad9612ae8bb594d26bb3fa93904</td>\n",
       "      <td>46d9dad9612ae8bb594d26bb3fa93904</td>\n",
       "      <td>46d9dad9612ae8bb594d26bb3fa93904</td>\n",
       "      <td>46d9dad9612ae8bb594d26bb3fa93904</td>\n",
       "      <td>46d9dad9612ae8bb594d26bb3fa93904</td>\n",
       "      <td>46d9dad9612ae8bb594d26bb3fa93904</td>\n",
       "      <td>46d9dad9612ae8bb594d26bb3fa93904</td>\n",
       "      <td>46d9dad9612ae8bb594d26bb3fa93904</td>\n",
       "      <td>...</td>\n",
       "      <td>46d9dad9612ae8bb594d26bb3fa93904</td>\n",
       "      <td>46d9dad9612ae8bb594d26bb3fa93904</td>\n",
       "      <td>46d9dad9612ae8bb594d26bb3fa93904</td>\n",
       "      <td>46d9dad9612ae8bb594d26bb3fa93904</td>\n",
       "      <td>46d9dad9612ae8bb594d26bb3fa93904</td>\n",
       "      <td>46d9dad9612ae8bb594d26bb3fa93904</td>\n",
       "      <td>46d9dad9612ae8bb594d26bb3fa93904</td>\n",
       "      <td>46d9dad9612ae8bb594d26bb3fa93904</td>\n",
       "      <td>46d9dad9612ae8bb594d26bb3fa93904</td>\n",
       "      <td>46d9dad9612ae8bb594d26bb3fa93904</td>\n",
       "    </tr>\n",
       "    <tr>\n",
       "      <th>timestamp</th>\n",
       "      <td>2022.06.27 08:38:26</td>\n",
       "      <td>2022.06.27 08:40:36</td>\n",
       "      <td>2022.06.27 08:41:48</td>\n",
       "      <td>2022.06.27 08:42:09</td>\n",
       "      <td>2022.06.27 08:44:45</td>\n",
       "      <td>2022.06.27 08:45:16</td>\n",
       "      <td>2022.06.27 08:38:37</td>\n",
       "      <td>2022.06.27 08:40:14</td>\n",
       "      <td>2022.06.27 08:42:03</td>\n",
       "      <td>2022.06.27 08:42:38</td>\n",
       "      <td>...</td>\n",
       "      <td>2022.07.27 07:52:04</td>\n",
       "      <td>2022.09.06 13:22:53</td>\n",
       "      <td>2022.11.04 12:00:32</td>\n",
       "      <td>2022.11.30 14:45:29</td>\n",
       "      <td>2022.06.27 08:50:00</td>\n",
       "      <td>2022.08.01 06:47:20</td>\n",
       "      <td>2022.09.01 13:06:32</td>\n",
       "      <td>2022.11.05 08:44:28</td>\n",
       "      <td>2022.11.30 14:06:57</td>\n",
       "      <td>2023.01.05 10:56:07</td>\n",
       "    </tr>\n",
       "    <tr>\n",
       "      <th>meta__person__unique_id</th>\n",
       "      <td>3aeaaf23-4e2e-4bc3-ada9-44e2541b3ad9</td>\n",
       "      <td>3aeaaf23-4e2e-4bc3-ada9-44e2541b3ad9</td>\n",
       "      <td>3aeaaf23-4e2e-4bc3-ada9-44e2541b3ad9</td>\n",
       "      <td>3aeaaf23-4e2e-4bc3-ada9-44e2541b3ad9</td>\n",
       "      <td>3aeaaf23-4e2e-4bc3-ada9-44e2541b3ad9</td>\n",
       "      <td>3aeaaf23-4e2e-4bc3-ada9-44e2541b3ad9</td>\n",
       "      <td>3dafca18-d401-4553-8d10-3fadc9940fbc</td>\n",
       "      <td>3dafca18-d401-4553-8d10-3fadc9940fbc</td>\n",
       "      <td>3dafca18-d401-4553-8d10-3fadc9940fbc</td>\n",
       "      <td>3dafca18-d401-4553-8d10-3fadc9940fbc</td>\n",
       "      <td>...</td>\n",
       "      <td>f1522ac4-ed9d-4f52-8904-20ebeab69701</td>\n",
       "      <td>f1522ac4-ed9d-4f52-8904-20ebeab69701</td>\n",
       "      <td>f1522ac4-ed9d-4f52-8904-20ebeab69701</td>\n",
       "      <td>f1522ac4-ed9d-4f52-8904-20ebeab69701</td>\n",
       "      <td>fb4a0783-469e-4064-8380-a5e8a34075dd</td>\n",
       "      <td>fb4a0783-469e-4064-8380-a5e8a34075dd</td>\n",
       "      <td>fb4a0783-469e-4064-8380-a5e8a34075dd</td>\n",
       "      <td>fb4a0783-469e-4064-8380-a5e8a34075dd</td>\n",
       "      <td>fb4a0783-469e-4064-8380-a5e8a34075dd</td>\n",
       "      <td>fb4a0783-469e-4064-8380-a5e8a34075dd</td>\n",
       "    </tr>\n",
       "    <tr>\n",
       "      <th>...</th>\n",
       "      <td>...</td>\n",
       "      <td>...</td>\n",
       "      <td>...</td>\n",
       "      <td>...</td>\n",
       "      <td>...</td>\n",
       "      <td>...</td>\n",
       "      <td>...</td>\n",
       "      <td>...</td>\n",
       "      <td>...</td>\n",
       "      <td>...</td>\n",
       "      <td>...</td>\n",
       "      <td>...</td>\n",
       "      <td>...</td>\n",
       "      <td>...</td>\n",
       "      <td>...</td>\n",
       "      <td>...</td>\n",
       "      <td>...</td>\n",
       "      <td>...</td>\n",
       "      <td>...</td>\n",
       "      <td>...</td>\n",
       "      <td>...</td>\n",
       "    </tr>\n",
       "    <tr>\n",
       "      <th>summary__multi_hop__stiffness__grf_ratio__left</th>\n",
       "      <td>2.916192</td>\n",
       "      <td>3.371528</td>\n",
       "      <td>3.013446</td>\n",
       "      <td>3.094089</td>\n",
       "      <td>3.224563</td>\n",
       "      <td>3.034144</td>\n",
       "      <td>3.587932</td>\n",
       "      <td>2.995104</td>\n",
       "      <td>3.620391</td>\n",
       "      <td>3.064287</td>\n",
       "      <td>...</td>\n",
       "      <td>3.601152</td>\n",
       "      <td>3.376226</td>\n",
       "      <td>3.331118</td>\n",
       "      <td>3.387345</td>\n",
       "      <td>2.668165</td>\n",
       "      <td>2.533225</td>\n",
       "      <td>2.509559</td>\n",
       "      <td>2.415962</td>\n",
       "      <td>2.54358</td>\n",
       "      <td>2.383907</td>\n",
       "    </tr>\n",
       "    <tr>\n",
       "      <th>summary__multi_hop__stiffness__grf_ratio__right</th>\n",
       "      <td>2.873707</td>\n",
       "      <td>3.172457</td>\n",
       "      <td>3.118606</td>\n",
       "      <td>3.111636</td>\n",
       "      <td>3.342687</td>\n",
       "      <td>3.164496</td>\n",
       "      <td>3.768633</td>\n",
       "      <td>3.108876</td>\n",
       "      <td>3.160952</td>\n",
       "      <td>2.986231</td>\n",
       "      <td>...</td>\n",
       "      <td>0.0</td>\n",
       "      <td>3.157382</td>\n",
       "      <td>3.298839</td>\n",
       "      <td>3.273186</td>\n",
       "      <td>2.816064</td>\n",
       "      <td>2.441456</td>\n",
       "      <td>2.563663</td>\n",
       "      <td>2.416301</td>\n",
       "      <td>2.619897</td>\n",
       "      <td>2.470576</td>\n",
       "    </tr>\n",
       "    <tr>\n",
       "      <th>summary__multi_hop__stiffness__grf_ratio__delta</th>\n",
       "      <td>0.0</td>\n",
       "      <td>0.2</td>\n",
       "      <td>0.1</td>\n",
       "      <td>0.0</td>\n",
       "      <td>0.1</td>\n",
       "      <td>0.2</td>\n",
       "      <td>0.2</td>\n",
       "      <td>0.1</td>\n",
       "      <td>0.4</td>\n",
       "      <td>0.1</td>\n",
       "      <td>...</td>\n",
       "      <td>NaN</td>\n",
       "      <td>0.2</td>\n",
       "      <td>0.0</td>\n",
       "      <td>0.1</td>\n",
       "      <td>0.1</td>\n",
       "      <td>0.1</td>\n",
       "      <td>0.1</td>\n",
       "      <td>0.0</td>\n",
       "      <td>0.1</td>\n",
       "      <td>0.1</td>\n",
       "    </tr>\n",
       "    <tr>\n",
       "      <th>summary__multi_hop__pain__right</th>\n",
       "      <td>0</td>\n",
       "      <td>0</td>\n",
       "      <td>0</td>\n",
       "      <td>0</td>\n",
       "      <td>0</td>\n",
       "      <td>0</td>\n",
       "      <td>0</td>\n",
       "      <td>0</td>\n",
       "      <td>0</td>\n",
       "      <td>0</td>\n",
       "      <td>...</td>\n",
       "      <td>0</td>\n",
       "      <td>0</td>\n",
       "      <td>0</td>\n",
       "      <td>0</td>\n",
       "      <td>0</td>\n",
       "      <td>0</td>\n",
       "      <td>0</td>\n",
       "      <td>0</td>\n",
       "      <td>0</td>\n",
       "      <td>0</td>\n",
       "    </tr>\n",
       "    <tr>\n",
       "      <th>summary__multi_hop__pain__left</th>\n",
       "      <td>0</td>\n",
       "      <td>0</td>\n",
       "      <td>0</td>\n",
       "      <td>0</td>\n",
       "      <td>0</td>\n",
       "      <td>0</td>\n",
       "      <td>0</td>\n",
       "      <td>0</td>\n",
       "      <td>0</td>\n",
       "      <td>0</td>\n",
       "      <td>...</td>\n",
       "      <td>0</td>\n",
       "      <td>0</td>\n",
       "      <td>0</td>\n",
       "      <td>0</td>\n",
       "      <td>0</td>\n",
       "      <td>0</td>\n",
       "      <td>0</td>\n",
       "      <td>0</td>\n",
       "      <td>0</td>\n",
       "      <td>0</td>\n",
       "    </tr>\n",
       "  </tbody>\n",
       "</table>\n",
       "<p>834 rows × 154 columns</p>\n",
       "</div>"
      ],
      "text/plain": [
       "                                                                                  71   \\\n",
       "id                                                                     dari-clinician   \n",
       "name                                                                 Clinician Report   \n",
       "version                                              46d9dad9612ae8bb594d26bb3fa93904   \n",
       "timestamp                                                         2022.06.27 08:38:26   \n",
       "meta__person__unique_id                          3aeaaf23-4e2e-4bc3-ada9-44e2541b3ad9   \n",
       "...                                                                               ...   \n",
       "summary__multi_hop__stiffness__grf_ratio__left                               2.916192   \n",
       "summary__multi_hop__stiffness__grf_ratio__right                              2.873707   \n",
       "summary__multi_hop__stiffness__grf_ratio__delta                                   0.0   \n",
       "summary__multi_hop__pain__right                                                     0   \n",
       "summary__multi_hop__pain__left                                                      0   \n",
       "\n",
       "                                                                                  48   \\\n",
       "id                                                                     dari-clinician   \n",
       "name                                                                 Clinician Report   \n",
       "version                                              46d9dad9612ae8bb594d26bb3fa93904   \n",
       "timestamp                                                         2022.06.27 08:40:36   \n",
       "meta__person__unique_id                          3aeaaf23-4e2e-4bc3-ada9-44e2541b3ad9   \n",
       "...                                                                               ...   \n",
       "summary__multi_hop__stiffness__grf_ratio__left                               3.371528   \n",
       "summary__multi_hop__stiffness__grf_ratio__right                              3.172457   \n",
       "summary__multi_hop__stiffness__grf_ratio__delta                                   0.2   \n",
       "summary__multi_hop__pain__right                                                     0   \n",
       "summary__multi_hop__pain__left                                                      0   \n",
       "\n",
       "                                                                                  37   \\\n",
       "id                                                                     dari-clinician   \n",
       "name                                                                 Clinician Report   \n",
       "version                                              46d9dad9612ae8bb594d26bb3fa93904   \n",
       "timestamp                                                         2022.06.27 08:41:48   \n",
       "meta__person__unique_id                          3aeaaf23-4e2e-4bc3-ada9-44e2541b3ad9   \n",
       "...                                                                               ...   \n",
       "summary__multi_hop__stiffness__grf_ratio__left                               3.013446   \n",
       "summary__multi_hop__stiffness__grf_ratio__right                              3.118606   \n",
       "summary__multi_hop__stiffness__grf_ratio__delta                                   0.1   \n",
       "summary__multi_hop__pain__right                                                     0   \n",
       "summary__multi_hop__pain__left                                                      0   \n",
       "\n",
       "                                                                                  33   \\\n",
       "id                                                                     dari-clinician   \n",
       "name                                                                 Clinician Report   \n",
       "version                                              46d9dad9612ae8bb594d26bb3fa93904   \n",
       "timestamp                                                         2022.06.27 08:42:09   \n",
       "meta__person__unique_id                          3aeaaf23-4e2e-4bc3-ada9-44e2541b3ad9   \n",
       "...                                                                               ...   \n",
       "summary__multi_hop__stiffness__grf_ratio__left                               3.094089   \n",
       "summary__multi_hop__stiffness__grf_ratio__right                              3.111636   \n",
       "summary__multi_hop__stiffness__grf_ratio__delta                                   0.0   \n",
       "summary__multi_hop__pain__right                                                     0   \n",
       "summary__multi_hop__pain__left                                                      0   \n",
       "\n",
       "                                                                                  7    \\\n",
       "id                                                                     dari-clinician   \n",
       "name                                                                 Clinician Report   \n",
       "version                                              46d9dad9612ae8bb594d26bb3fa93904   \n",
       "timestamp                                                         2022.06.27 08:44:45   \n",
       "meta__person__unique_id                          3aeaaf23-4e2e-4bc3-ada9-44e2541b3ad9   \n",
       "...                                                                               ...   \n",
       "summary__multi_hop__stiffness__grf_ratio__left                               3.224563   \n",
       "summary__multi_hop__stiffness__grf_ratio__right                              3.342687   \n",
       "summary__multi_hop__stiffness__grf_ratio__delta                                   0.1   \n",
       "summary__multi_hop__pain__right                                                     0   \n",
       "summary__multi_hop__pain__left                                                      0   \n",
       "\n",
       "                                                                                  1    \\\n",
       "id                                                                     dari-clinician   \n",
       "name                                                                 Clinician Report   \n",
       "version                                              46d9dad9612ae8bb594d26bb3fa93904   \n",
       "timestamp                                                         2022.06.27 08:45:16   \n",
       "meta__person__unique_id                          3aeaaf23-4e2e-4bc3-ada9-44e2541b3ad9   \n",
       "...                                                                               ...   \n",
       "summary__multi_hop__stiffness__grf_ratio__left                               3.034144   \n",
       "summary__multi_hop__stiffness__grf_ratio__right                              3.164496   \n",
       "summary__multi_hop__stiffness__grf_ratio__delta                                   0.2   \n",
       "summary__multi_hop__pain__right                                                     0   \n",
       "summary__multi_hop__pain__left                                                      0   \n",
       "\n",
       "                                                                                  69   \\\n",
       "id                                                                     dari-clinician   \n",
       "name                                                                 Clinician Report   \n",
       "version                                              46d9dad9612ae8bb594d26bb3fa93904   \n",
       "timestamp                                                         2022.06.27 08:38:37   \n",
       "meta__person__unique_id                          3dafca18-d401-4553-8d10-3fadc9940fbc   \n",
       "...                                                                               ...   \n",
       "summary__multi_hop__stiffness__grf_ratio__left                               3.587932   \n",
       "summary__multi_hop__stiffness__grf_ratio__right                              3.768633   \n",
       "summary__multi_hop__stiffness__grf_ratio__delta                                   0.2   \n",
       "summary__multi_hop__pain__right                                                     0   \n",
       "summary__multi_hop__pain__left                                                      0   \n",
       "\n",
       "                                                                                  53   \\\n",
       "id                                                                     dari-clinician   \n",
       "name                                                                 Clinician Report   \n",
       "version                                              46d9dad9612ae8bb594d26bb3fa93904   \n",
       "timestamp                                                         2022.06.27 08:40:14   \n",
       "meta__person__unique_id                          3dafca18-d401-4553-8d10-3fadc9940fbc   \n",
       "...                                                                               ...   \n",
       "summary__multi_hop__stiffness__grf_ratio__left                               2.995104   \n",
       "summary__multi_hop__stiffness__grf_ratio__right                              3.108876   \n",
       "summary__multi_hop__stiffness__grf_ratio__delta                                   0.1   \n",
       "summary__multi_hop__pain__right                                                     0   \n",
       "summary__multi_hop__pain__left                                                      0   \n",
       "\n",
       "                                                                                  34   \\\n",
       "id                                                                     dari-clinician   \n",
       "name                                                                 Clinician Report   \n",
       "version                                              46d9dad9612ae8bb594d26bb3fa93904   \n",
       "timestamp                                                         2022.06.27 08:42:03   \n",
       "meta__person__unique_id                          3dafca18-d401-4553-8d10-3fadc9940fbc   \n",
       "...                                                                               ...   \n",
       "summary__multi_hop__stiffness__grf_ratio__left                               3.620391   \n",
       "summary__multi_hop__stiffness__grf_ratio__right                              3.160952   \n",
       "summary__multi_hop__stiffness__grf_ratio__delta                                   0.4   \n",
       "summary__multi_hop__pain__right                                                     0   \n",
       "summary__multi_hop__pain__left                                                      0   \n",
       "\n",
       "                                                                                  27   \\\n",
       "id                                                                     dari-clinician   \n",
       "name                                                                 Clinician Report   \n",
       "version                                              46d9dad9612ae8bb594d26bb3fa93904   \n",
       "timestamp                                                         2022.06.27 08:42:38   \n",
       "meta__person__unique_id                          3dafca18-d401-4553-8d10-3fadc9940fbc   \n",
       "...                                                                               ...   \n",
       "summary__multi_hop__stiffness__grf_ratio__left                               3.064287   \n",
       "summary__multi_hop__stiffness__grf_ratio__right                              2.986231   \n",
       "summary__multi_hop__stiffness__grf_ratio__delta                                   0.1   \n",
       "summary__multi_hop__pain__right                                                     0   \n",
       "summary__multi_hop__pain__left                                                      0   \n",
       "\n",
       "                                                 ...  \\\n",
       "id                                               ...   \n",
       "name                                             ...   \n",
       "version                                          ...   \n",
       "timestamp                                        ...   \n",
       "meta__person__unique_id                          ...   \n",
       "...                                              ...   \n",
       "summary__multi_hop__stiffness__grf_ratio__left   ...   \n",
       "summary__multi_hop__stiffness__grf_ratio__right  ...   \n",
       "summary__multi_hop__stiffness__grf_ratio__delta  ...   \n",
       "summary__multi_hop__pain__right                  ...   \n",
       "summary__multi_hop__pain__left                   ...   \n",
       "\n",
       "                                                                                  125  \\\n",
       "id                                                                     dari-clinician   \n",
       "name                                                                 Clinician Report   \n",
       "version                                              46d9dad9612ae8bb594d26bb3fa93904   \n",
       "timestamp                                                         2022.07.27 07:52:04   \n",
       "meta__person__unique_id                          f1522ac4-ed9d-4f52-8904-20ebeab69701   \n",
       "...                                                                               ...   \n",
       "summary__multi_hop__stiffness__grf_ratio__left                               3.601152   \n",
       "summary__multi_hop__stiffness__grf_ratio__right                                   0.0   \n",
       "summary__multi_hop__stiffness__grf_ratio__delta                                   NaN   \n",
       "summary__multi_hop__pain__right                                                     0   \n",
       "summary__multi_hop__pain__left                                                      0   \n",
       "\n",
       "                                                                                  101  \\\n",
       "id                                                                     dari-clinician   \n",
       "name                                                                 Clinician Report   \n",
       "version                                              46d9dad9612ae8bb594d26bb3fa93904   \n",
       "timestamp                                                         2022.09.06 13:22:53   \n",
       "meta__person__unique_id                          f1522ac4-ed9d-4f52-8904-20ebeab69701   \n",
       "...                                                                               ...   \n",
       "summary__multi_hop__stiffness__grf_ratio__left                               3.376226   \n",
       "summary__multi_hop__stiffness__grf_ratio__right                              3.157382   \n",
       "summary__multi_hop__stiffness__grf_ratio__delta                                   0.2   \n",
       "summary__multi_hop__pain__right                                                     0   \n",
       "summary__multi_hop__pain__left                                                      0   \n",
       "\n",
       "                                                                                  92   \\\n",
       "id                                                                     dari-clinician   \n",
       "name                                                                 Clinician Report   \n",
       "version                                              46d9dad9612ae8bb594d26bb3fa93904   \n",
       "timestamp                                                         2022.11.04 12:00:32   \n",
       "meta__person__unique_id                          f1522ac4-ed9d-4f52-8904-20ebeab69701   \n",
       "...                                                                               ...   \n",
       "summary__multi_hop__stiffness__grf_ratio__left                               3.331118   \n",
       "summary__multi_hop__stiffness__grf_ratio__right                              3.298839   \n",
       "summary__multi_hop__stiffness__grf_ratio__delta                                   0.0   \n",
       "summary__multi_hop__pain__right                                                     0   \n",
       "summary__multi_hop__pain__left                                                      0   \n",
       "\n",
       "                                                                                  80   \\\n",
       "id                                                                     dari-clinician   \n",
       "name                                                                 Clinician Report   \n",
       "version                                              46d9dad9612ae8bb594d26bb3fa93904   \n",
       "timestamp                                                         2022.11.30 14:45:29   \n",
       "meta__person__unique_id                          f1522ac4-ed9d-4f52-8904-20ebeab69701   \n",
       "...                                                                               ...   \n",
       "summary__multi_hop__stiffness__grf_ratio__left                               3.387345   \n",
       "summary__multi_hop__stiffness__grf_ratio__right                              3.273186   \n",
       "summary__multi_hop__stiffness__grf_ratio__delta                                   0.1   \n",
       "summary__multi_hop__pain__right                                                     0   \n",
       "summary__multi_hop__pain__left                                                      0   \n",
       "\n",
       "                                                                                  128  \\\n",
       "id                                                                     dari-clinician   \n",
       "name                                                                 Clinician Report   \n",
       "version                                              46d9dad9612ae8bb594d26bb3fa93904   \n",
       "timestamp                                                         2022.06.27 08:50:00   \n",
       "meta__person__unique_id                          fb4a0783-469e-4064-8380-a5e8a34075dd   \n",
       "...                                                                               ...   \n",
       "summary__multi_hop__stiffness__grf_ratio__left                               2.668165   \n",
       "summary__multi_hop__stiffness__grf_ratio__right                              2.816064   \n",
       "summary__multi_hop__stiffness__grf_ratio__delta                                   0.1   \n",
       "summary__multi_hop__pain__right                                                     0   \n",
       "summary__multi_hop__pain__left                                                      0   \n",
       "\n",
       "                                                                                  116  \\\n",
       "id                                                                     dari-clinician   \n",
       "name                                                                 Clinician Report   \n",
       "version                                              46d9dad9612ae8bb594d26bb3fa93904   \n",
       "timestamp                                                         2022.08.01 06:47:20   \n",
       "meta__person__unique_id                          fb4a0783-469e-4064-8380-a5e8a34075dd   \n",
       "...                                                                               ...   \n",
       "summary__multi_hop__stiffness__grf_ratio__left                               2.533225   \n",
       "summary__multi_hop__stiffness__grf_ratio__right                              2.441456   \n",
       "summary__multi_hop__stiffness__grf_ratio__delta                                   0.1   \n",
       "summary__multi_hop__pain__right                                                     0   \n",
       "summary__multi_hop__pain__left                                                      0   \n",
       "\n",
       "                                                                                  107  \\\n",
       "id                                                                     dari-clinician   \n",
       "name                                                                 Clinician Report   \n",
       "version                                              46d9dad9612ae8bb594d26bb3fa93904   \n",
       "timestamp                                                         2022.09.01 13:06:32   \n",
       "meta__person__unique_id                          fb4a0783-469e-4064-8380-a5e8a34075dd   \n",
       "...                                                                               ...   \n",
       "summary__multi_hop__stiffness__grf_ratio__left                               2.509559   \n",
       "summary__multi_hop__stiffness__grf_ratio__right                              2.563663   \n",
       "summary__multi_hop__stiffness__grf_ratio__delta                                   0.1   \n",
       "summary__multi_hop__pain__right                                                     0   \n",
       "summary__multi_hop__pain__left                                                      0   \n",
       "\n",
       "                                                                                  91   \\\n",
       "id                                                                     dari-clinician   \n",
       "name                                                                 Clinician Report   \n",
       "version                                              46d9dad9612ae8bb594d26bb3fa93904   \n",
       "timestamp                                                         2022.11.05 08:44:28   \n",
       "meta__person__unique_id                          fb4a0783-469e-4064-8380-a5e8a34075dd   \n",
       "...                                                                               ...   \n",
       "summary__multi_hop__stiffness__grf_ratio__left                               2.415962   \n",
       "summary__multi_hop__stiffness__grf_ratio__right                              2.416301   \n",
       "summary__multi_hop__stiffness__grf_ratio__delta                                   0.0   \n",
       "summary__multi_hop__pain__right                                                     0   \n",
       "summary__multi_hop__pain__left                                                      0   \n",
       "\n",
       "                                                                                  82   \\\n",
       "id                                                                     dari-clinician   \n",
       "name                                                                 Clinician Report   \n",
       "version                                              46d9dad9612ae8bb594d26bb3fa93904   \n",
       "timestamp                                                         2022.11.30 14:06:57   \n",
       "meta__person__unique_id                          fb4a0783-469e-4064-8380-a5e8a34075dd   \n",
       "...                                                                               ...   \n",
       "summary__multi_hop__stiffness__grf_ratio__left                                2.54358   \n",
       "summary__multi_hop__stiffness__grf_ratio__right                              2.619897   \n",
       "summary__multi_hop__stiffness__grf_ratio__delta                                   0.1   \n",
       "summary__multi_hop__pain__right                                                     0   \n",
       "summary__multi_hop__pain__left                                                      0   \n",
       "\n",
       "                                                                                  106  \n",
       "id                                                                     dari-clinician  \n",
       "name                                                                 Clinician Report  \n",
       "version                                              46d9dad9612ae8bb594d26bb3fa93904  \n",
       "timestamp                                                         2023.01.05 10:56:07  \n",
       "meta__person__unique_id                          fb4a0783-469e-4064-8380-a5e8a34075dd  \n",
       "...                                                                               ...  \n",
       "summary__multi_hop__stiffness__grf_ratio__left                               2.383907  \n",
       "summary__multi_hop__stiffness__grf_ratio__right                              2.470576  \n",
       "summary__multi_hop__stiffness__grf_ratio__delta                                   0.1  \n",
       "summary__multi_hop__pain__right                                                     0  \n",
       "summary__multi_hop__pain__left                                                      0  \n",
       "\n",
       "[834 rows x 154 columns]"
      ]
     },
     "execution_count": 75,
     "metadata": {},
     "output_type": "execute_result"
    }
   ],
   "source": [
    "df2.T"
   ]
  },
  {
   "cell_type": "code",
   "execution_count": null,
   "id": "f6a5d7da-e537-439b-a1de-0a28713b874d",
   "metadata": {},
   "outputs": [],
   "source": []
  },
  {
   "cell_type": "code",
   "execution_count": 76,
   "id": "a02817e6-5d6a-4152-b8fd-4badf2179080",
   "metadata": {},
   "outputs": [
    {
     "ename": "SyntaxError",
     "evalue": "incomplete input (3164859033.py, line 18)",
     "output_type": "error",
     "traceback": [
      "\u001b[0;36m  Cell \u001b[0;32mIn[76], line 18\u001b[0;36m\u001b[0m\n\u001b[0;31m    \u001b[0m\n\u001b[0m    ^\u001b[0m\n\u001b[0;31mSyntaxError\u001b[0m\u001b[0;31m:\u001b[0m incomplete input\n"
     ]
    }
   ],
   "source": [
    "##### junk town!\n",
    "\n",
    "\n",
    "import plotly.express as px\n",
    "df = px.data.medals_long()\n",
    "\n",
    "fig = px.scatter(df, y=\"nation\", x=\"count\", color=\"medal\", symbol=\"medal\")\n",
    "fig.update_traces(marker_size=10)\n",
    "fig.show()\n",
    "\n",
    "fig = go.Figure(data=[go.Table(\n",
    "    header=dict(values=list(df.columns),\n",
    "                fill_color='paleturquoise',\n",
    "                align='left'),\n",
    "    cells=dict(values=[df.Rank, df.State, df.Postal, df.Population],\n",
    "               fill_color='lavender',\n",
    "               align='left'))\n",
    "\n"
   ]
  },
  {
   "cell_type": "code",
   "execution_count": 77,
   "id": "667ddc92-3fb9-46a8-b989-de3b46924a61",
   "metadata": {},
   "outputs": [
    {
     "data": {
      "application/vnd.plotly.v1+json": {
       "config": {
        "plotlyServerURL": "https://plot.ly"
       },
       "data": [
        {
         "name": "summary__bilateral_squat__loading_strategy__bilateral",
         "type": "scatter",
         "x": [
          "2022.06.27 08:50:00",
          "2022.08.01 06:47:20",
          "2022.09.01 13:06:32",
          "2022.11.05 08:44:28",
          "2022.11.30 14:06:57",
          "2023.01.05 10:56:07"
         ],
         "y": [
          "hip",
          "hip",
          "knee",
          "knee",
          "knee",
          "knee"
         ]
        },
        {
         "name": "summary__unilateral_squat__loading_strategy__left_leg",
         "type": "scatter",
         "x": [
          "2022.06.27 08:50:00",
          "2022.08.01 06:47:20",
          "2022.09.01 13:06:32",
          "2022.11.05 08:44:28",
          "2022.11.30 14:06:57",
          "2023.01.05 10:56:07"
         ],
         "y": [
          "hip",
          "knee",
          "knee",
          "knee",
          "knee",
          "hip"
         ]
        },
        {
         "name": "summary__unilateral_squat__loading_strategy__right_leg",
         "type": "scatter",
         "x": [
          "2022.06.27 08:50:00",
          "2022.08.01 06:47:20",
          "2022.09.01 13:06:32",
          "2022.11.05 08:44:28",
          "2022.11.30 14:06:57",
          "2023.01.05 10:56:07"
         ],
         "y": [
          "hip",
          "knee",
          "knee",
          "knee",
          "knee",
          "knee"
         ]
        },
        {
         "name": "summary__lateral_lunge__loading_strategy__left_leg",
         "type": "scatter",
         "x": [
          "2022.06.27 08:50:00",
          "2022.08.01 06:47:20",
          "2022.09.01 13:06:32",
          "2022.11.05 08:44:28",
          "2022.11.30 14:06:57",
          "2023.01.05 10:56:07"
         ],
         "y": [
          "knee",
          "knee",
          "knee",
          "hip",
          "knee",
          "knee"
         ]
        },
        {
         "name": "summary__lateral_lunge__loading_strategy__right_leg",
         "type": "scatter",
         "x": [
          "2022.06.27 08:50:00",
          "2022.08.01 06:47:20",
          "2022.09.01 13:06:32",
          "2022.11.05 08:44:28",
          "2022.11.30 14:06:57",
          "2023.01.05 10:56:07"
         ],
         "y": [
          "knee",
          "knee",
          "knee",
          "knee",
          "knee",
          "knee"
         ]
        }
       ],
       "layout": {
        "autosize": true,
        "template": {
         "data": {
          "bar": [
           {
            "error_x": {
             "color": "#2a3f5f"
            },
            "error_y": {
             "color": "#2a3f5f"
            },
            "marker": {
             "line": {
              "color": "#E5ECF6",
              "width": 0.5
             },
             "pattern": {
              "fillmode": "overlay",
              "size": 10,
              "solidity": 0.2
             }
            },
            "type": "bar"
           }
          ],
          "barpolar": [
           {
            "marker": {
             "line": {
              "color": "#E5ECF6",
              "width": 0.5
             },
             "pattern": {
              "fillmode": "overlay",
              "size": 10,
              "solidity": 0.2
             }
            },
            "type": "barpolar"
           }
          ],
          "carpet": [
           {
            "aaxis": {
             "endlinecolor": "#2a3f5f",
             "gridcolor": "white",
             "linecolor": "white",
             "minorgridcolor": "white",
             "startlinecolor": "#2a3f5f"
            },
            "baxis": {
             "endlinecolor": "#2a3f5f",
             "gridcolor": "white",
             "linecolor": "white",
             "minorgridcolor": "white",
             "startlinecolor": "#2a3f5f"
            },
            "type": "carpet"
           }
          ],
          "choropleth": [
           {
            "colorbar": {
             "outlinewidth": 0,
             "ticks": ""
            },
            "type": "choropleth"
           }
          ],
          "contour": [
           {
            "colorbar": {
             "outlinewidth": 0,
             "ticks": ""
            },
            "colorscale": [
             [
              0,
              "#0d0887"
             ],
             [
              0.1111111111111111,
              "#46039f"
             ],
             [
              0.2222222222222222,
              "#7201a8"
             ],
             [
              0.3333333333333333,
              "#9c179e"
             ],
             [
              0.4444444444444444,
              "#bd3786"
             ],
             [
              0.5555555555555556,
              "#d8576b"
             ],
             [
              0.6666666666666666,
              "#ed7953"
             ],
             [
              0.7777777777777778,
              "#fb9f3a"
             ],
             [
              0.8888888888888888,
              "#fdca26"
             ],
             [
              1,
              "#f0f921"
             ]
            ],
            "type": "contour"
           }
          ],
          "contourcarpet": [
           {
            "colorbar": {
             "outlinewidth": 0,
             "ticks": ""
            },
            "type": "contourcarpet"
           }
          ],
          "heatmap": [
           {
            "colorbar": {
             "outlinewidth": 0,
             "ticks": ""
            },
            "colorscale": [
             [
              0,
              "#0d0887"
             ],
             [
              0.1111111111111111,
              "#46039f"
             ],
             [
              0.2222222222222222,
              "#7201a8"
             ],
             [
              0.3333333333333333,
              "#9c179e"
             ],
             [
              0.4444444444444444,
              "#bd3786"
             ],
             [
              0.5555555555555556,
              "#d8576b"
             ],
             [
              0.6666666666666666,
              "#ed7953"
             ],
             [
              0.7777777777777778,
              "#fb9f3a"
             ],
             [
              0.8888888888888888,
              "#fdca26"
             ],
             [
              1,
              "#f0f921"
             ]
            ],
            "type": "heatmap"
           }
          ],
          "heatmapgl": [
           {
            "colorbar": {
             "outlinewidth": 0,
             "ticks": ""
            },
            "colorscale": [
             [
              0,
              "#0d0887"
             ],
             [
              0.1111111111111111,
              "#46039f"
             ],
             [
              0.2222222222222222,
              "#7201a8"
             ],
             [
              0.3333333333333333,
              "#9c179e"
             ],
             [
              0.4444444444444444,
              "#bd3786"
             ],
             [
              0.5555555555555556,
              "#d8576b"
             ],
             [
              0.6666666666666666,
              "#ed7953"
             ],
             [
              0.7777777777777778,
              "#fb9f3a"
             ],
             [
              0.8888888888888888,
              "#fdca26"
             ],
             [
              1,
              "#f0f921"
             ]
            ],
            "type": "heatmapgl"
           }
          ],
          "histogram": [
           {
            "marker": {
             "pattern": {
              "fillmode": "overlay",
              "size": 10,
              "solidity": 0.2
             }
            },
            "type": "histogram"
           }
          ],
          "histogram2d": [
           {
            "colorbar": {
             "outlinewidth": 0,
             "ticks": ""
            },
            "colorscale": [
             [
              0,
              "#0d0887"
             ],
             [
              0.1111111111111111,
              "#46039f"
             ],
             [
              0.2222222222222222,
              "#7201a8"
             ],
             [
              0.3333333333333333,
              "#9c179e"
             ],
             [
              0.4444444444444444,
              "#bd3786"
             ],
             [
              0.5555555555555556,
              "#d8576b"
             ],
             [
              0.6666666666666666,
              "#ed7953"
             ],
             [
              0.7777777777777778,
              "#fb9f3a"
             ],
             [
              0.8888888888888888,
              "#fdca26"
             ],
             [
              1,
              "#f0f921"
             ]
            ],
            "type": "histogram2d"
           }
          ],
          "histogram2dcontour": [
           {
            "colorbar": {
             "outlinewidth": 0,
             "ticks": ""
            },
            "colorscale": [
             [
              0,
              "#0d0887"
             ],
             [
              0.1111111111111111,
              "#46039f"
             ],
             [
              0.2222222222222222,
              "#7201a8"
             ],
             [
              0.3333333333333333,
              "#9c179e"
             ],
             [
              0.4444444444444444,
              "#bd3786"
             ],
             [
              0.5555555555555556,
              "#d8576b"
             ],
             [
              0.6666666666666666,
              "#ed7953"
             ],
             [
              0.7777777777777778,
              "#fb9f3a"
             ],
             [
              0.8888888888888888,
              "#fdca26"
             ],
             [
              1,
              "#f0f921"
             ]
            ],
            "type": "histogram2dcontour"
           }
          ],
          "mesh3d": [
           {
            "colorbar": {
             "outlinewidth": 0,
             "ticks": ""
            },
            "type": "mesh3d"
           }
          ],
          "parcoords": [
           {
            "line": {
             "colorbar": {
              "outlinewidth": 0,
              "ticks": ""
             }
            },
            "type": "parcoords"
           }
          ],
          "pie": [
           {
            "automargin": true,
            "type": "pie"
           }
          ],
          "scatter": [
           {
            "fillpattern": {
             "fillmode": "overlay",
             "size": 10,
             "solidity": 0.2
            },
            "type": "scatter"
           }
          ],
          "scatter3d": [
           {
            "line": {
             "colorbar": {
              "outlinewidth": 0,
              "ticks": ""
             }
            },
            "marker": {
             "colorbar": {
              "outlinewidth": 0,
              "ticks": ""
             }
            },
            "type": "scatter3d"
           }
          ],
          "scattercarpet": [
           {
            "marker": {
             "colorbar": {
              "outlinewidth": 0,
              "ticks": ""
             }
            },
            "type": "scattercarpet"
           }
          ],
          "scattergeo": [
           {
            "marker": {
             "colorbar": {
              "outlinewidth": 0,
              "ticks": ""
             }
            },
            "type": "scattergeo"
           }
          ],
          "scattergl": [
           {
            "marker": {
             "colorbar": {
              "outlinewidth": 0,
              "ticks": ""
             }
            },
            "type": "scattergl"
           }
          ],
          "scattermapbox": [
           {
            "marker": {
             "colorbar": {
              "outlinewidth": 0,
              "ticks": ""
             }
            },
            "type": "scattermapbox"
           }
          ],
          "scatterpolar": [
           {
            "marker": {
             "colorbar": {
              "outlinewidth": 0,
              "ticks": ""
             }
            },
            "type": "scatterpolar"
           }
          ],
          "scatterpolargl": [
           {
            "marker": {
             "colorbar": {
              "outlinewidth": 0,
              "ticks": ""
             }
            },
            "type": "scatterpolargl"
           }
          ],
          "scatterternary": [
           {
            "marker": {
             "colorbar": {
              "outlinewidth": 0,
              "ticks": ""
             }
            },
            "type": "scatterternary"
           }
          ],
          "surface": [
           {
            "colorbar": {
             "outlinewidth": 0,
             "ticks": ""
            },
            "colorscale": [
             [
              0,
              "#0d0887"
             ],
             [
              0.1111111111111111,
              "#46039f"
             ],
             [
              0.2222222222222222,
              "#7201a8"
             ],
             [
              0.3333333333333333,
              "#9c179e"
             ],
             [
              0.4444444444444444,
              "#bd3786"
             ],
             [
              0.5555555555555556,
              "#d8576b"
             ],
             [
              0.6666666666666666,
              "#ed7953"
             ],
             [
              0.7777777777777778,
              "#fb9f3a"
             ],
             [
              0.8888888888888888,
              "#fdca26"
             ],
             [
              1,
              "#f0f921"
             ]
            ],
            "type": "surface"
           }
          ],
          "table": [
           {
            "cells": {
             "fill": {
              "color": "#EBF0F8"
             },
             "line": {
              "color": "white"
             }
            },
            "header": {
             "fill": {
              "color": "#C8D4E3"
             },
             "line": {
              "color": "white"
             }
            },
            "type": "table"
           }
          ]
         },
         "layout": {
          "annotationdefaults": {
           "arrowcolor": "#2a3f5f",
           "arrowhead": 0,
           "arrowwidth": 1
          },
          "autotypenumbers": "strict",
          "coloraxis": {
           "colorbar": {
            "outlinewidth": 0,
            "ticks": ""
           }
          },
          "colorscale": {
           "diverging": [
            [
             0,
             "#8e0152"
            ],
            [
             0.1,
             "#c51b7d"
            ],
            [
             0.2,
             "#de77ae"
            ],
            [
             0.3,
             "#f1b6da"
            ],
            [
             0.4,
             "#fde0ef"
            ],
            [
             0.5,
             "#f7f7f7"
            ],
            [
             0.6,
             "#e6f5d0"
            ],
            [
             0.7,
             "#b8e186"
            ],
            [
             0.8,
             "#7fbc41"
            ],
            [
             0.9,
             "#4d9221"
            ],
            [
             1,
             "#276419"
            ]
           ],
           "sequential": [
            [
             0,
             "#0d0887"
            ],
            [
             0.1111111111111111,
             "#46039f"
            ],
            [
             0.2222222222222222,
             "#7201a8"
            ],
            [
             0.3333333333333333,
             "#9c179e"
            ],
            [
             0.4444444444444444,
             "#bd3786"
            ],
            [
             0.5555555555555556,
             "#d8576b"
            ],
            [
             0.6666666666666666,
             "#ed7953"
            ],
            [
             0.7777777777777778,
             "#fb9f3a"
            ],
            [
             0.8888888888888888,
             "#fdca26"
            ],
            [
             1,
             "#f0f921"
            ]
           ],
           "sequentialminus": [
            [
             0,
             "#0d0887"
            ],
            [
             0.1111111111111111,
             "#46039f"
            ],
            [
             0.2222222222222222,
             "#7201a8"
            ],
            [
             0.3333333333333333,
             "#9c179e"
            ],
            [
             0.4444444444444444,
             "#bd3786"
            ],
            [
             0.5555555555555556,
             "#d8576b"
            ],
            [
             0.6666666666666666,
             "#ed7953"
            ],
            [
             0.7777777777777778,
             "#fb9f3a"
            ],
            [
             0.8888888888888888,
             "#fdca26"
            ],
            [
             1,
             "#f0f921"
            ]
           ]
          },
          "colorway": [
           "#636efa",
           "#EF553B",
           "#00cc96",
           "#ab63fa",
           "#FFA15A",
           "#19d3f3",
           "#FF6692",
           "#B6E880",
           "#FF97FF",
           "#FECB52"
          ],
          "font": {
           "color": "#2a3f5f"
          },
          "geo": {
           "bgcolor": "white",
           "lakecolor": "white",
           "landcolor": "#E5ECF6",
           "showlakes": true,
           "showland": true,
           "subunitcolor": "white"
          },
          "hoverlabel": {
           "align": "left"
          },
          "hovermode": "closest",
          "mapbox": {
           "style": "light"
          },
          "paper_bgcolor": "white",
          "plot_bgcolor": "#E5ECF6",
          "polar": {
           "angularaxis": {
            "gridcolor": "white",
            "linecolor": "white",
            "ticks": ""
           },
           "bgcolor": "#E5ECF6",
           "radialaxis": {
            "gridcolor": "white",
            "linecolor": "white",
            "ticks": ""
           }
          },
          "scene": {
           "xaxis": {
            "backgroundcolor": "#E5ECF6",
            "gridcolor": "white",
            "gridwidth": 2,
            "linecolor": "white",
            "showbackground": true,
            "ticks": "",
            "zerolinecolor": "white"
           },
           "yaxis": {
            "backgroundcolor": "#E5ECF6",
            "gridcolor": "white",
            "gridwidth": 2,
            "linecolor": "white",
            "showbackground": true,
            "ticks": "",
            "zerolinecolor": "white"
           },
           "zaxis": {
            "backgroundcolor": "#E5ECF6",
            "gridcolor": "white",
            "gridwidth": 2,
            "linecolor": "white",
            "showbackground": true,
            "ticks": "",
            "zerolinecolor": "white"
           }
          },
          "shapedefaults": {
           "line": {
            "color": "#2a3f5f"
           }
          },
          "ternary": {
           "aaxis": {
            "gridcolor": "white",
            "linecolor": "white",
            "ticks": ""
           },
           "baxis": {
            "gridcolor": "white",
            "linecolor": "white",
            "ticks": ""
           },
           "bgcolor": "#E5ECF6",
           "caxis": {
            "gridcolor": "white",
            "linecolor": "white",
            "ticks": ""
           }
          },
          "title": {
           "x": 0.05
          },
          "xaxis": {
           "automargin": true,
           "gridcolor": "white",
           "linecolor": "white",
           "ticks": "",
           "title": {
            "standoff": 15
           },
           "zerolinecolor": "white",
           "zerolinewidth": 2
          },
          "yaxis": {
           "automargin": true,
           "gridcolor": "white",
           "linecolor": "white",
           "ticks": "",
           "title": {
            "standoff": 15
           },
           "zerolinecolor": "white",
           "zerolinewidth": 2
          }
         }
        },
        "title": {
         "text": "Loading Strategies"
        },
        "xaxis": {
         "autorange": true,
         "range": [
          -0.30886302596239923,
          5.308863025962399
         ],
         "title": {
          "text": "Timestamp"
         },
         "type": "category"
        },
        "yaxis": {
         "autorange": true,
         "range": [
          -0.0825242718446602,
          1.0825242718446602
         ],
         "title": {
          "text": "Strategy"
         },
         "type": "category"
        }
       }
      },
      "image/png": "[encoded data removed]",
      "text/html": [
       "<div>                            <div id=\"aa7822d7-bbd2-499f-be9b-63f5ee17a5eb\" class=\"plotly-graph-div\" style=\"height:525px; width:100%;\"></div>            <script type=\"text/javascript\">                require([\"plotly\"], function(Plotly) {                    window.PLOTLYENV=window.PLOTLYENV || {};                                    if (document.getElementById(\"aa7822d7-bbd2-499f-be9b-63f5ee17a5eb\")) {                    Plotly.newPlot(                        \"aa7822d7-bbd2-499f-be9b-63f5ee17a5eb\",                        [{\"name\":\"summary__bilateral_squat__loading_strategy__bilateral\",\"x\":[\"2022.06.27 08:50:00\",\"2022.08.01 06:47:20\",\"2022.09.01 13:06:32\",\"2022.11.05 08:44:28\",\"2022.11.30 14:06:57\",\"2023.01.05 10:56:07\"],\"y\":[\"hip\",\"hip\",\"knee\",\"knee\",\"knee\",\"knee\"],\"type\":\"scatter\"},{\"name\":\"summary__unilateral_squat__loading_strategy__left_leg\",\"x\":[\"2022.06.27 08:50:00\",\"2022.08.01 06:47:20\",\"2022.09.01 13:06:32\",\"2022.11.05 08:44:28\",\"2022.11.30 14:06:57\",\"2023.01.05 10:56:07\"],\"y\":[\"hip\",\"knee\",\"knee\",\"knee\",\"knee\",\"hip\"],\"type\":\"scatter\"},{\"name\":\"summary__unilateral_squat__loading_strategy__right_leg\",\"x\":[\"2022.06.27 08:50:00\",\"2022.08.01 06:47:20\",\"2022.09.01 13:06:32\",\"2022.11.05 08:44:28\",\"2022.11.30 14:06:57\",\"2023.01.05 10:56:07\"],\"y\":[\"hip\",\"knee\",\"knee\",\"knee\",\"knee\",\"knee\"],\"type\":\"scatter\"},{\"name\":\"summary__lateral_lunge__loading_strategy__left_leg\",\"x\":[\"2022.06.27 08:50:00\",\"2022.08.01 06:47:20\",\"2022.09.01 13:06:32\",\"2022.11.05 08:44:28\",\"2022.11.30 14:06:57\",\"2023.01.05 10:56:07\"],\"y\":[\"knee\",\"knee\",\"knee\",\"hip\",\"knee\",\"knee\"],\"type\":\"scatter\"},{\"name\":\"summary__lateral_lunge__loading_strategy__right_leg\",\"x\":[\"2022.06.27 08:50:00\",\"2022.08.01 06:47:20\",\"2022.09.01 13:06:32\",\"2022.11.05 08:44:28\",\"2022.11.30 14:06:57\",\"2023.01.05 10:56:07\"],\"y\":[\"knee\",\"knee\",\"knee\",\"knee\",\"knee\",\"knee\"],\"type\":\"scatter\"}],                        {\"title\":{\"text\":\"Loading Strategies\"},\"xaxis\":{\"title\":{\"text\":\"Timestamp\"}},\"yaxis\":{\"title\":{\"text\":\"Strategy\"}},\"template\":{\"data\":{\"histogram2dcontour\":[{\"type\":\"histogram2dcontour\",\"colorbar\":{\"outlinewidth\":0,\"ticks\":\"\"},\"colorscale\":[[0.0,\"#0d0887\"],[0.1111111111111111,\"#46039f\"],[0.2222222222222222,\"#7201a8\"],[0.3333333333333333,\"#9c179e\"],[0.4444444444444444,\"#bd3786\"],[0.5555555555555556,\"#d8576b\"],[0.6666666666666666,\"#ed7953\"],[0.7777777777777778,\"#fb9f3a\"],[0.8888888888888888,\"#fdca26\"],[1.0,\"#f0f921\"]]}],\"choropleth\":[{\"type\":\"choropleth\",\"colorbar\":{\"outlinewidth\":0,\"ticks\":\"\"}}],\"histogram2d\":[{\"type\":\"histogram2d\",\"colorbar\":{\"outlinewidth\":0,\"ticks\":\"\"},\"colorscale\":[[0.0,\"#0d0887\"],[0.1111111111111111,\"#46039f\"],[0.2222222222222222,\"#7201a8\"],[0.3333333333333333,\"#9c179e\"],[0.4444444444444444,\"#bd3786\"],[0.5555555555555556,\"#d8576b\"],[0.6666666666666666,\"#ed7953\"],[0.7777777777777778,\"#fb9f3a\"],[0.8888888888888888,\"#fdca26\"],[1.0,\"#f0f921\"]]}],\"heatmap\":[{\"type\":\"heatmap\",\"colorbar\":{\"outlinewidth\":0,\"ticks\":\"\"},\"colorscale\":[[0.0,\"#0d0887\"],[0.1111111111111111,\"#46039f\"],[0.2222222222222222,\"#7201a8\"],[0.3333333333333333,\"#9c179e\"],[0.4444444444444444,\"#bd3786\"],[0.5555555555555556,\"#d8576b\"],[0.6666666666666666,\"#ed7953\"],[0.7777777777777778,\"#fb9f3a\"],[0.8888888888888888,\"#fdca26\"],[1.0,\"#f0f921\"]]}],\"heatmapgl\":[{\"type\":\"heatmapgl\",\"colorbar\":{\"outlinewidth\":0,\"ticks\":\"\"},\"colorscale\":[[0.0,\"#0d0887\"],[0.1111111111111111,\"#46039f\"],[0.2222222222222222,\"#7201a8\"],[0.3333333333333333,\"#9c179e\"],[0.4444444444444444,\"#bd3786\"],[0.5555555555555556,\"#d8576b\"],[0.6666666666666666,\"#ed7953\"],[0.7777777777777778,\"#fb9f3a\"],[0.8888888888888888,\"#fdca26\"],[1.0,\"#f0f921\"]]}],\"contourcarpet\":[{\"type\":\"contourcarpet\",\"colorbar\":{\"outlinewidth\":0,\"ticks\":\"\"}}],\"contour\":[{\"type\":\"contour\",\"colorbar\":{\"outlinewidth\":0,\"ticks\":\"\"},\"colorscale\":[[0.0,\"#0d0887\"],[0.1111111111111111,\"#46039f\"],[0.2222222222222222,\"#7201a8\"],[0.3333333333333333,\"#9c179e\"],[0.4444444444444444,\"#bd3786\"],[0.5555555555555556,\"#d8576b\"],[0.6666666666666666,\"#ed7953\"],[0.7777777777777778,\"#fb9f3a\"],[0.8888888888888888,\"#fdca26\"],[1.0,\"#f0f921\"]]}],\"surface\":[{\"type\":\"surface\",\"colorbar\":{\"outlinewidth\":0,\"ticks\":\"\"},\"colorscale\":[[0.0,\"#0d0887\"],[0.1111111111111111,\"#46039f\"],[0.2222222222222222,\"#7201a8\"],[0.3333333333333333,\"#9c179e\"],[0.4444444444444444,\"#bd3786\"],[0.5555555555555556,\"#d8576b\"],[0.6666666666666666,\"#ed7953\"],[0.7777777777777778,\"#fb9f3a\"],[0.8888888888888888,\"#fdca26\"],[1.0,\"#f0f921\"]]}],\"mesh3d\":[{\"type\":\"mesh3d\",\"colorbar\":{\"outlinewidth\":0,\"ticks\":\"\"}}],\"scatter\":[{\"fillpattern\":{\"fillmode\":\"overlay\",\"size\":10,\"solidity\":0.2},\"type\":\"scatter\"}],\"parcoords\":[{\"type\":\"parcoords\",\"line\":{\"colorbar\":{\"outlinewidth\":0,\"ticks\":\"\"}}}],\"scatterpolargl\":[{\"type\":\"scatterpolargl\",\"marker\":{\"colorbar\":{\"outlinewidth\":0,\"ticks\":\"\"}}}],\"bar\":[{\"error_x\":{\"color\":\"#2a3f5f\"},\"error_y\":{\"color\":\"#2a3f5f\"},\"marker\":{\"line\":{\"color\":\"#E5ECF6\",\"width\":0.5},\"pattern\":{\"fillmode\":\"overlay\",\"size\":10,\"solidity\":0.2}},\"type\":\"bar\"}],\"scattergeo\":[{\"type\":\"scattergeo\",\"marker\":{\"colorbar\":{\"outlinewidth\":0,\"ticks\":\"\"}}}],\"scatterpolar\":[{\"type\":\"scatterpolar\",\"marker\":{\"colorbar\":{\"outlinewidth\":0,\"ticks\":\"\"}}}],\"histogram\":[{\"marker\":{\"pattern\":{\"fillmode\":\"overlay\",\"size\":10,\"solidity\":0.2}},\"type\":\"histogram\"}],\"scattergl\":[{\"type\":\"scattergl\",\"marker\":{\"colorbar\":{\"outlinewidth\":0,\"ticks\":\"\"}}}],\"scatter3d\":[{\"type\":\"scatter3d\",\"line\":{\"colorbar\":{\"outlinewidth\":0,\"ticks\":\"\"}},\"marker\":{\"colorbar\":{\"outlinewidth\":0,\"ticks\":\"\"}}}],\"scattermapbox\":[{\"type\":\"scattermapbox\",\"marker\":{\"colorbar\":{\"outlinewidth\":0,\"ticks\":\"\"}}}],\"scatterternary\":[{\"type\":\"scatterternary\",\"marker\":{\"colorbar\":{\"outlinewidth\":0,\"ticks\":\"\"}}}],\"scattercarpet\":[{\"type\":\"scattercarpet\",\"marker\":{\"colorbar\":{\"outlinewidth\":0,\"ticks\":\"\"}}}],\"carpet\":[{\"aaxis\":{\"endlinecolor\":\"#2a3f5f\",\"gridcolor\":\"white\",\"linecolor\":\"white\",\"minorgridcolor\":\"white\",\"startlinecolor\":\"#2a3f5f\"},\"baxis\":{\"endlinecolor\":\"#2a3f5f\",\"gridcolor\":\"white\",\"linecolor\":\"white\",\"minorgridcolor\":\"white\",\"startlinecolor\":\"#2a3f5f\"},\"type\":\"carpet\"}],\"table\":[{\"cells\":{\"fill\":{\"color\":\"#EBF0F8\"},\"line\":{\"color\":\"white\"}},\"header\":{\"fill\":{\"color\":\"#C8D4E3\"},\"line\":{\"color\":\"white\"}},\"type\":\"table\"}],\"barpolar\":[{\"marker\":{\"line\":{\"color\":\"#E5ECF6\",\"width\":0.5},\"pattern\":{\"fillmode\":\"overlay\",\"size\":10,\"solidity\":0.2}},\"type\":\"barpolar\"}],\"pie\":[{\"automargin\":true,\"type\":\"pie\"}]},\"layout\":{\"autotypenumbers\":\"strict\",\"colorway\":[\"#636efa\",\"#EF553B\",\"#00cc96\",\"#ab63fa\",\"#FFA15A\",\"#19d3f3\",\"#FF6692\",\"#B6E880\",\"#FF97FF\",\"#FECB52\"],\"font\":{\"color\":\"#2a3f5f\"},\"hovermode\":\"closest\",\"hoverlabel\":{\"align\":\"left\"},\"paper_bgcolor\":\"white\",\"plot_bgcolor\":\"#E5ECF6\",\"polar\":{\"bgcolor\":\"#E5ECF6\",\"angularaxis\":{\"gridcolor\":\"white\",\"linecolor\":\"white\",\"ticks\":\"\"},\"radialaxis\":{\"gridcolor\":\"white\",\"linecolor\":\"white\",\"ticks\":\"\"}},\"ternary\":{\"bgcolor\":\"#E5ECF6\",\"aaxis\":{\"gridcolor\":\"white\",\"linecolor\":\"white\",\"ticks\":\"\"},\"baxis\":{\"gridcolor\":\"white\",\"linecolor\":\"white\",\"ticks\":\"\"},\"caxis\":{\"gridcolor\":\"white\",\"linecolor\":\"white\",\"ticks\":\"\"}},\"coloraxis\":{\"colorbar\":{\"outlinewidth\":0,\"ticks\":\"\"}},\"colorscale\":{\"sequential\":[[0.0,\"#0d0887\"],[0.1111111111111111,\"#46039f\"],[0.2222222222222222,\"#7201a8\"],[0.3333333333333333,\"#9c179e\"],[0.4444444444444444,\"#bd3786\"],[0.5555555555555556,\"#d8576b\"],[0.6666666666666666,\"#ed7953\"],[0.7777777777777778,\"#fb9f3a\"],[0.8888888888888888,\"#fdca26\"],[1.0,\"#f0f921\"]],\"sequentialminus\":[[0.0,\"#0d0887\"],[0.1111111111111111,\"#46039f\"],[0.2222222222222222,\"#7201a8\"],[0.3333333333333333,\"#9c179e\"],[0.4444444444444444,\"#bd3786\"],[0.5555555555555556,\"#d8576b\"],[0.6666666666666666,\"#ed7953\"],[0.7777777777777778,\"#fb9f3a\"],[0.8888888888888888,\"#fdca26\"],[1.0,\"#f0f921\"]],\"diverging\":[[0,\"#8e0152\"],[0.1,\"#c51b7d\"],[0.2,\"#de77ae\"],[0.3,\"#f1b6da\"],[0.4,\"#fde0ef\"],[0.5,\"#f7f7f7\"],[0.6,\"#e6f5d0\"],[0.7,\"#b8e186\"],[0.8,\"#7fbc41\"],[0.9,\"#4d9221\"],[1,\"#276419\"]]},\"xaxis\":{\"gridcolor\":\"white\",\"linecolor\":\"white\",\"ticks\":\"\",\"title\":{\"standoff\":15},\"zerolinecolor\":\"white\",\"automargin\":true,\"zerolinewidth\":2},\"yaxis\":{\"gridcolor\":\"white\",\"linecolor\":\"white\",\"ticks\":\"\",\"title\":{\"standoff\":15},\"zerolinecolor\":\"white\",\"automargin\":true,\"zerolinewidth\":2},\"scene\":{\"xaxis\":{\"backgroundcolor\":\"#E5ECF6\",\"gridcolor\":\"white\",\"linecolor\":\"white\",\"showbackground\":true,\"ticks\":\"\",\"zerolinecolor\":\"white\",\"gridwidth\":2},\"yaxis\":{\"backgroundcolor\":\"#E5ECF6\",\"gridcolor\":\"white\",\"linecolor\":\"white\",\"showbackground\":true,\"ticks\":\"\",\"zerolinecolor\":\"white\",\"gridwidth\":2},\"zaxis\":{\"backgroundcolor\":\"#E5ECF6\",\"gridcolor\":\"white\",\"linecolor\":\"white\",\"showbackground\":true,\"ticks\":\"\",\"zerolinecolor\":\"white\",\"gridwidth\":2}},\"shapedefaults\":{\"line\":{\"color\":\"#2a3f5f\"}},\"annotationdefaults\":{\"arrowcolor\":\"#2a3f5f\",\"arrowhead\":0,\"arrowwidth\":1},\"geo\":{\"bgcolor\":\"white\",\"landcolor\":\"#E5ECF6\",\"subunitcolor\":\"white\",\"showland\":true,\"showlakes\":true,\"lakecolor\":\"white\"},\"title\":{\"x\":0.05},\"mapbox\":{\"style\":\"light\"}}}},                        {\"responsive\": true}                    ).then(function(){\n",
       "                            \n",
       "var gd = document.getElementById('aa7822d7-bbd2-499f-be9b-63f5ee17a5eb');\n",
       "var x = new MutationObserver(function (mutations, observer) {{\n",
       "        var display = window.getComputedStyle(gd).display;\n",
       "        if (!display || display === 'none') {{\n",
       "            console.log([gd, 'removed!']);\n",
       "            Plotly.purge(gd);\n",
       "            observer.disconnect();\n",
       "        }}\n",
       "}});\n",
       "\n",
       "// Listen for the removal of the full notebook cells\n",
       "var notebookContainer = gd.closest('#notebook-container');\n",
       "if (notebookContainer) {{\n",
       "    x.observe(notebookContainer, {childList: true});\n",
       "}}\n",
       "\n",
       "// Listen for the clearing of the current output cell\n",
       "var outputEl = gd.closest('.output');\n",
       "if (outputEl) {{\n",
       "    x.observe(outputEl, {childList: true});\n",
       "}}\n",
       "\n",
       "                        })                };                });            </script>        </div>"
      ]
     },
     "metadata": {},
     "output_type": "display_data"
    }
   ],
   "source": [
    "def strategy(playerid):\n",
    "    \n",
    "    one_athlete = df2[df2['meta__person__unique_id'].str.contains(playerid)]\n",
    "    df_strat = one_athlete.filter(regex = re.compile(r'timestamp|summary__bilateral_squat__loading_strategy__bilateral|summary__unilateral_squat__loading_strategy__left_leg|summary__unilateral_squat__loading_strategy__right_leg|summary__lateral_lunge__loading_strategy__left_leg|summary__lateral_lunge__loading_strategy__right_leg'))\n",
    "    \n",
    "    lines = []\n",
    "    for column in df_strat.columns[2:7]:\n",
    "        trace = go.Scatter(x=df_strat['timestamp'],\n",
    "                           y=df_strat[column],\n",
    "                           name = column)\n",
    "        lines.append(trace)\n",
    "    layout = go.Layout(\n",
    "        title='Loading Strategies',\n",
    "        xaxis=dict(title='Timestamp'),\n",
    "        yaxis=dict(title='Strategy')\n",
    "    )\n",
    "\n",
    "# Create the figure and plot it\n",
    "    fig = go.Figure(data=lines, layout=layout)\n",
    "    #fig.show()\n",
    "    return fig\n",
    "\n",
    "strategy(playerid)"
   ]
  },
  {
   "cell_type": "code",
   "execution_count": 78,
   "id": "d08f513d-5789-44a9-a68a-02ee8565edf7",
   "metadata": {
    "tags": []
   },
   "outputs": [],
   "source": [
    "import pandas as pd\n",
    "import plotly.graph_objs as go\n",
    "import plotly.offline as pyo"
   ]
  },
  {
   "cell_type": "code",
   "execution_count": 79,
   "id": "7be6bd28-c940-40f6-9ed8-ced6575849eb",
   "metadata": {
    "tags": []
   },
   "outputs": [
    {
     "data": {
      "application/vnd.plotly.v1+json": {
       "config": {
        "plotlyServerURL": "https://plot.ly"
       },
       "data": [
        {
         "cells": {
          "align": "center",
          "fill": {
           "color": "darkblue"
          },
          "font": {
           "color": "white",
           "family": "Lato",
           "size": 20
          },
          "height": 30,
          "values": [
           [
            "summary__bilateral_squat__loading_strategy__bilateral",
            "summary__unilateral_squat__loading_strategy__left_leg",
            "summary__unilateral_squat__loading_strategy__right_leg",
            "summary__lateral_lunge__loading_strategy__left_leg",
            "summary__lateral_lunge__loading_strategy__right_leg"
           ],
           [
            "hip",
            "hip",
            "hip",
            "knee",
            "knee"
           ],
           [
            "hip",
            "knee",
            "knee",
            "knee",
            "knee"
           ],
           [
            "knee",
            "knee",
            "knee",
            "knee",
            "knee"
           ],
           [
            "knee",
            "knee",
            "knee",
            "hip",
            "knee"
           ],
           [
            "knee",
            "knee",
            "knee",
            "knee",
            "knee"
           ],
           [
            "knee",
            "hip",
            "knee",
            "knee",
            "knee"
           ]
          ]
         },
         "header": {
          "align": "center",
          "fill": {
           "color": "orange"
          },
          "font": {
           "color": "white",
           "family": "Lato",
           "size": 20
          },
          "values": [
           "strategies",
           "2022.06.27 08:50:00",
           "2022.08.01 06:47:20",
           "2022.09.01 13:06:32",
           "2022.11.05 08:44:28",
           "2022.11.30 14:06:57",
           "2023.01.05 10:56:07"
          ]
         },
         "type": "table"
        }
       ],
       "layout": {
        "autosize": true,
        "template": {
         "data": {
          "bar": [
           {
            "error_x": {
             "color": "#2a3f5f"
            },
            "error_y": {
             "color": "#2a3f5f"
            },
            "marker": {
             "line": {
              "color": "#E5ECF6",
              "width": 0.5
             },
             "pattern": {
              "fillmode": "overlay",
              "size": 10,
              "solidity": 0.2
             }
            },
            "type": "bar"
           }
          ],
          "barpolar": [
           {
            "marker": {
             "line": {
              "color": "#E5ECF6",
              "width": 0.5
             },
             "pattern": {
              "fillmode": "overlay",
              "size": 10,
              "solidity": 0.2
             }
            },
            "type": "barpolar"
           }
          ],
          "carpet": [
           {
            "aaxis": {
             "endlinecolor": "#2a3f5f",
             "gridcolor": "white",
             "linecolor": "white",
             "minorgridcolor": "white",
             "startlinecolor": "#2a3f5f"
            },
            "baxis": {
             "endlinecolor": "#2a3f5f",
             "gridcolor": "white",
             "linecolor": "white",
             "minorgridcolor": "white",
             "startlinecolor": "#2a3f5f"
            },
            "type": "carpet"
           }
          ],
          "choropleth": [
           {
            "colorbar": {
             "outlinewidth": 0,
             "ticks": ""
            },
            "type": "choropleth"
           }
          ],
          "contour": [
           {
            "colorbar": {
             "outlinewidth": 0,
             "ticks": ""
            },
            "colorscale": [
             [
              0,
              "#0d0887"
             ],
             [
              0.1111111111111111,
              "#46039f"
             ],
             [
              0.2222222222222222,
              "#7201a8"
             ],
             [
              0.3333333333333333,
              "#9c179e"
             ],
             [
              0.4444444444444444,
              "#bd3786"
             ],
             [
              0.5555555555555556,
              "#d8576b"
             ],
             [
              0.6666666666666666,
              "#ed7953"
             ],
             [
              0.7777777777777778,
              "#fb9f3a"
             ],
             [
              0.8888888888888888,
              "#fdca26"
             ],
             [
              1,
              "#f0f921"
             ]
            ],
            "type": "contour"
           }
          ],
          "contourcarpet": [
           {
            "colorbar": {
             "outlinewidth": 0,
             "ticks": ""
            },
            "type": "contourcarpet"
           }
          ],
          "heatmap": [
           {
            "colorbar": {
             "outlinewidth": 0,
             "ticks": ""
            },
            "colorscale": [
             [
              0,
              "#0d0887"
             ],
             [
              0.1111111111111111,
              "#46039f"
             ],
             [
              0.2222222222222222,
              "#7201a8"
             ],
             [
              0.3333333333333333,
              "#9c179e"
             ],
             [
              0.4444444444444444,
              "#bd3786"
             ],
             [
              0.5555555555555556,
              "#d8576b"
             ],
             [
              0.6666666666666666,
              "#ed7953"
             ],
             [
              0.7777777777777778,
              "#fb9f3a"
             ],
             [
              0.8888888888888888,
              "#fdca26"
             ],
             [
              1,
              "#f0f921"
             ]
            ],
            "type": "heatmap"
           }
          ],
          "heatmapgl": [
           {
            "colorbar": {
             "outlinewidth": 0,
             "ticks": ""
            },
            "colorscale": [
             [
              0,
              "#0d0887"
             ],
             [
              0.1111111111111111,
              "#46039f"
             ],
             [
              0.2222222222222222,
              "#7201a8"
             ],
             [
              0.3333333333333333,
              "#9c179e"
             ],
             [
              0.4444444444444444,
              "#bd3786"
             ],
             [
              0.5555555555555556,
              "#d8576b"
             ],
             [
              0.6666666666666666,
              "#ed7953"
             ],
             [
              0.7777777777777778,
              "#fb9f3a"
             ],
             [
              0.8888888888888888,
              "#fdca26"
             ],
             [
              1,
              "#f0f921"
             ]
            ],
            "type": "heatmapgl"
           }
          ],
          "histogram": [
           {
            "marker": {
             "pattern": {
              "fillmode": "overlay",
              "size": 10,
              "solidity": 0.2
             }
            },
            "type": "histogram"
           }
          ],
          "histogram2d": [
           {
            "colorbar": {
             "outlinewidth": 0,
             "ticks": ""
            },
            "colorscale": [
             [
              0,
              "#0d0887"
             ],
             [
              0.1111111111111111,
              "#46039f"
             ],
             [
              0.2222222222222222,
              "#7201a8"
             ],
             [
              0.3333333333333333,
              "#9c179e"
             ],
             [
              0.4444444444444444,
              "#bd3786"
             ],
             [
              0.5555555555555556,
              "#d8576b"
             ],
             [
              0.6666666666666666,
              "#ed7953"
             ],
             [
              0.7777777777777778,
              "#fb9f3a"
             ],
             [
              0.8888888888888888,
              "#fdca26"
             ],
             [
              1,
              "#f0f921"
             ]
            ],
            "type": "histogram2d"
           }
          ],
          "histogram2dcontour": [
           {
            "colorbar": {
             "outlinewidth": 0,
             "ticks": ""
            },
            "colorscale": [
             [
              0,
              "#0d0887"
             ],
             [
              0.1111111111111111,
              "#46039f"
             ],
             [
              0.2222222222222222,
              "#7201a8"
             ],
             [
              0.3333333333333333,
              "#9c179e"
             ],
             [
              0.4444444444444444,
              "#bd3786"
             ],
             [
              0.5555555555555556,
              "#d8576b"
             ],
             [
              0.6666666666666666,
              "#ed7953"
             ],
             [
              0.7777777777777778,
              "#fb9f3a"
             ],
             [
              0.8888888888888888,
              "#fdca26"
             ],
             [
              1,
              "#f0f921"
             ]
            ],
            "type": "histogram2dcontour"
           }
          ],
          "mesh3d": [
           {
            "colorbar": {
             "outlinewidth": 0,
             "ticks": ""
            },
            "type": "mesh3d"
           }
          ],
          "parcoords": [
           {
            "line": {
             "colorbar": {
              "outlinewidth": 0,
              "ticks": ""
             }
            },
            "type": "parcoords"
           }
          ],
          "pie": [
           {
            "automargin": true,
            "type": "pie"
           }
          ],
          "scatter": [
           {
            "fillpattern": {
             "fillmode": "overlay",
             "size": 10,
             "solidity": 0.2
            },
            "type": "scatter"
           }
          ],
          "scatter3d": [
           {
            "line": {
             "colorbar": {
              "outlinewidth": 0,
              "ticks": ""
             }
            },
            "marker": {
             "colorbar": {
              "outlinewidth": 0,
              "ticks": ""
             }
            },
            "type": "scatter3d"
           }
          ],
          "scattercarpet": [
           {
            "marker": {
             "colorbar": {
              "outlinewidth": 0,
              "ticks": ""
             }
            },
            "type": "scattercarpet"
           }
          ],
          "scattergeo": [
           {
            "marker": {
             "colorbar": {
              "outlinewidth": 0,
              "ticks": ""
             }
            },
            "type": "scattergeo"
           }
          ],
          "scattergl": [
           {
            "marker": {
             "colorbar": {
              "outlinewidth": 0,
              "ticks": ""
             }
            },
            "type": "scattergl"
           }
          ],
          "scattermapbox": [
           {
            "marker": {
             "colorbar": {
              "outlinewidth": 0,
              "ticks": ""
             }
            },
            "type": "scattermapbox"
           }
          ],
          "scatterpolar": [
           {
            "marker": {
             "colorbar": {
              "outlinewidth": 0,
              "ticks": ""
             }
            },
            "type": "scatterpolar"
           }
          ],
          "scatterpolargl": [
           {
            "marker": {
             "colorbar": {
              "outlinewidth": 0,
              "ticks": ""
             }
            },
            "type": "scatterpolargl"
           }
          ],
          "scatterternary": [
           {
            "marker": {
             "colorbar": {
              "outlinewidth": 0,
              "ticks": ""
             }
            },
            "type": "scatterternary"
           }
          ],
          "surface": [
           {
            "colorbar": {
             "outlinewidth": 0,
             "ticks": ""
            },
            "colorscale": [
             [
              0,
              "#0d0887"
             ],
             [
              0.1111111111111111,
              "#46039f"
             ],
             [
              0.2222222222222222,
              "#7201a8"
             ],
             [
              0.3333333333333333,
              "#9c179e"
             ],
             [
              0.4444444444444444,
              "#bd3786"
             ],
             [
              0.5555555555555556,
              "#d8576b"
             ],
             [
              0.6666666666666666,
              "#ed7953"
             ],
             [
              0.7777777777777778,
              "#fb9f3a"
             ],
             [
              0.8888888888888888,
              "#fdca26"
             ],
             [
              1,
              "#f0f921"
             ]
            ],
            "type": "surface"
           }
          ],
          "table": [
           {
            "cells": {
             "fill": {
              "color": "#EBF0F8"
             },
             "line": {
              "color": "white"
             }
            },
            "header": {
             "fill": {
              "color": "#C8D4E3"
             },
             "line": {
              "color": "white"
             }
            },
            "type": "table"
           }
          ]
         },
         "layout": {
          "annotationdefaults": {
           "arrowcolor": "#2a3f5f",
           "arrowhead": 0,
           "arrowwidth": 1
          },
          "autotypenumbers": "strict",
          "coloraxis": {
           "colorbar": {
            "outlinewidth": 0,
            "ticks": ""
           }
          },
          "colorscale": {
           "diverging": [
            [
             0,
             "#8e0152"
            ],
            [
             0.1,
             "#c51b7d"
            ],
            [
             0.2,
             "#de77ae"
            ],
            [
             0.3,
             "#f1b6da"
            ],
            [
             0.4,
             "#fde0ef"
            ],
            [
             0.5,
             "#f7f7f7"
            ],
            [
             0.6,
             "#e6f5d0"
            ],
            [
             0.7,
             "#b8e186"
            ],
            [
             0.8,
             "#7fbc41"
            ],
            [
             0.9,
             "#4d9221"
            ],
            [
             1,
             "#276419"
            ]
           ],
           "sequential": [
            [
             0,
             "#0d0887"
            ],
            [
             0.1111111111111111,
             "#46039f"
            ],
            [
             0.2222222222222222,
             "#7201a8"
            ],
            [
             0.3333333333333333,
             "#9c179e"
            ],
            [
             0.4444444444444444,
             "#bd3786"
            ],
            [
             0.5555555555555556,
             "#d8576b"
            ],
            [
             0.6666666666666666,
             "#ed7953"
            ],
            [
             0.7777777777777778,
             "#fb9f3a"
            ],
            [
             0.8888888888888888,
             "#fdca26"
            ],
            [
             1,
             "#f0f921"
            ]
           ],
           "sequentialminus": [
            [
             0,
             "#0d0887"
            ],
            [
             0.1111111111111111,
             "#46039f"
            ],
            [
             0.2222222222222222,
             "#7201a8"
            ],
            [
             0.3333333333333333,
             "#9c179e"
            ],
            [
             0.4444444444444444,
             "#bd3786"
            ],
            [
             0.5555555555555556,
             "#d8576b"
            ],
            [
             0.6666666666666666,
             "#ed7953"
            ],
            [
             0.7777777777777778,
             "#fb9f3a"
            ],
            [
             0.8888888888888888,
             "#fdca26"
            ],
            [
             1,
             "#f0f921"
            ]
           ]
          },
          "colorway": [
           "#636efa",
           "#EF553B",
           "#00cc96",
           "#ab63fa",
           "#FFA15A",
           "#19d3f3",
           "#FF6692",
           "#B6E880",
           "#FF97FF",
           "#FECB52"
          ],
          "font": {
           "color": "#2a3f5f"
          },
          "geo": {
           "bgcolor": "white",
           "lakecolor": "white",
           "landcolor": "#E5ECF6",
           "showlakes": true,
           "showland": true,
           "subunitcolor": "white"
          },
          "hoverlabel": {
           "align": "left"
          },
          "hovermode": "closest",
          "mapbox": {
           "style": "light"
          },
          "paper_bgcolor": "white",
          "plot_bgcolor": "#E5ECF6",
          "polar": {
           "angularaxis": {
            "gridcolor": "white",
            "linecolor": "white",
            "ticks": ""
           },
           "bgcolor": "#E5ECF6",
           "radialaxis": {
            "gridcolor": "white",
            "linecolor": "white",
            "ticks": ""
           }
          },
          "scene": {
           "xaxis": {
            "backgroundcolor": "#E5ECF6",
            "gridcolor": "white",
            "gridwidth": 2,
            "linecolor": "white",
            "showbackground": true,
            "ticks": "",
            "zerolinecolor": "white"
           },
           "yaxis": {
            "backgroundcolor": "#E5ECF6",
            "gridcolor": "white",
            "gridwidth": 2,
            "linecolor": "white",
            "showbackground": true,
            "ticks": "",
            "zerolinecolor": "white"
           },
           "zaxis": {
            "backgroundcolor": "#E5ECF6",
            "gridcolor": "white",
            "gridwidth": 2,
            "linecolor": "white",
            "showbackground": true,
            "ticks": "",
            "zerolinecolor": "white"
           }
          },
          "shapedefaults": {
           "line": {
            "color": "#2a3f5f"
           }
          },
          "ternary": {
           "aaxis": {
            "gridcolor": "white",
            "linecolor": "white",
            "ticks": ""
           },
           "baxis": {
            "gridcolor": "white",
            "linecolor": "white",
            "ticks": ""
           },
           "bgcolor": "#E5ECF6",
           "caxis": {
            "gridcolor": "white",
            "linecolor": "white",
            "ticks": ""
           }
          },
          "title": {
           "x": 0.05
          },
          "xaxis": {
           "automargin": true,
           "gridcolor": "white",
           "linecolor": "white",
           "ticks": "",
           "title": {
            "standoff": 15
           },
           "zerolinecolor": "white",
           "zerolinewidth": 2
          },
          "yaxis": {
           "automargin": true,
           "gridcolor": "white",
           "linecolor": "white",
           "ticks": "",
           "title": {
            "standoff": 15
           },
           "zerolinecolor": "white",
           "zerolinewidth": 2
          }
         }
        }
       }
      },
      "image/png": "[encoded data removed]",
      "text/html": [
       "<div>                            <div id=\"a9885aa5-5d03-43f1-989c-f62bde9678b5\" class=\"plotly-graph-div\" style=\"height:500px; width:100%;\"></div>            <script type=\"text/javascript\">                require([\"plotly\"], function(Plotly) {                    window.PLOTLYENV=window.PLOTLYENV || {};                                    if (document.getElementById(\"a9885aa5-5d03-43f1-989c-f62bde9678b5\")) {                    Plotly.newPlot(                        \"a9885aa5-5d03-43f1-989c-f62bde9678b5\",                        [{\"cells\":{\"align\":\"center\",\"fill\":{\"color\":\"darkblue\"},\"font\":{\"color\":\"white\",\"family\":\"Lato\",\"size\":20},\"height\":30,\"values\":[[\"summary__bilateral_squat__loading_strategy__bilateral\",\"summary__unilateral_squat__loading_strategy__left_leg\",\"summary__unilateral_squat__loading_strategy__right_leg\",\"summary__lateral_lunge__loading_strategy__left_leg\",\"summary__lateral_lunge__loading_strategy__right_leg\"],[\"hip\",\"hip\",\"hip\",\"knee\",\"knee\"],[\"hip\",\"knee\",\"knee\",\"knee\",\"knee\"],[\"knee\",\"knee\",\"knee\",\"knee\",\"knee\"],[\"knee\",\"knee\",\"knee\",\"hip\",\"knee\"],[\"knee\",\"knee\",\"knee\",\"knee\",\"knee\"],[\"knee\",\"hip\",\"knee\",\"knee\",\"knee\"]]},\"header\":{\"align\":\"center\",\"fill\":{\"color\":\"orange\"},\"font\":{\"color\":\"white\",\"family\":\"Lato\",\"size\":20},\"values\":[\"strategies\",\"2022.06.27 08:50:00\",\"2022.08.01 06:47:20\",\"2022.09.01 13:06:32\",\"2022.11.05 08:44:28\",\"2022.11.30 14:06:57\",\"2023.01.05 10:56:07\"]},\"type\":\"table\"}],                        {\"template\":{\"data\":{\"histogram2dcontour\":[{\"type\":\"histogram2dcontour\",\"colorbar\":{\"outlinewidth\":0,\"ticks\":\"\"},\"colorscale\":[[0.0,\"#0d0887\"],[0.1111111111111111,\"#46039f\"],[0.2222222222222222,\"#7201a8\"],[0.3333333333333333,\"#9c179e\"],[0.4444444444444444,\"#bd3786\"],[0.5555555555555556,\"#d8576b\"],[0.6666666666666666,\"#ed7953\"],[0.7777777777777778,\"#fb9f3a\"],[0.8888888888888888,\"#fdca26\"],[1.0,\"#f0f921\"]]}],\"choropleth\":[{\"type\":\"choropleth\",\"colorbar\":{\"outlinewidth\":0,\"ticks\":\"\"}}],\"histogram2d\":[{\"type\":\"histogram2d\",\"colorbar\":{\"outlinewidth\":0,\"ticks\":\"\"},\"colorscale\":[[0.0,\"#0d0887\"],[0.1111111111111111,\"#46039f\"],[0.2222222222222222,\"#7201a8\"],[0.3333333333333333,\"#9c179e\"],[0.4444444444444444,\"#bd3786\"],[0.5555555555555556,\"#d8576b\"],[0.6666666666666666,\"#ed7953\"],[0.7777777777777778,\"#fb9f3a\"],[0.8888888888888888,\"#fdca26\"],[1.0,\"#f0f921\"]]}],\"heatmap\":[{\"type\":\"heatmap\",\"colorbar\":{\"outlinewidth\":0,\"ticks\":\"\"},\"colorscale\":[[0.0,\"#0d0887\"],[0.1111111111111111,\"#46039f\"],[0.2222222222222222,\"#7201a8\"],[0.3333333333333333,\"#9c179e\"],[0.4444444444444444,\"#bd3786\"],[0.5555555555555556,\"#d8576b\"],[0.6666666666666666,\"#ed7953\"],[0.7777777777777778,\"#fb9f3a\"],[0.8888888888888888,\"#fdca26\"],[1.0,\"#f0f921\"]]}],\"heatmapgl\":[{\"type\":\"heatmapgl\",\"colorbar\":{\"outlinewidth\":0,\"ticks\":\"\"},\"colorscale\":[[0.0,\"#0d0887\"],[0.1111111111111111,\"#46039f\"],[0.2222222222222222,\"#7201a8\"],[0.3333333333333333,\"#9c179e\"],[0.4444444444444444,\"#bd3786\"],[0.5555555555555556,\"#d8576b\"],[0.6666666666666666,\"#ed7953\"],[0.7777777777777778,\"#fb9f3a\"],[0.8888888888888888,\"#fdca26\"],[1.0,\"#f0f921\"]]}],\"contourcarpet\":[{\"type\":\"contourcarpet\",\"colorbar\":{\"outlinewidth\":0,\"ticks\":\"\"}}],\"contour\":[{\"type\":\"contour\",\"colorbar\":{\"outlinewidth\":0,\"ticks\":\"\"},\"colorscale\":[[0.0,\"#0d0887\"],[0.1111111111111111,\"#46039f\"],[0.2222222222222222,\"#7201a8\"],[0.3333333333333333,\"#9c179e\"],[0.4444444444444444,\"#bd3786\"],[0.5555555555555556,\"#d8576b\"],[0.6666666666666666,\"#ed7953\"],[0.7777777777777778,\"#fb9f3a\"],[0.8888888888888888,\"#fdca26\"],[1.0,\"#f0f921\"]]}],\"surface\":[{\"type\":\"surface\",\"colorbar\":{\"outlinewidth\":0,\"ticks\":\"\"},\"colorscale\":[[0.0,\"#0d0887\"],[0.1111111111111111,\"#46039f\"],[0.2222222222222222,\"#7201a8\"],[0.3333333333333333,\"#9c179e\"],[0.4444444444444444,\"#bd3786\"],[0.5555555555555556,\"#d8576b\"],[0.6666666666666666,\"#ed7953\"],[0.7777777777777778,\"#fb9f3a\"],[0.8888888888888888,\"#fdca26\"],[1.0,\"#f0f921\"]]}],\"mesh3d\":[{\"type\":\"mesh3d\",\"colorbar\":{\"outlinewidth\":0,\"ticks\":\"\"}}],\"scatter\":[{\"fillpattern\":{\"fillmode\":\"overlay\",\"size\":10,\"solidity\":0.2},\"type\":\"scatter\"}],\"parcoords\":[{\"type\":\"parcoords\",\"line\":{\"colorbar\":{\"outlinewidth\":0,\"ticks\":\"\"}}}],\"scatterpolargl\":[{\"type\":\"scatterpolargl\",\"marker\":{\"colorbar\":{\"outlinewidth\":0,\"ticks\":\"\"}}}],\"bar\":[{\"error_x\":{\"color\":\"#2a3f5f\"},\"error_y\":{\"color\":\"#2a3f5f\"},\"marker\":{\"line\":{\"color\":\"#E5ECF6\",\"width\":0.5},\"pattern\":{\"fillmode\":\"overlay\",\"size\":10,\"solidity\":0.2}},\"type\":\"bar\"}],\"scattergeo\":[{\"type\":\"scattergeo\",\"marker\":{\"colorbar\":{\"outlinewidth\":0,\"ticks\":\"\"}}}],\"scatterpolar\":[{\"type\":\"scatterpolar\",\"marker\":{\"colorbar\":{\"outlinewidth\":0,\"ticks\":\"\"}}}],\"histogram\":[{\"marker\":{\"pattern\":{\"fillmode\":\"overlay\",\"size\":10,\"solidity\":0.2}},\"type\":\"histogram\"}],\"scattergl\":[{\"type\":\"scattergl\",\"marker\":{\"colorbar\":{\"outlinewidth\":0,\"ticks\":\"\"}}}],\"scatter3d\":[{\"type\":\"scatter3d\",\"line\":{\"colorbar\":{\"outlinewidth\":0,\"ticks\":\"\"}},\"marker\":{\"colorbar\":{\"outlinewidth\":0,\"ticks\":\"\"}}}],\"scattermapbox\":[{\"type\":\"scattermapbox\",\"marker\":{\"colorbar\":{\"outlinewidth\":0,\"ticks\":\"\"}}}],\"scatterternary\":[{\"type\":\"scatterternary\",\"marker\":{\"colorbar\":{\"outlinewidth\":0,\"ticks\":\"\"}}}],\"scattercarpet\":[{\"type\":\"scattercarpet\",\"marker\":{\"colorbar\":{\"outlinewidth\":0,\"ticks\":\"\"}}}],\"carpet\":[{\"aaxis\":{\"endlinecolor\":\"#2a3f5f\",\"gridcolor\":\"white\",\"linecolor\":\"white\",\"minorgridcolor\":\"white\",\"startlinecolor\":\"#2a3f5f\"},\"baxis\":{\"endlinecolor\":\"#2a3f5f\",\"gridcolor\":\"white\",\"linecolor\":\"white\",\"minorgridcolor\":\"white\",\"startlinecolor\":\"#2a3f5f\"},\"type\":\"carpet\"}],\"table\":[{\"cells\":{\"fill\":{\"color\":\"#EBF0F8\"},\"line\":{\"color\":\"white\"}},\"header\":{\"fill\":{\"color\":\"#C8D4E3\"},\"line\":{\"color\":\"white\"}},\"type\":\"table\"}],\"barpolar\":[{\"marker\":{\"line\":{\"color\":\"#E5ECF6\",\"width\":0.5},\"pattern\":{\"fillmode\":\"overlay\",\"size\":10,\"solidity\":0.2}},\"type\":\"barpolar\"}],\"pie\":[{\"automargin\":true,\"type\":\"pie\"}]},\"layout\":{\"autotypenumbers\":\"strict\",\"colorway\":[\"#636efa\",\"#EF553B\",\"#00cc96\",\"#ab63fa\",\"#FFA15A\",\"#19d3f3\",\"#FF6692\",\"#B6E880\",\"#FF97FF\",\"#FECB52\"],\"font\":{\"color\":\"#2a3f5f\"},\"hovermode\":\"closest\",\"hoverlabel\":{\"align\":\"left\"},\"paper_bgcolor\":\"white\",\"plot_bgcolor\":\"#E5ECF6\",\"polar\":{\"bgcolor\":\"#E5ECF6\",\"angularaxis\":{\"gridcolor\":\"white\",\"linecolor\":\"white\",\"ticks\":\"\"},\"radialaxis\":{\"gridcolor\":\"white\",\"linecolor\":\"white\",\"ticks\":\"\"}},\"ternary\":{\"bgcolor\":\"#E5ECF6\",\"aaxis\":{\"gridcolor\":\"white\",\"linecolor\":\"white\",\"ticks\":\"\"},\"baxis\":{\"gridcolor\":\"white\",\"linecolor\":\"white\",\"ticks\":\"\"},\"caxis\":{\"gridcolor\":\"white\",\"linecolor\":\"white\",\"ticks\":\"\"}},\"coloraxis\":{\"colorbar\":{\"outlinewidth\":0,\"ticks\":\"\"}},\"colorscale\":{\"sequential\":[[0.0,\"#0d0887\"],[0.1111111111111111,\"#46039f\"],[0.2222222222222222,\"#7201a8\"],[0.3333333333333333,\"#9c179e\"],[0.4444444444444444,\"#bd3786\"],[0.5555555555555556,\"#d8576b\"],[0.6666666666666666,\"#ed7953\"],[0.7777777777777778,\"#fb9f3a\"],[0.8888888888888888,\"#fdca26\"],[1.0,\"#f0f921\"]],\"sequentialminus\":[[0.0,\"#0d0887\"],[0.1111111111111111,\"#46039f\"],[0.2222222222222222,\"#7201a8\"],[0.3333333333333333,\"#9c179e\"],[0.4444444444444444,\"#bd3786\"],[0.5555555555555556,\"#d8576b\"],[0.6666666666666666,\"#ed7953\"],[0.7777777777777778,\"#fb9f3a\"],[0.8888888888888888,\"#fdca26\"],[1.0,\"#f0f921\"]],\"diverging\":[[0,\"#8e0152\"],[0.1,\"#c51b7d\"],[0.2,\"#de77ae\"],[0.3,\"#f1b6da\"],[0.4,\"#fde0ef\"],[0.5,\"#f7f7f7\"],[0.6,\"#e6f5d0\"],[0.7,\"#b8e186\"],[0.8,\"#7fbc41\"],[0.9,\"#4d9221\"],[1,\"#276419\"]]},\"xaxis\":{\"gridcolor\":\"white\",\"linecolor\":\"white\",\"ticks\":\"\",\"title\":{\"standoff\":15},\"zerolinecolor\":\"white\",\"automargin\":true,\"zerolinewidth\":2},\"yaxis\":{\"gridcolor\":\"white\",\"linecolor\":\"white\",\"ticks\":\"\",\"title\":{\"standoff\":15},\"zerolinecolor\":\"white\",\"automargin\":true,\"zerolinewidth\":2},\"scene\":{\"xaxis\":{\"backgroundcolor\":\"#E5ECF6\",\"gridcolor\":\"white\",\"linecolor\":\"white\",\"showbackground\":true,\"ticks\":\"\",\"zerolinecolor\":\"white\",\"gridwidth\":2},\"yaxis\":{\"backgroundcolor\":\"#E5ECF6\",\"gridcolor\":\"white\",\"linecolor\":\"white\",\"showbackground\":true,\"ticks\":\"\",\"zerolinecolor\":\"white\",\"gridwidth\":2},\"zaxis\":{\"backgroundcolor\":\"#E5ECF6\",\"gridcolor\":\"white\",\"linecolor\":\"white\",\"showbackground\":true,\"ticks\":\"\",\"zerolinecolor\":\"white\",\"gridwidth\":2}},\"shapedefaults\":{\"line\":{\"color\":\"#2a3f5f\"}},\"annotationdefaults\":{\"arrowcolor\":\"#2a3f5f\",\"arrowhead\":0,\"arrowwidth\":1},\"geo\":{\"bgcolor\":\"white\",\"landcolor\":\"#E5ECF6\",\"subunitcolor\":\"white\",\"showland\":true,\"showlakes\":true,\"lakecolor\":\"white\"},\"title\":{\"x\":0.05},\"mapbox\":{\"style\":\"light\"}}},\"height\":500},                        {\"responsive\": true}                    ).then(function(){\n",
       "                            \n",
       "var gd = document.getElementById('a9885aa5-5d03-43f1-989c-f62bde9678b5');\n",
       "var x = new MutationObserver(function (mutations, observer) {{\n",
       "        var display = window.getComputedStyle(gd).display;\n",
       "        if (!display || display === 'none') {{\n",
       "            console.log([gd, 'removed!']);\n",
       "            Plotly.purge(gd);\n",
       "            observer.disconnect();\n",
       "        }}\n",
       "}});\n",
       "\n",
       "// Listen for the removal of the full notebook cells\n",
       "var notebookContainer = gd.closest('#notebook-container');\n",
       "if (notebookContainer) {{\n",
       "    x.observe(notebookContainer, {childList: true});\n",
       "}}\n",
       "\n",
       "// Listen for the clearing of the current output cell\n",
       "var outputEl = gd.closest('.output');\n",
       "if (outputEl) {{\n",
       "    x.observe(outputEl, {childList: true});\n",
       "}}\n",
       "\n",
       "                        })                };                });            </script>        </div>"
      ]
     },
     "metadata": {},
     "output_type": "display_data"
    }
   ],
   "source": [
    "def strategy2(playerid):\n",
    "    \n",
    "    one_athlete = df2[df2['meta__person__unique_id'].str.contains(playerid)]\n",
    "    df_strat = one_athlete.filter(regex = re.compile(r'timestamp|summary__bilateral_squat__loading_strategy__bilateral|summary__unilateral_squat__loading_strategy__left_leg|summary__unilateral_squat__loading_strategy__right_leg|summary__lateral_lunge__loading_strategy__left_leg|summary__lateral_lunge__loading_strategy__right_leg'))\n",
    "\n",
    "    df_strat = df_strat.drop('meta__session__session_timestamp', axis=1)\n",
    "\n",
    "\n",
    "    df_strat.set_index('timestamp', inplace=True)\n",
    "\n",
    "\n",
    "    df_transposed = df_strat.transpose()\n",
    "\n",
    "    df_transposed = df_transposed.reset_index()\n",
    "    df_transposed['strategies'] = df_transposed['index']\n",
    "\n",
    "    df_transposed = df_transposed.drop('index', axis=1)\n",
    "\n",
    "    strategies_col = df_transposed.pop('strategies')\n",
    "    df_transposed.insert(0, 'strategies', strategies_col)\n",
    "\n",
    "\n",
    "    column_width = [max(len(str(val)), 15) for val in df_transposed['strategies']]\n",
    "    column_width[0] = 100\n",
    "    cell_colors = [['blue' if val == 'hip' else 'orange' for val in column] for column in df_transposed.values.tolist()]\n",
    "\n",
    "\n",
    "    fig = go.Figure(data=[go.Table(\n",
    "        header=dict(\n",
    "            values=list(df_transposed.columns),\n",
    "            fill_color='orange',\n",
    "            font=dict(color='white', family=\"Lato\", size=20),\n",
    "            align='center'\n",
    "        ),\n",
    "        cells=dict(\n",
    "            values=df_transposed.values.T,\n",
    "            height=30, # set the height of the cells to 30 pixels\n",
    "            fill_color='darkblue',\n",
    "            font=dict(color='white', family=\"Lato\", size=20),\n",
    "            align='center'\n",
    "        ))])\n",
    "\n",
    "\n",
    "    fig.update_layout(\n",
    "        height=500,\n",
    "    )\n",
    "\n",
    "    \n",
    "    return fig\n",
    "    \n",
    "strategy2(playerid)"
   ]
  },
  {
   "cell_type": "code",
   "execution_count": null,
   "id": "5274f177-2125-444e-a4d6-74b5e15fe53a",
   "metadata": {},
   "outputs": [],
   "source": []
  },
  {
   "cell_type": "code",
   "execution_count": null,
   "id": "94c5a282-007c-475d-bb2b-35f8b3d4ed15",
   "metadata": {},
   "outputs": [],
   "source": []
  },
  {
   "cell_type": "code",
   "execution_count": null,
   "id": "160dc82e-7be6-4f3e-ac35-893c3d0df4b5",
   "metadata": {},
   "outputs": [],
   "source": []
  },
  {
   "cell_type": "code",
   "execution_count": 80,
   "id": "92e9268a-099e-4c29-a723-bf2d95ee6e12",
   "metadata": {},
   "outputs": [
    {
     "name": "stdout",
     "output_type": "stream",
     "text": [
      "Requirement already satisfied: scikit-learn in /usr/local/lib/python3.11/site-packages (1.2.2)\n",
      "Requirement already satisfied: numpy>=1.17.3 in /usr/local/lib/python3.11/site-packages (from scikit-learn) (1.24.1)\n",
      "Requirement already satisfied: scipy>=1.3.2 in /usr/local/lib/python3.11/site-packages (from scikit-learn) (1.10.1)\n",
      "Requirement already satisfied: joblib>=1.1.1 in /usr/local/lib/python3.11/site-packages (from scikit-learn) (1.2.0)\n",
      "Requirement already satisfied: threadpoolctl>=2.0.0 in /usr/local/lib/python3.11/site-packages (from scikit-learn) (3.1.0)\n",
      "\u001b[33mWARNING: Running pip as the 'root' user can result in broken permissions and conflicting behaviour with the system package manager. It is recommended to use a virtual environment instead: https://pip.pypa.io/warnings/venv\u001b[0m\u001b[33m\n",
      "\u001b[0m\n",
      "\u001b[1m[\u001b[0m\u001b[34;49mnotice\u001b[0m\u001b[1;39;49m]\u001b[0m\u001b[39;49m A new release of pip is available: \u001b[0m\u001b[31;49m23.0\u001b[0m\u001b[39;49m -> \u001b[0m\u001b[32;49m23.0.1\u001b[0m\n",
      "\u001b[1m[\u001b[0m\u001b[34;49mnotice\u001b[0m\u001b[1;39;49m]\u001b[0m\u001b[39;49m To update, run: \u001b[0m\u001b[32;49mpip install --upgrade pip\u001b[0m\n",
      "Note: you may need to restart the kernel to use updated packages.\n"
     ]
    }
   ],
   "source": [
    "pip install scikit-learn\n"
   ]
  },
  {
   "cell_type": "code",
   "execution_count": null,
   "id": "b6d81668-bff6-4fd8-a2a2-1ce212bcd2ff",
   "metadata": {},
   "outputs": [],
   "source": []
  },
  {
   "cell_type": "code",
   "execution_count": 81,
   "id": "25c5f746-501d-453c-a2da-71d781794cfc",
   "metadata": {},
   "outputs": [
    {
     "name": "stdout",
     "output_type": "stream",
     "text": [
      "knee    84\n",
      "hip     70\n",
      "Name: summary__bilateral_squat__loading_strategy__bilateral, dtype: int64\n"
     ]
    }
   ],
   "source": [
    "counts = df_sorted2['summary__bilateral_squat__loading_strategy__bilateral'].value_counts()\n",
    "\n",
    "print(counts)"
   ]
  },
  {
   "cell_type": "code",
   "execution_count": 82,
   "id": "a7e34fe9-7c7a-41ce-8bcc-4625f3698530",
   "metadata": {},
   "outputs": [
    {
     "name": "stdout",
     "output_type": "stream",
     "text": [
      "knee    150\n",
      "Name: summary__vertical_jump__landing_strategy__bilateral, dtype: int64\n"
     ]
    }
   ],
   "source": [
    "counts = df_sorted2['summary__vertical_jump__landing_strategy__bilateral'].value_counts()\n",
    "\n",
    "print(counts)"
   ]
  },
  {
   "cell_type": "code",
   "execution_count": 83,
   "id": "81e72513-ced1-4d03-aa3e-8be746032274",
   "metadata": {},
   "outputs": [
    {
     "name": "stdout",
     "output_type": "stream",
     "text": [
      "knee    108\n",
      "hip      46\n",
      "Name: summary__unilateral_squat__loading_strategy__right_leg, dtype: int64\n"
     ]
    }
   ],
   "source": [
    "counts = df_sorted2['summary__unilateral_squat__loading_strategy__right_leg'].value_counts()\n",
    "\n",
    "print(counts)"
   ]
  },
  {
   "cell_type": "code",
   "execution_count": 84,
   "id": "31ec70de-dcaf-4ba2-b793-e4cfbefc2740",
   "metadata": {},
   "outputs": [
    {
     "name": "stdout",
     "output_type": "stream",
     "text": [
      "knee    88\n",
      "hip     66\n",
      "Name: summary__unilateral_squat__loading_strategy__left_leg, dtype: int64\n"
     ]
    }
   ],
   "source": [
    "counts = df_sorted2['summary__unilateral_squat__loading_strategy__left_leg'].value_counts()\n",
    "\n",
    "print(counts)"
   ]
  },
  {
   "cell_type": "code",
   "execution_count": null,
   "id": "a0793552-9acd-43c1-b6a2-3d271e607227",
   "metadata": {},
   "outputs": [],
   "source": []
  },
  {
   "cell_type": "code",
   "execution_count": null,
   "id": "e8e54d38-577a-473c-baeb-52e3b11095ca",
   "metadata": {},
   "outputs": [],
   "source": []
  },
  {
   "cell_type": "code",
   "execution_count": null,
   "id": "90367892-42a3-4295-b446-b98f01d83a71",
   "metadata": {},
   "outputs": [],
   "source": []
  },
  {
   "cell_type": "code",
   "execution_count": 85,
   "id": "f5ed728d-1759-4ee6-bb6e-bdf38beeb43f",
   "metadata": {},
   "outputs": [
    {
     "name": "stdout",
     "output_type": "stream",
     "text": [
      "['meta__session__session_height', 'meta__session__session_weight', 'summary__reverse_lunge_with_rotation__pain__left', 'summary__bilateral_squat__captured', 'summary__bilateral_squat__mobility__depth__unit', 'summary__bilateral_squat__mobility__depth__bilateral', 'summary__bilateral_squat__mobility__hip__unit', 'summary__bilateral_squat__mobility__hip__left', 'summary__bilateral_squat__mobility__hip__right', 'summary__bilateral_squat__mobility__hip__delta', 'summary__bilateral_squat__mobility__hip__left_pct', 'summary__bilateral_squat__mobility__hip__right_pct', 'summary__bilateral_squat__mobility__hip__asymmetry', 'summary__bilateral_squat__mobility__knee__unit', 'summary__bilateral_squat__mobility__knee__left', 'summary__bilateral_squat__mobility__knee__right', 'summary__bilateral_squat__mobility__knee__delta', 'summary__bilateral_squat__mobility__knee__left_pct', 'summary__bilateral_squat__mobility__knee__right_pct', 'summary__bilateral_squat__mobility__knee__asymmetry', 'summary__bilateral_squat__mobility__ankle__unit', 'summary__bilateral_squat__mobility__ankle__left', 'summary__bilateral_squat__mobility__ankle__right', 'summary__bilateral_squat__mobility__ankle__delta', 'summary__bilateral_squat__mobility__ankle__left_pct', 'summary__bilateral_squat__mobility__ankle__right_pct', 'summary__bilateral_squat__mobility__ankle__asymmetry', 'summary__bilateral_squat__mobility__total__unit', 'summary__bilateral_squat__mobility__total__left', 'summary__bilateral_squat__mobility__total__right', 'summary__bilateral_squat__mobility__total__delta', 'summary__bilateral_squat__mobility__total__asymmetry', 'summary__bilateral_squat__alignment__trunk_flex__unit', 'summary__bilateral_squat__alignment__trunk_flex__bilateral', 'summary__bilateral_squat__alignment__max_weight_shift__unit', 'summary__bilateral_squat__alignment__max_weight_shift__left', 'summary__bilateral_squat__alignment__max_weight_shift__right', 'summary__bilateral_squat__alignment__max_weight_shift__delta', 'summary__bilateral_squat__alignment__hip_adduction__unit', 'summary__bilateral_squat__alignment__hip_adduction__left', 'summary__bilateral_squat__alignment__hip_adduction__right', 'summary__bilateral_squat__alignment__hip_adduction__delta', 'summary__bilateral_squat__alignment__fem_rot__unit', 'summary__bilateral_squat__alignment__fem_rot__left', 'summary__bilateral_squat__alignment__fem_rot__right', 'summary__bilateral_squat__alignment__fem_rot__delta', 'summary__bilateral_squat__alignment__dyn_valgus__unit', 'summary__bilateral_squat__alignment__dyn_valgus__left', 'summary__bilateral_squat__alignment__dyn_valgus__right', 'summary__bilateral_squat__alignment__dyn_valgus__delta', 'summary__bilateral_squat__alignment__tib_rot__unit', 'summary__bilateral_squat__alignment__tib_rot__left', 'summary__bilateral_squat__alignment__tib_rot__right', 'summary__bilateral_squat__alignment__tib_rot__delta', 'summary__bilateral_squat__loading_strategy__trunk_flex__unit', 'summary__bilateral_squat__loading_strategy__trunk_flex__bilateral', 'summary__bilateral_squat__loading_strategy__shin_flex__unit', 'summary__bilateral_squat__loading_strategy__shin_flex__left', 'summary__bilateral_squat__loading_strategy__shin_flex__right', 'summary__bilateral_squat__loading_strategy__bilateral', 'summary__bilateral_squat__pain__bilateral', 'summary__unilateral_squat__captured', 'summary__unilateral_squat__mobility__depth__unit', 'summary__unilateral_squat__mobility__depth__left', 'summary__unilateral_squat__mobility__depth__right', 'summary__unilateral_squat__mobility__depth__delta', 'summary__unilateral_squat__mobility__depth__asymmetry', 'summary__unilateral_squat__mobility__hip__unit', 'summary__unilateral_squat__mobility__hip__left', 'summary__unilateral_squat__mobility__hip__right', 'summary__unilateral_squat__mobility__hip__delta', 'summary__unilateral_squat__mobility__hip__left_pct', 'summary__unilateral_squat__mobility__hip__right_pct', 'summary__unilateral_squat__mobility__hip__asymmetry', 'summary__unilateral_squat__mobility__knee__unit', 'summary__unilateral_squat__mobility__knee__left', 'summary__unilateral_squat__mobility__knee__right', 'summary__unilateral_squat__mobility__knee__delta', 'summary__unilateral_squat__mobility__knee__left_pct', 'summary__unilateral_squat__mobility__knee__right_pct', 'summary__unilateral_squat__mobility__knee__asymmetry', 'summary__unilateral_squat__mobility__ankle__unit', 'summary__unilateral_squat__mobility__ankle__left', 'summary__unilateral_squat__mobility__ankle__right', 'summary__unilateral_squat__mobility__ankle__delta', 'summary__unilateral_squat__mobility__ankle__left_pct', 'summary__unilateral_squat__mobility__ankle__right_pct', 'summary__unilateral_squat__mobility__ankle__asymmetry', 'summary__unilateral_squat__mobility__total__unit', 'summary__unilateral_squat__mobility__total__left', 'summary__unilateral_squat__mobility__total__right', 'summary__unilateral_squat__mobility__total__delta', 'summary__unilateral_squat__mobility__total__asymmetry', 'summary__unilateral_squat__alignment__lat_trunk_flex__unit', 'summary__unilateral_squat__alignment__lat_trunk_flex__left', 'summary__unilateral_squat__alignment__lat_trunk_flex__right', 'summary__unilateral_squat__alignment__lat_trunk_flex__delta', 'summary__unilateral_squat__alignment__pelvic_obliquity__unit', 'summary__unilateral_squat__alignment__pelvic_obliquity__left', 'summary__unilateral_squat__alignment__pelvic_obliquity__right', 'summary__unilateral_squat__alignment__pelvic_obliquity__delta', 'summary__unilateral_squat__alignment__hip_adduction__unit', 'summary__unilateral_squat__alignment__hip_adduction__left', 'summary__unilateral_squat__alignment__hip_adduction__right', 'summary__unilateral_squat__alignment__hip_adduction__delta', 'summary__unilateral_squat__alignment__fem_rot__unit', 'summary__unilateral_squat__alignment__fem_rot__left', 'summary__unilateral_squat__alignment__fem_rot__right', 'summary__unilateral_squat__alignment__fem_rot__delta', 'summary__unilateral_squat__alignment__dyn_valgus__unit', 'summary__unilateral_squat__alignment__dyn_valgus__left', 'summary__unilateral_squat__alignment__dyn_valgus__right', 'summary__unilateral_squat__alignment__dyn_valgus__delta', 'summary__unilateral_squat__alignment__tib_rot__unit', 'summary__unilateral_squat__alignment__tib_rot__left', 'summary__unilateral_squat__alignment__tib_rot__right', 'summary__unilateral_squat__alignment__tib_rot__delta', 'summary__unilateral_squat__loading_strategy__trunk_flex__unit', 'summary__unilateral_squat__loading_strategy__trunk_flex__left', 'summary__unilateral_squat__loading_strategy__trunk_flex__right', 'summary__unilateral_squat__loading_strategy__shin_flex__unit', 'summary__unilateral_squat__loading_strategy__shin_flex__left', 'summary__unilateral_squat__loading_strategy__shin_flex__right', 'summary__unilateral_squat__loading_strategy__left_leg', 'summary__unilateral_squat__loading_strategy__right_leg', 'summary__unilateral_squat__pain__right', 'summary__unilateral_squat__pain__left', 'summary__lateral_lunge__captured', 'summary__lateral_lunge__mobility__stride__unit', 'summary__lateral_lunge__mobility__stride__left', 'summary__lateral_lunge__mobility__stride__right', 'summary__lateral_lunge__mobility__stride__delta', 'summary__lateral_lunge__mobility__stride__asymmetry', 'summary__lateral_lunge__mobility__trail_hip_abd__unit', 'summary__lateral_lunge__mobility__trail_hip_abd__left', 'summary__lateral_lunge__mobility__trail_hip_abd__right', 'summary__lateral_lunge__mobility__trail_hip_abd__delta', 'summary__lateral_lunge__mobility__trail_hip_abd__asymmetry', 'summary__lateral_lunge__mobility__hip__unit', 'summary__lateral_lunge__mobility__hip__left', 'summary__lateral_lunge__mobility__hip__right', 'summary__lateral_lunge__mobility__hip__delta', 'summary__lateral_lunge__mobility__hip__left_pct', 'summary__lateral_lunge__mobility__hip__right_pct', 'summary__lateral_lunge__mobility__hip__asymmetry', 'summary__lateral_lunge__mobility__knee__unit', 'summary__lateral_lunge__mobility__knee__left', 'summary__lateral_lunge__mobility__knee__right', 'summary__lateral_lunge__mobility__knee__delta', 'summary__lateral_lunge__mobility__knee__left_pct', 'summary__lateral_lunge__mobility__knee__right_pct', 'summary__lateral_lunge__mobility__knee__asymmetry', 'summary__lateral_lunge__mobility__ankle__unit', 'summary__lateral_lunge__mobility__ankle__left', 'summary__lateral_lunge__mobility__ankle__right', 'summary__lateral_lunge__mobility__ankle__delta', 'summary__lateral_lunge__mobility__ankle__left_pct', 'summary__lateral_lunge__mobility__ankle__right_pct', 'summary__lateral_lunge__mobility__ankle__asymmetry', 'summary__lateral_lunge__mobility__total__unit', 'summary__lateral_lunge__mobility__total__left', 'summary__lateral_lunge__mobility__total__right', 'summary__lateral_lunge__mobility__total__delta', 'summary__lateral_lunge__mobility__total__asymmetry', 'summary__lateral_lunge__alignment__trunk_flex__unit', 'summary__lateral_lunge__alignment__trunk_flex__left', 'summary__lateral_lunge__alignment__trunk_flex__right', 'summary__lateral_lunge__alignment__trunk_flex__delta', 'summary__lateral_lunge__alignment__pelvic_obliquity__unit', 'summary__lateral_lunge__alignment__pelvic_obliquity__left', 'summary__lateral_lunge__alignment__pelvic_obliquity__right', 'summary__lateral_lunge__alignment__pelvic_obliquity__delta', 'summary__lateral_lunge__alignment__hip_adduction__unit', 'summary__lateral_lunge__alignment__hip_adduction__left', 'summary__lateral_lunge__alignment__hip_adduction__right', 'summary__lateral_lunge__alignment__hip_adduction__delta', 'summary__lateral_lunge__alignment__fem_rot__unit', 'summary__lateral_lunge__alignment__fem_rot__left', 'summary__lateral_lunge__alignment__fem_rot__right', 'summary__lateral_lunge__alignment__fem_rot__delta', 'summary__lateral_lunge__alignment__dyn_valgus__unit', 'summary__lateral_lunge__alignment__dyn_valgus__left', 'summary__lateral_lunge__alignment__dyn_valgus__right', 'summary__lateral_lunge__alignment__dyn_valgus__delta', 'summary__lateral_lunge__alignment__tib_rot__unit', 'summary__lateral_lunge__alignment__tib_rot__left', 'summary__lateral_lunge__alignment__tib_rot__right', 'summary__lateral_lunge__alignment__tib_rot__delta', 'summary__lateral_lunge__loading_strategy__left_leg', 'summary__lateral_lunge__loading_strategy__right_leg', 'summary__lateral_lunge__pain__right', 'summary__lateral_lunge__pain__left', 'summary__stork_stance__captured', 'summary__stork_stance__mobility__COM__unit', 'summary__stork_stance__mobility__COM__left', 'summary__stork_stance__mobility__COM__right', 'summary__stork_stance__mobility__COM__delta', 'summary__stork_stance__mobility__hip__unit', 'summary__stork_stance__mobility__hip__left', 'summary__stork_stance__mobility__hip__right', 'summary__stork_stance__mobility__hip__delta', 'summary__stork_stance__mobility__hip__left_pct', 'summary__stork_stance__mobility__hip__right_pct', 'summary__stork_stance__mobility__knee__unit', 'summary__stork_stance__mobility__knee__left', 'summary__stork_stance__mobility__knee__right', 'summary__stork_stance__mobility__knee__delta', 'summary__stork_stance__mobility__knee__left_pct', 'summary__stork_stance__mobility__knee__right_pct', 'summary__stork_stance__mobility__ankle__unit', 'summary__stork_stance__mobility__ankle__left', 'summary__stork_stance__mobility__ankle__right', 'summary__stork_stance__mobility__ankle__delta', 'summary__stork_stance__mobility__ankle__left_pct', 'summary__stork_stance__mobility__ankle__right_pct', 'summary__stork_stance__mobility__total__unit', 'summary__stork_stance__mobility__total__left', 'summary__stork_stance__mobility__total__right', 'summary__stork_stance__mobility__total__delta', 'summary__stork_stance__alignment__lat_trunk_flex__unit', 'summary__stork_stance__alignment__lat_trunk_flex__left', 'summary__stork_stance__alignment__lat_trunk_flex__right', 'summary__stork_stance__alignment__lat_trunk_flex__delta', 'summary__stork_stance__alignment__pelvic_obliquity__unit', 'summary__stork_stance__alignment__pelvic_obliquity__left', 'summary__stork_stance__alignment__pelvic_obliquity__right', 'summary__stork_stance__alignment__pelvic_obliquity__delta', 'summary__stork_stance__alignment__hip_adduction__unit', 'summary__stork_stance__alignment__hip_adduction__left', 'summary__stork_stance__alignment__hip_adduction__right', 'summary__stork_stance__alignment__hip_adduction__delta', 'summary__stork_stance__alignment__fem_lat_tilt__unit', 'summary__stork_stance__alignment__fem_lat_tilt__left', 'summary__stork_stance__alignment__fem_lat_tilt__right', 'summary__stork_stance__alignment__fem_lat_tilt__delta', 'summary__stork_stance__alignment__dyn_valgus__unit', 'summary__stork_stance__alignment__dyn_valgus__left', 'summary__stork_stance__alignment__dyn_valgus__right', 'summary__stork_stance__alignment__dyn_valgus__delta', 'summary__stork_stance__alignment__tib_lat_tilt__unit', 'summary__stork_stance__alignment__tib_lat_tilt__left', 'summary__stork_stance__alignment__tib_lat_tilt__right', 'summary__stork_stance__alignment__tib_lat_tilt__delta', 'summary__stork_stance__pain__right', 'summary__stork_stance__pain__left', 'summary__vertical_jump__captured', 'summary__vertical_jump__mobility__loading__hip_flex__unit', 'summary__vertical_jump__mobility__loading__hip_flex__left', 'summary__vertical_jump__mobility__loading__hip_flex__right', 'summary__vertical_jump__mobility__loading__hip_flex__delta', 'summary__vertical_jump__mobility__loading__hip_flex__left_pct', 'summary__vertical_jump__mobility__loading__hip_flex__right_pct', 'summary__vertical_jump__mobility__loading__hip_flex__asymmetry', 'summary__vertical_jump__mobility__loading__knee_flex__unit', 'summary__vertical_jump__mobility__loading__knee_flex__left', 'summary__vertical_jump__mobility__loading__knee_flex__right', 'summary__vertical_jump__mobility__loading__knee_flex__delta', 'summary__vertical_jump__mobility__loading__knee_flex__left_pct', 'summary__vertical_jump__mobility__loading__knee_flex__right_pct', 'summary__vertical_jump__mobility__loading__knee_flex__asymmetry', 'summary__vertical_jump__mobility__loading__ankle_flex__unit', 'summary__vertical_jump__mobility__loading__ankle_flex__left', 'summary__vertical_jump__mobility__loading__ankle_flex__right', 'summary__vertical_jump__mobility__loading__ankle_flex__delta', 'summary__vertical_jump__mobility__loading__ankle_flex__left_pct', 'summary__vertical_jump__mobility__loading__ankle_flex__right_pct', 'summary__vertical_jump__mobility__loading__ankle_flex__asymmetry', 'summary__vertical_jump__mobility__loading__total__unit', 'summary__vertical_jump__mobility__loading__total__left', 'summary__vertical_jump__mobility__loading__total__right', 'summary__vertical_jump__mobility__loading__total__delta', 'summary__vertical_jump__mobility__loading__total__asymmetry', 'summary__vertical_jump__mobility__landing__hip_flex__unit', 'summary__vertical_jump__mobility__landing__hip_flex__left', 'summary__vertical_jump__mobility__landing__hip_flex__right', 'summary__vertical_jump__mobility__landing__hip_flex__delta', 'summary__vertical_jump__mobility__landing__hip_flex__left_pct', 'summary__vertical_jump__mobility__landing__hip_flex__right_pct', 'summary__vertical_jump__mobility__landing__hip_flex__asymmetry', 'summary__vertical_jump__mobility__landing__knee_flex__unit', 'summary__vertical_jump__mobility__landing__knee_flex__left', 'summary__vertical_jump__mobility__landing__knee_flex__right', 'summary__vertical_jump__mobility__landing__knee_flex__delta', 'summary__vertical_jump__mobility__landing__knee_flex__left_pct', 'summary__vertical_jump__mobility__landing__knee_flex__right_pct', 'summary__vertical_jump__mobility__landing__knee_flex__asymmetry', 'summary__vertical_jump__mobility__landing__ankle_flex__unit', 'summary__vertical_jump__mobility__landing__ankle_flex__left', 'summary__vertical_jump__mobility__landing__ankle_flex__right', 'summary__vertical_jump__mobility__landing__ankle_flex__delta', 'summary__vertical_jump__mobility__landing__ankle_flex__left_pct', 'summary__vertical_jump__mobility__landing__ankle_flex__right_pct', 'summary__vertical_jump__mobility__landing__ankle_flex__asymmetry', 'summary__vertical_jump__mobility__landing__total__unit', 'summary__vertical_jump__mobility__landing__total__left', 'summary__vertical_jump__mobility__landing__total__right', 'summary__vertical_jump__mobility__landing__total__delta', 'summary__vertical_jump__mobility__landing__total__asymmetry', 'summary__vertical_jump__alignment__loading__dyn_val__unit', 'summary__vertical_jump__alignment__loading__dyn_val__left', 'summary__vertical_jump__alignment__loading__dyn_val__right', 'summary__vertical_jump__alignment__loading__dyn_val__delta', 'summary__vertical_jump__alignment__landing__dyn_val__unit', 'summary__vertical_jump__alignment__landing__dyn_val__left', 'summary__vertical_jump__alignment__landing__dyn_val__right', 'summary__vertical_jump__alignment__landing__dyn_val__delta', 'summary__vertical_jump__performance__jump_height__unit', 'summary__vertical_jump__performance__jump_height__bilateral', 'summary__vertical_jump__performance__grf_takeoff__unit', 'summary__vertical_jump__performance__grf_takeoff__left', 'summary__vertical_jump__performance__grf_takeoff__right', 'summary__vertical_jump__performance__grf_takeoff__delta', 'summary__vertical_jump__performance__net_impulse__unit', 'summary__vertical_jump__performance__net_impulse__bilateral', 'summary__vertical_jump__performance__positive_impulse__unit', 'summary__vertical_jump__performance__positive_impulse__bilateral', 'summary__vertical_jump__performance__negative_impulse__unit', 'summary__vertical_jump__performance__negative_impulse__bilateral', 'summary__vertical_jump__performance__peak_grf__unit', 'summary__vertical_jump__performance__peak_grf__bilateral', 'summary__vertical_jump__kinetics__hip_tor__unit', 'summary__vertical_jump__kinetics__hip_tor__left', 'summary__vertical_jump__kinetics__hip_tor__right', 'summary__vertical_jump__kinetics__hip_tor__delta', 'summary__vertical_jump__kinetics__knee_tor__unit', 'summary__vertical_jump__kinetics__knee_tor__left', 'summary__vertical_jump__kinetics__knee_tor__right', 'summary__vertical_jump__kinetics__knee_tor__delta', 'summary__vertical_jump__kinetics__ankle_tor__unit', 'summary__vertical_jump__kinetics__ankle_tor__left', 'summary__vertical_jump__kinetics__ankle_tor__right', 'summary__vertical_jump__kinetics__ankle_tor__delta', 'summary__vertical_jump__stiffness__depth__unit', 'summary__vertical_jump__stiffness__depth__bilateral', 'summary__vertical_jump__stiffness__grf_landing__unit', 'summary__vertical_jump__stiffness__grf_landing__left', 'summary__vertical_jump__stiffness__grf_landing__right', 'summary__vertical_jump__stiffness__grf_landing__delta', 'summary__vertical_jump__stiffness__grf_ratio__unit', 'summary__vertical_jump__stiffness__grf_ratio__left', 'summary__vertical_jump__stiffness__grf_ratio__right', 'summary__vertical_jump__landing_strategy__bilateral', 'summary__vertical_jump__pain__bilateral', 'summary__unilateral_jump__captured', 'summary__unilateral_jump__mobility__loading__hip_flex__unit', 'summary__unilateral_jump__mobility__loading__hip_flex__left', 'summary__unilateral_jump__mobility__loading__hip_flex__right', 'summary__unilateral_jump__mobility__loading__hip_flex__delta', 'summary__unilateral_jump__mobility__loading__hip_flex__left_pct', 'summary__unilateral_jump__mobility__loading__hip_flex__right_pct', 'summary__unilateral_jump__mobility__loading__hip_flex__asymmetry', 'summary__unilateral_jump__mobility__loading__knee_flex__unit', 'summary__unilateral_jump__mobility__loading__knee_flex__left', 'summary__unilateral_jump__mobility__loading__knee_flex__right', 'summary__unilateral_jump__mobility__loading__knee_flex__delta', 'summary__unilateral_jump__mobility__loading__knee_flex__left_pct', 'summary__unilateral_jump__mobility__loading__knee_flex__right_pct', 'summary__unilateral_jump__mobility__loading__knee_flex__asymmetry', 'summary__unilateral_jump__mobility__loading__ankle_flex__unit', 'summary__unilateral_jump__mobility__loading__ankle_flex__left', 'summary__unilateral_jump__mobility__loading__ankle_flex__right', 'summary__unilateral_jump__mobility__loading__ankle_flex__delta', 'summary__unilateral_jump__mobility__loading__ankle_flex__left_pct', 'summary__unilateral_jump__mobility__loading__ankle_flex__right_pct', 'summary__unilateral_jump__mobility__loading__ankle_flex__asymmetry', 'summary__unilateral_jump__mobility__loading__total__unit', 'summary__unilateral_jump__mobility__loading__total__left', 'summary__unilateral_jump__mobility__loading__total__right', 'summary__unilateral_jump__mobility__loading__total__delta', 'summary__unilateral_jump__mobility__loading__total__asymmetry', 'summary__unilateral_jump__mobility__landing__hip_flex__unit', 'summary__unilateral_jump__mobility__landing__hip_flex__left', 'summary__unilateral_jump__mobility__landing__hip_flex__right', 'summary__unilateral_jump__mobility__landing__hip_flex__delta', 'summary__unilateral_jump__mobility__landing__hip_flex__left_pct', 'summary__unilateral_jump__mobility__landing__hip_flex__right_pct', 'summary__unilateral_jump__mobility__landing__hip_flex__asymmetry', 'summary__unilateral_jump__mobility__landing__knee_flex__unit', 'summary__unilateral_jump__mobility__landing__knee_flex__left', 'summary__unilateral_jump__mobility__landing__knee_flex__right', 'summary__unilateral_jump__mobility__landing__knee_flex__delta', 'summary__unilateral_jump__mobility__landing__knee_flex__left_pct', 'summary__unilateral_jump__mobility__landing__knee_flex__right_pct', 'summary__unilateral_jump__mobility__landing__knee_flex__asymmetry', 'summary__unilateral_jump__mobility__landing__ankle_flex__unit', 'summary__unilateral_jump__mobility__landing__ankle_flex__left', 'summary__unilateral_jump__mobility__landing__ankle_flex__right', 'summary__unilateral_jump__mobility__landing__ankle_flex__delta', 'summary__unilateral_jump__mobility__landing__ankle_flex__left_pct', 'summary__unilateral_jump__mobility__landing__ankle_flex__right_pct', 'summary__unilateral_jump__mobility__landing__ankle_flex__asymmetry', 'summary__unilateral_jump__mobility__landing__total__unit', 'summary__unilateral_jump__mobility__landing__total__left', 'summary__unilateral_jump__mobility__landing__total__right', 'summary__unilateral_jump__mobility__landing__total__delta', 'summary__unilateral_jump__mobility__landing__total__asymmetry', 'summary__unilateral_jump__alignment__loading__dyn_val__unit', 'summary__unilateral_jump__alignment__loading__dyn_val__left', 'summary__unilateral_jump__alignment__loading__dyn_val__right', 'summary__unilateral_jump__alignment__loading__dyn_val__delta', 'summary__unilateral_jump__alignment__landing__dyn_val__unit', 'summary__unilateral_jump__alignment__landing__dyn_val__left', 'summary__unilateral_jump__alignment__landing__dyn_val__right', 'summary__unilateral_jump__alignment__landing__dyn_val__delta', 'summary__unilateral_jump__performance__jump_height__unit', 'summary__unilateral_jump__performance__jump_height__left', 'summary__unilateral_jump__performance__jump_height__right', 'summary__unilateral_jump__performance__jump_height__delta', 'summary__unilateral_jump__performance__jump_height__asymmetry', 'summary__unilateral_jump__performance__grf_takeoff__unit', 'summary__unilateral_jump__performance__grf_takeoff__left', 'summary__unilateral_jump__performance__grf_takeoff__right', 'summary__unilateral_jump__performance__grf_takeoff__delta', 'summary__unilateral_jump__performance__net_impulse__unit', 'summary__unilateral_jump__performance__net_impulse__left', 'summary__unilateral_jump__performance__net_impulse__right', 'summary__unilateral_jump__performance__net_impulse__delta', 'summary__unilateral_jump__performance__positive_impulse__unit', 'summary__unilateral_jump__performance__positive_impulse__left', 'summary__unilateral_jump__performance__positive_impulse__right', 'summary__unilateral_jump__performance__positive_impulse__delta', 'summary__unilateral_jump__performance__negative_impulse__unit', 'summary__unilateral_jump__performance__negative_impulse__left', 'summary__unilateral_jump__performance__negative_impulse__right', 'summary__unilateral_jump__performance__negative_impulse__delta', 'summary__unilateral_jump__performance__peak_grf__unit', 'summary__unilateral_jump__performance__peak_grf__left', 'summary__unilateral_jump__performance__peak_grf__right', 'summary__unilateral_jump__performance__peak_grf__delta', 'summary__unilateral_jump__kinetics__hip_tor__unit', 'summary__unilateral_jump__kinetics__hip_tor__left', 'summary__unilateral_jump__kinetics__hip_tor__right', 'summary__unilateral_jump__kinetics__hip_tor__delta', 'summary__unilateral_jump__kinetics__knee_tor__unit', 'summary__unilateral_jump__kinetics__knee_tor__left', 'summary__unilateral_jump__kinetics__knee_tor__right', 'summary__unilateral_jump__kinetics__knee_tor__delta', 'summary__unilateral_jump__kinetics__ankle_tor__unit', 'summary__unilateral_jump__kinetics__ankle_tor__left', 'summary__unilateral_jump__kinetics__ankle_tor__right', 'summary__unilateral_jump__kinetics__ankle_tor__delta', 'summary__unilateral_jump__stiffness__depth__unit', 'summary__unilateral_jump__stiffness__depth__left', 'summary__unilateral_jump__stiffness__depth__right', 'summary__unilateral_jump__stiffness__depth__delta', 'summary__unilateral_jump__stiffness__grf_landing__unit', 'summary__unilateral_jump__stiffness__grf_landing__left', 'summary__unilateral_jump__stiffness__grf_landing__right', 'summary__unilateral_jump__stiffness__grf_landing__delta', 'summary__unilateral_jump__stiffness__grf_ratio__unit', 'summary__unilateral_jump__stiffness__grf_ratio__left', 'summary__unilateral_jump__stiffness__grf_ratio__right', 'summary__unilateral_jump__stiffness__grf_ratio__delta', 'summary__unilateral_jump__landing_strategy__left_leg', 'summary__unilateral_jump__landing_strategy__right_leg', 'summary__unilateral_jump__pain__right', 'summary__unilateral_jump__pain__left', 'summary__drop_jump__captured', 'summary__drop_jump__mobility__landing_1__hip_flex__unit', 'summary__drop_jump__mobility__landing_1__hip_flex__left', 'summary__drop_jump__mobility__landing_1__hip_flex__right', 'summary__drop_jump__mobility__landing_1__hip_flex__delta', 'summary__drop_jump__mobility__landing_1__hip_flex__left_pct', 'summary__drop_jump__mobility__landing_1__hip_flex__right_pct', 'summary__drop_jump__mobility__landing_1__hip_flex__asymmetry', 'summary__drop_jump__mobility__landing_1__knee_flex__unit', 'summary__drop_jump__mobility__landing_1__knee_flex__left', 'summary__drop_jump__mobility__landing_1__knee_flex__right', 'summary__drop_jump__mobility__landing_1__knee_flex__delta', 'summary__drop_jump__mobility__landing_1__knee_flex__left_pct', 'summary__drop_jump__mobility__landing_1__knee_flex__right_pct', 'summary__drop_jump__mobility__landing_1__knee_flex__asymmetry', 'summary__drop_jump__mobility__landing_1__ankle_flex__unit', 'summary__drop_jump__mobility__landing_1__ankle_flex__left', 'summary__drop_jump__mobility__landing_1__ankle_flex__right', 'summary__drop_jump__mobility__landing_1__ankle_flex__delta', 'summary__drop_jump__mobility__landing_1__ankle_flex__left_pct', 'summary__drop_jump__mobility__landing_1__ankle_flex__right_pct', 'summary__drop_jump__mobility__landing_1__ankle_flex__asymmetry', 'summary__drop_jump__mobility__landing_1__total__unit', 'summary__drop_jump__mobility__landing_1__total__left', 'summary__drop_jump__mobility__landing_1__total__right', 'summary__drop_jump__mobility__landing_1__total__delta', 'summary__drop_jump__mobility__landing_1__total__asymmetry', 'summary__drop_jump__alignment__landing_1__dyn_val__unit', 'summary__drop_jump__alignment__landing_1__dyn_val__left', 'summary__drop_jump__alignment__landing_1__dyn_val__right', 'summary__drop_jump__alignment__landing_1__dyn_val__delta', 'summary__drop_jump__performance__jump_height__unit', 'summary__drop_jump__performance__jump_height__bilateral', 'summary__drop_jump__performance__grf_takeoff__unit', 'summary__drop_jump__performance__grf_takeoff__left', 'summary__drop_jump__performance__grf_takeoff__right', 'summary__drop_jump__performance__grf_takeoff__delta', 'summary__drop_jump__performance__net_impulse__unit', 'summary__drop_jump__performance__net_impulse__bilateral', 'summary__drop_jump__performance__positive_impulse__unit', 'summary__drop_jump__performance__positive_impulse__bilateral', 'summary__drop_jump__performance__negative_impulse__unit', 'summary__drop_jump__performance__negative_impulse__bilateral', 'summary__drop_jump__performance__peak_grf__unit', 'summary__drop_jump__performance__peak_grf__bilateral', 'summary__drop_jump__kinetics__hip_tor__unit', 'summary__drop_jump__kinetics__hip_tor__left', 'summary__drop_jump__kinetics__hip_tor__right', 'summary__drop_jump__kinetics__hip_tor__delta', 'summary__drop_jump__kinetics__knee_tor__unit', 'summary__drop_jump__kinetics__knee_tor__left', 'summary__drop_jump__kinetics__knee_tor__right', 'summary__drop_jump__kinetics__knee_tor__delta', 'summary__drop_jump__kinetics__ankle_tor__unit', 'summary__drop_jump__kinetics__ankle_tor__left', 'summary__drop_jump__kinetics__ankle_tor__right', 'summary__drop_jump__kinetics__ankle_tor__delta', 'summary__drop_jump__stiffness__landing_1__depth__unit', 'summary__drop_jump__stiffness__landing_1__depth__bilateral', 'summary__drop_jump__stiffness__landing_1__grf_landing__unit', 'summary__drop_jump__stiffness__landing_1__grf_landing__left', 'summary__drop_jump__stiffness__landing_1__grf_landing__right', 'summary__drop_jump__stiffness__landing_1__grf_landing__delta', 'summary__drop_jump__stiffness__landing_1__grf_ratio__unit', 'summary__drop_jump__stiffness__landing_1__grf_ratio__left', 'summary__drop_jump__stiffness__landing_1__grf_ratio__right', 'summary__drop_jump__stiffness__landing_1__grf_ratio__delta', 'summary__drop_jump__landing_strategy__bilateral', 'summary__drop_jump__pain__bilateral', 'summary__concentric_jump__captured', 'summary__concentric_jump__mobility__loading__hip_flex__unit', 'summary__concentric_jump__mobility__loading__hip_flex__left', 'summary__concentric_jump__mobility__loading__hip_flex__right', 'summary__concentric_jump__mobility__loading__hip_flex__delta', 'summary__concentric_jump__mobility__loading__hip_flex__left_pct', 'summary__concentric_jump__mobility__loading__hip_flex__right_pct', 'summary__concentric_jump__mobility__loading__hip_flex__asymmetry', 'summary__concentric_jump__mobility__loading__knee_flex__unit', 'summary__concentric_jump__mobility__loading__knee_flex__left', 'summary__concentric_jump__mobility__loading__knee_flex__right', 'summary__concentric_jump__mobility__loading__knee_flex__delta', 'summary__concentric_jump__mobility__loading__knee_flex__left_pct', 'summary__concentric_jump__mobility__loading__knee_flex__right_pct', 'summary__concentric_jump__mobility__loading__knee_flex__asymmetry', 'summary__concentric_jump__mobility__loading__ankle_flex__unit', 'summary__concentric_jump__mobility__loading__ankle_flex__left', 'summary__concentric_jump__mobility__loading__ankle_flex__right', 'summary__concentric_jump__mobility__loading__ankle_flex__delta', 'summary__concentric_jump__mobility__loading__ankle_flex__left_pct', 'summary__concentric_jump__mobility__loading__ankle_flex__right_pct', 'summary__concentric_jump__mobility__loading__ankle_flex__asymmetry', 'summary__concentric_jump__mobility__loading__total__unit', 'summary__concentric_jump__mobility__loading__total__left', 'summary__concentric_jump__mobility__loading__total__right', 'summary__concentric_jump__mobility__loading__total__delta', 'summary__concentric_jump__mobility__loading__total__asymmetry', 'summary__concentric_jump__mobility__landing__hip_flex__unit', 'summary__concentric_jump__mobility__landing__hip_flex__left', 'summary__concentric_jump__mobility__landing__hip_flex__right', 'summary__concentric_jump__mobility__landing__hip_flex__delta', 'summary__concentric_jump__mobility__landing__hip_flex__left_pct', 'summary__concentric_jump__mobility__landing__hip_flex__right_pct', 'summary__concentric_jump__mobility__landing__hip_flex__asymmetry', 'summary__concentric_jump__mobility__landing__knee_flex__unit', 'summary__concentric_jump__mobility__landing__knee_flex__left', 'summary__concentric_jump__mobility__landing__knee_flex__right', 'summary__concentric_jump__mobility__landing__knee_flex__delta', 'summary__concentric_jump__mobility__landing__knee_flex__left_pct', 'summary__concentric_jump__mobility__landing__knee_flex__right_pct', 'summary__concentric_jump__mobility__landing__knee_flex__asymmetry', 'summary__concentric_jump__mobility__landing__ankle_flex__unit', 'summary__concentric_jump__mobility__landing__ankle_flex__left', 'summary__concentric_jump__mobility__landing__ankle_flex__right', 'summary__concentric_jump__mobility__landing__ankle_flex__delta', 'summary__concentric_jump__mobility__landing__ankle_flex__left_pct', 'summary__concentric_jump__mobility__landing__ankle_flex__right_pct', 'summary__concentric_jump__mobility__landing__ankle_flex__asymmetry', 'summary__concentric_jump__mobility__landing__total__unit', 'summary__concentric_jump__mobility__landing__total__left', 'summary__concentric_jump__mobility__landing__total__right', 'summary__concentric_jump__mobility__landing__total__delta', 'summary__concentric_jump__mobility__landing__total__asymmetry', 'summary__concentric_jump__alignment__loading__dyn_val__unit', 'summary__concentric_jump__alignment__loading__dyn_val__left', 'summary__concentric_jump__alignment__loading__dyn_val__right', 'summary__concentric_jump__alignment__loading__dyn_val__delta', 'summary__concentric_jump__alignment__landing__dyn_val__unit', 'summary__concentric_jump__alignment__landing__dyn_val__left', 'summary__concentric_jump__alignment__landing__dyn_val__right', 'summary__concentric_jump__alignment__landing__dyn_val__delta', 'summary__concentric_jump__performance__jump_height__unit', 'summary__concentric_jump__performance__jump_height__bilateral', 'summary__concentric_jump__performance__grf_takeoff__unit', 'summary__concentric_jump__performance__grf_takeoff__left', 'summary__concentric_jump__performance__grf_takeoff__right', 'summary__concentric_jump__performance__grf_takeoff__delta', 'summary__concentric_jump__performance__net_impulse__unit', 'summary__concentric_jump__performance__net_impulse__bilateral', 'summary__concentric_jump__performance__positive_impulse__unit', 'summary__concentric_jump__performance__positive_impulse__bilateral', 'summary__concentric_jump__performance__negative_impulse__unit', 'summary__concentric_jump__performance__negative_impulse__bilateral', 'summary__concentric_jump__performance__peak_grf__unit', 'summary__concentric_jump__performance__peak_grf__bilateral', 'summary__concentric_jump__kinetics__hip_tor__unit', 'summary__concentric_jump__kinetics__hip_tor__left', 'summary__concentric_jump__kinetics__hip_tor__right', 'summary__concentric_jump__kinetics__hip_tor__delta', 'summary__concentric_jump__kinetics__knee_tor__unit', 'summary__concentric_jump__kinetics__knee_tor__left', 'summary__concentric_jump__kinetics__knee_tor__right', 'summary__concentric_jump__kinetics__knee_tor__delta', 'summary__concentric_jump__kinetics__ankle_tor__unit', 'summary__concentric_jump__kinetics__ankle_tor__left', 'summary__concentric_jump__kinetics__ankle_tor__right', 'summary__concentric_jump__kinetics__ankle_tor__delta', 'summary__concentric_jump__stiffness__depth__unit', 'summary__concentric_jump__stiffness__depth__bilateral', 'summary__concentric_jump__stiffness__grf_landing__unit', 'summary__concentric_jump__stiffness__grf_landing__left', 'summary__concentric_jump__stiffness__grf_landing__right', 'summary__concentric_jump__stiffness__grf_landing__delta', 'summary__concentric_jump__stiffness__grf_ratio__unit', 'summary__concentric_jump__stiffness__grf_ratio__left', 'summary__concentric_jump__stiffness__grf_ratio__right', 'summary__concentric_jump__stiffness__grf_ratio__delta', 'summary__concentric_jump__landing_strategy__bilateral', 'summary__concentric_jump__pain__bilateral', 'summary__multi_hop__captured', 'summary__multi_hop__mobility__loading__hip_flex__unit', 'summary__multi_hop__mobility__loading__hip_flex__left', 'summary__multi_hop__mobility__loading__hip_flex__right', 'summary__multi_hop__mobility__loading__hip_flex__delta', 'summary__multi_hop__mobility__loading__hip_flex__left_pct', 'summary__multi_hop__mobility__loading__hip_flex__right_pct', 'summary__multi_hop__mobility__loading__hip_flex__asymmetry', 'summary__multi_hop__mobility__loading__knee_flex__unit', 'summary__multi_hop__mobility__loading__knee_flex__left', 'summary__multi_hop__mobility__loading__knee_flex__right', 'summary__multi_hop__mobility__loading__knee_flex__delta', 'summary__multi_hop__mobility__loading__knee_flex__left_pct', 'summary__multi_hop__mobility__loading__knee_flex__right_pct', 'summary__multi_hop__mobility__loading__knee_flex__asymmetry', 'summary__multi_hop__mobility__loading__ankle_flex__unit', 'summary__multi_hop__mobility__loading__ankle_flex__left', 'summary__multi_hop__mobility__loading__ankle_flex__right', 'summary__multi_hop__mobility__loading__ankle_flex__delta', 'summary__multi_hop__mobility__loading__ankle_flex__left_pct', 'summary__multi_hop__mobility__loading__ankle_flex__right_pct', 'summary__multi_hop__mobility__loading__ankle_flex__asymmetry', 'summary__multi_hop__mobility__loading__total__unit', 'summary__multi_hop__mobility__loading__total__left', 'summary__multi_hop__mobility__loading__total__right', 'summary__multi_hop__mobility__loading__total__delta', 'summary__multi_hop__mobility__loading__total__asymmetry', 'summary__multi_hop__alignment__loading__dyn_val__unit', 'summary__multi_hop__alignment__loading__dyn_val__left', 'summary__multi_hop__alignment__loading__dyn_val__right', 'summary__multi_hop__alignment__loading__dyn_val__delta', 'summary__multi_hop__performance__jump_height__unit', 'summary__multi_hop__performance__jump_height__left', 'summary__multi_hop__performance__jump_height__right', 'summary__multi_hop__performance__jump_height__delta', 'summary__multi_hop__performance__jump_height__asymmetry', 'summary__multi_hop__performance__grf_takeoff__unit', 'summary__multi_hop__performance__grf_takeoff__left', 'summary__multi_hop__performance__grf_takeoff__right', 'summary__multi_hop__performance__grf_takeoff__delta', 'summary__multi_hop__performance__net_impulse__unit', 'summary__multi_hop__performance__net_impulse__left', 'summary__multi_hop__performance__net_impulse__right', 'summary__multi_hop__performance__net_impulse__delta', 'summary__multi_hop__performance__positive_impulse__unit', 'summary__multi_hop__performance__positive_impulse__left', 'summary__multi_hop__performance__positive_impulse__right', 'summary__multi_hop__performance__positive_impulse__delta', 'summary__multi_hop__performance__negative_impulse__unit', 'summary__multi_hop__performance__negative_impulse__left', 'summary__multi_hop__performance__negative_impulse__right', 'summary__multi_hop__performance__negative_impulse__delta', 'summary__multi_hop__performance__peak_grf__unit', 'summary__multi_hop__performance__peak_grf__left', 'summary__multi_hop__performance__peak_grf__right', 'summary__multi_hop__performance__peak_grf__delta', 'summary__multi_hop__performance__flight:contact__unit', 'summary__multi_hop__performance__flight:contact__left', 'summary__multi_hop__performance__flight:contact__right', 'summary__multi_hop__performance__flight:contact__delta', 'summary__multi_hop__kinetics__hip_tor__unit', 'summary__multi_hop__kinetics__hip_tor__left', 'summary__multi_hop__kinetics__hip_tor__right', 'summary__multi_hop__kinetics__hip_tor__delta', 'summary__multi_hop__kinetics__knee_tor__unit', 'summary__multi_hop__kinetics__knee_tor__left', 'summary__multi_hop__kinetics__knee_tor__right', 'summary__multi_hop__kinetics__knee_tor__delta', 'summary__multi_hop__kinetics__ankle_tor__unit', 'summary__multi_hop__kinetics__ankle_tor__left', 'summary__multi_hop__kinetics__ankle_tor__right', 'summary__multi_hop__kinetics__ankle_tor__delta', 'summary__multi_hop__stiffness__depth__unit', 'summary__multi_hop__stiffness__depth__left', 'summary__multi_hop__stiffness__depth__right', 'summary__multi_hop__stiffness__depth__delta', 'summary__multi_hop__stiffness__grf_landing__unit', 'summary__multi_hop__stiffness__grf_landing__left', 'summary__multi_hop__stiffness__grf_landing__right', 'summary__multi_hop__stiffness__grf_landing__delta', 'summary__multi_hop__stiffness__grf_ratio__unit', 'summary__multi_hop__stiffness__grf_ratio__left', 'summary__multi_hop__stiffness__grf_ratio__right', 'summary__multi_hop__stiffness__grf_ratio__delta', 'summary__multi_hop__pain__right', 'summary__multi_hop__pain__left']\n",
      "summary__bilateral_squat__mobility__hip__left                   134.307583\n",
      "summary__bilateral_squat__mobility__hip__right                  115.068525\n",
      "summary__bilateral_squat__mobility__hip__delta                        19.2\n",
      "summary__bilateral_squat__mobility__hip__left_pct                43.090281\n",
      "summary__bilateral_squat__mobility__hip__right_pct               42.027007\n",
      "summary__bilateral_squat__mobility__knee__left                  142.889921\n",
      "summary__bilateral_squat__mobility__knee__right                 130.038264\n",
      "summary__bilateral_squat__mobility__knee__delta                       12.9\n",
      "summary__bilateral_squat__mobility__knee__left_pct               45.843777\n",
      "summary__bilateral_squat__mobility__knee__right_pct              47.494474\n",
      "summary__bilateral_squat__mobility__ankle__left                  34.491304\n",
      "summary__bilateral_squat__mobility__ankle__right                 28.689831\n",
      "summary__bilateral_squat__mobility__ankle__delta                       5.8\n",
      "summary__bilateral_squat__mobility__ankle__left_pct              11.065942\n",
      "summary__bilateral_squat__mobility__ankle__right_pct             10.478519\n",
      "summary__bilateral_squat__alignment__max_weight_shift__left        53.9994\n",
      "summary__bilateral_squat__alignment__max_weight_shift__right       46.0006\n",
      "summary__bilateral_squat__alignment__max_weight_shift__delta           8.0\n",
      "summary__bilateral_squat__alignment__dyn_valgus__left              6.53607\n",
      "summary__bilateral_squat__alignment__dyn_valgus__right            6.446922\n",
      "summary__bilateral_squat__alignment__dyn_valgus__delta                 0.1\n",
      "summary__bilateral_squat__loading_strategy__bilateral                  hip\n",
      "Name: 71, dtype: object\n"
     ]
    },
    {
     "data": {
      "text/html": [
       "<div>\n",
       "<style scoped>\n",
       "    .dataframe tbody tr th:only-of-type {\n",
       "        vertical-align: middle;\n",
       "    }\n",
       "\n",
       "    .dataframe tbody tr th {\n",
       "        vertical-align: top;\n",
       "    }\n",
       "\n",
       "    .dataframe thead th {\n",
       "        text-align: right;\n",
       "    }\n",
       "</style>\n",
       "<table border=\"1\" class=\"dataframe\">\n",
       "  <thead>\n",
       "    <tr style=\"text-align: right;\">\n",
       "      <th></th>\n",
       "      <th>71</th>\n",
       "      <th>48</th>\n",
       "      <th>37</th>\n",
       "      <th>33</th>\n",
       "      <th>7</th>\n",
       "    </tr>\n",
       "  </thead>\n",
       "  <tbody>\n",
       "    <tr>\n",
       "      <th>summary__bilateral_squat__mobility__hip__left</th>\n",
       "      <td>134.307583</td>\n",
       "      <td>137.042568</td>\n",
       "      <td>116.046608</td>\n",
       "      <td>103.277631</td>\n",
       "      <td>120.501121</td>\n",
       "    </tr>\n",
       "    <tr>\n",
       "      <th>summary__bilateral_squat__mobility__hip__right</th>\n",
       "      <td>115.068525</td>\n",
       "      <td>133.465858</td>\n",
       "      <td>113.291009</td>\n",
       "      <td>100.667269</td>\n",
       "      <td>129.451824</td>\n",
       "    </tr>\n",
       "    <tr>\n",
       "      <th>summary__bilateral_squat__mobility__hip__delta</th>\n",
       "      <td>19.2</td>\n",
       "      <td>3.5</td>\n",
       "      <td>2.7</td>\n",
       "      <td>2.6</td>\n",
       "      <td>9.0</td>\n",
       "    </tr>\n",
       "    <tr>\n",
       "      <th>summary__bilateral_squat__mobility__hip__left_pct</th>\n",
       "      <td>43.090281</td>\n",
       "      <td>46.720522</td>\n",
       "      <td>42.444233</td>\n",
       "      <td>38.503146</td>\n",
       "      <td>43.275823</td>\n",
       "    </tr>\n",
       "    <tr>\n",
       "      <th>summary__bilateral_squat__mobility__hip__right_pct</th>\n",
       "      <td>42.027007</td>\n",
       "      <td>46.788616</td>\n",
       "      <td>42.287259</td>\n",
       "      <td>39.652934</td>\n",
       "      <td>45.594471</td>\n",
       "    </tr>\n",
       "    <tr>\n",
       "      <th>summary__bilateral_squat__mobility__knee__left</th>\n",
       "      <td>142.889921</td>\n",
       "      <td>117.447234</td>\n",
       "      <td>122.590598</td>\n",
       "      <td>125.989915</td>\n",
       "      <td>122.825776</td>\n",
       "    </tr>\n",
       "    <tr>\n",
       "      <th>summary__bilateral_squat__mobility__knee__right</th>\n",
       "      <td>130.038264</td>\n",
       "      <td>118.99281</td>\n",
       "      <td>121.771386</td>\n",
       "      <td>124.207455</td>\n",
       "      <td>123.772522</td>\n",
       "    </tr>\n",
       "    <tr>\n",
       "      <th>summary__bilateral_squat__mobility__knee__delta</th>\n",
       "      <td>12.9</td>\n",
       "      <td>1.6</td>\n",
       "      <td>0.8</td>\n",
       "      <td>1.8</td>\n",
       "      <td>1.0</td>\n",
       "    </tr>\n",
       "    <tr>\n",
       "      <th>summary__bilateral_squat__mobility__knee__left_pct</th>\n",
       "      <td>45.843777</td>\n",
       "      <td>40.040085</td>\n",
       "      <td>44.837708</td>\n",
       "      <td>46.970559</td>\n",
       "      <td>44.110682</td>\n",
       "    </tr>\n",
       "    <tr>\n",
       "      <th>summary__bilateral_squat__mobility__knee__right_pct</th>\n",
       "      <td>47.494474</td>\n",
       "      <td>41.714855</td>\n",
       "      <td>45.452663</td>\n",
       "      <td>48.925436</td>\n",
       "      <td>43.594154</td>\n",
       "    </tr>\n",
       "    <tr>\n",
       "      <th>summary__bilateral_squat__mobility__ankle__left</th>\n",
       "      <td>34.491304</td>\n",
       "      <td>38.834338</td>\n",
       "      <td>34.772394</td>\n",
       "      <td>38.964122</td>\n",
       "      <td>35.122158</td>\n",
       "    </tr>\n",
       "    <tr>\n",
       "      <th>summary__bilateral_squat__mobility__ankle__right</th>\n",
       "      <td>28.689831</td>\n",
       "      <td>32.794177</td>\n",
       "      <td>32.845748</td>\n",
       "      <td>28.996195</td>\n",
       "      <td>30.695656</td>\n",
       "    </tr>\n",
       "    <tr>\n",
       "      <th>summary__bilateral_squat__mobility__ankle__delta</th>\n",
       "      <td>5.8</td>\n",
       "      <td>6.0</td>\n",
       "      <td>2.0</td>\n",
       "      <td>10.0</td>\n",
       "      <td>4.4</td>\n",
       "    </tr>\n",
       "    <tr>\n",
       "      <th>summary__bilateral_squat__mobility__ankle__left_pct</th>\n",
       "      <td>11.065942</td>\n",
       "      <td>13.239394</td>\n",
       "      <td>12.718059</td>\n",
       "      <td>14.526294</td>\n",
       "      <td>12.613495</td>\n",
       "    </tr>\n",
       "    <tr>\n",
       "      <th>summary__bilateral_squat__mobility__ankle__right_pct</th>\n",
       "      <td>10.478519</td>\n",
       "      <td>11.496529</td>\n",
       "      <td>12.260078</td>\n",
       "      <td>11.421629</td>\n",
       "      <td>10.811375</td>\n",
       "    </tr>\n",
       "    <tr>\n",
       "      <th>summary__bilateral_squat__alignment__max_weight_shift__left</th>\n",
       "      <td>53.9994</td>\n",
       "      <td>44.2445</td>\n",
       "      <td>42.9444</td>\n",
       "      <td>45.4678</td>\n",
       "      <td>44.6375</td>\n",
       "    </tr>\n",
       "    <tr>\n",
       "      <th>summary__bilateral_squat__alignment__max_weight_shift__right</th>\n",
       "      <td>46.0006</td>\n",
       "      <td>55.7555</td>\n",
       "      <td>57.0556</td>\n",
       "      <td>54.5322</td>\n",
       "      <td>55.3625</td>\n",
       "    </tr>\n",
       "    <tr>\n",
       "      <th>summary__bilateral_squat__alignment__max_weight_shift__delta</th>\n",
       "      <td>8.0</td>\n",
       "      <td>11.6</td>\n",
       "      <td>14.2</td>\n",
       "      <td>9.0</td>\n",
       "      <td>10.8</td>\n",
       "    </tr>\n",
       "    <tr>\n",
       "      <th>summary__bilateral_squat__alignment__dyn_valgus__left</th>\n",
       "      <td>6.53607</td>\n",
       "      <td>5.358521</td>\n",
       "      <td>4.525318</td>\n",
       "      <td>3.840544</td>\n",
       "      <td>5.584819</td>\n",
       "    </tr>\n",
       "    <tr>\n",
       "      <th>summary__bilateral_squat__alignment__dyn_valgus__right</th>\n",
       "      <td>6.446922</td>\n",
       "      <td>6.613129</td>\n",
       "      <td>5.083987</td>\n",
       "      <td>6.634842</td>\n",
       "      <td>7.040926</td>\n",
       "    </tr>\n",
       "    <tr>\n",
       "      <th>summary__bilateral_squat__alignment__dyn_valgus__delta</th>\n",
       "      <td>0.1</td>\n",
       "      <td>1.2</td>\n",
       "      <td>0.6</td>\n",
       "      <td>2.8</td>\n",
       "      <td>1.4</td>\n",
       "    </tr>\n",
       "    <tr>\n",
       "      <th>summary__bilateral_squat__loading_strategy__bilateral</th>\n",
       "      <td>hip</td>\n",
       "      <td>knee</td>\n",
       "      <td>hip</td>\n",
       "      <td>hip</td>\n",
       "      <td>hip</td>\n",
       "    </tr>\n",
       "  </tbody>\n",
       "</table>\n",
       "</div>"
      ],
      "text/plain": [
       "                                                            71          48  \\\n",
       "summary__bilateral_squat__mobility__hip__left       134.307583  137.042568   \n",
       "summary__bilateral_squat__mobility__hip__right      115.068525  133.465858   \n",
       "summary__bilateral_squat__mobility__hip__delta            19.2         3.5   \n",
       "summary__bilateral_squat__mobility__hip__left_pct    43.090281   46.720522   \n",
       "summary__bilateral_squat__mobility__hip__right_pct   42.027007   46.788616   \n",
       "summary__bilateral_squat__mobility__knee__left      142.889921  117.447234   \n",
       "summary__bilateral_squat__mobility__knee__right     130.038264   118.99281   \n",
       "summary__bilateral_squat__mobility__knee__delta           12.9         1.6   \n",
       "summary__bilateral_squat__mobility__knee__left_pct   45.843777   40.040085   \n",
       "summary__bilateral_squat__mobility__knee__right...   47.494474   41.714855   \n",
       "summary__bilateral_squat__mobility__ankle__left      34.491304   38.834338   \n",
       "summary__bilateral_squat__mobility__ankle__right     28.689831   32.794177   \n",
       "summary__bilateral_squat__mobility__ankle__delta           5.8         6.0   \n",
       "summary__bilateral_squat__mobility__ankle__left...   11.065942   13.239394   \n",
       "summary__bilateral_squat__mobility__ankle__righ...   10.478519   11.496529   \n",
       "summary__bilateral_squat__alignment__max_weight...     53.9994     44.2445   \n",
       "summary__bilateral_squat__alignment__max_weight...     46.0006     55.7555   \n",
       "summary__bilateral_squat__alignment__max_weight...         8.0        11.6   \n",
       "summary__bilateral_squat__alignment__dyn_valgus...     6.53607    5.358521   \n",
       "summary__bilateral_squat__alignment__dyn_valgus...    6.446922    6.613129   \n",
       "summary__bilateral_squat__alignment__dyn_valgus...         0.1         1.2   \n",
       "summary__bilateral_squat__loading_strategy__bil...         hip        knee   \n",
       "\n",
       "                                                            37          33  \\\n",
       "summary__bilateral_squat__mobility__hip__left       116.046608  103.277631   \n",
       "summary__bilateral_squat__mobility__hip__right      113.291009  100.667269   \n",
       "summary__bilateral_squat__mobility__hip__delta             2.7         2.6   \n",
       "summary__bilateral_squat__mobility__hip__left_pct    42.444233   38.503146   \n",
       "summary__bilateral_squat__mobility__hip__right_pct   42.287259   39.652934   \n",
       "summary__bilateral_squat__mobility__knee__left      122.590598  125.989915   \n",
       "summary__bilateral_squat__mobility__knee__right     121.771386  124.207455   \n",
       "summary__bilateral_squat__mobility__knee__delta            0.8         1.8   \n",
       "summary__bilateral_squat__mobility__knee__left_pct   44.837708   46.970559   \n",
       "summary__bilateral_squat__mobility__knee__right...   45.452663   48.925436   \n",
       "summary__bilateral_squat__mobility__ankle__left      34.772394   38.964122   \n",
       "summary__bilateral_squat__mobility__ankle__right     32.845748   28.996195   \n",
       "summary__bilateral_squat__mobility__ankle__delta           2.0        10.0   \n",
       "summary__bilateral_squat__mobility__ankle__left...   12.718059   14.526294   \n",
       "summary__bilateral_squat__mobility__ankle__righ...   12.260078   11.421629   \n",
       "summary__bilateral_squat__alignment__max_weight...     42.9444     45.4678   \n",
       "summary__bilateral_squat__alignment__max_weight...     57.0556     54.5322   \n",
       "summary__bilateral_squat__alignment__max_weight...        14.2         9.0   \n",
       "summary__bilateral_squat__alignment__dyn_valgus...    4.525318    3.840544   \n",
       "summary__bilateral_squat__alignment__dyn_valgus...    5.083987    6.634842   \n",
       "summary__bilateral_squat__alignment__dyn_valgus...         0.6         2.8   \n",
       "summary__bilateral_squat__loading_strategy__bil...         hip         hip   \n",
       "\n",
       "                                                            7   \n",
       "summary__bilateral_squat__mobility__hip__left       120.501121  \n",
       "summary__bilateral_squat__mobility__hip__right      129.451824  \n",
       "summary__bilateral_squat__mobility__hip__delta             9.0  \n",
       "summary__bilateral_squat__mobility__hip__left_pct    43.275823  \n",
       "summary__bilateral_squat__mobility__hip__right_pct   45.594471  \n",
       "summary__bilateral_squat__mobility__knee__left      122.825776  \n",
       "summary__bilateral_squat__mobility__knee__right     123.772522  \n",
       "summary__bilateral_squat__mobility__knee__delta            1.0  \n",
       "summary__bilateral_squat__mobility__knee__left_pct   44.110682  \n",
       "summary__bilateral_squat__mobility__knee__right...   43.594154  \n",
       "summary__bilateral_squat__mobility__ankle__left      35.122158  \n",
       "summary__bilateral_squat__mobility__ankle__right     30.695656  \n",
       "summary__bilateral_squat__mobility__ankle__delta           4.4  \n",
       "summary__bilateral_squat__mobility__ankle__left...   12.613495  \n",
       "summary__bilateral_squat__mobility__ankle__righ...   10.811375  \n",
       "summary__bilateral_squat__alignment__max_weight...     44.6375  \n",
       "summary__bilateral_squat__alignment__max_weight...     55.3625  \n",
       "summary__bilateral_squat__alignment__max_weight...        10.8  \n",
       "summary__bilateral_squat__alignment__dyn_valgus...    5.584819  \n",
       "summary__bilateral_squat__alignment__dyn_valgus...    7.040926  \n",
       "summary__bilateral_squat__alignment__dyn_valgus...         1.4  \n",
       "summary__bilateral_squat__loading_strategy__bil...         hip  "
      ]
     },
     "execution_count": 85,
     "metadata": {},
     "output_type": "execute_result"
    }
   ],
   "source": [
    "from sklearn.model_selection import train_test_split\n",
    "\n",
    "df3 = df2.drop(['id', 'name', 'version', 'timestamp', 'meta__person__unique_id', 'meta__session__session_guid','meta__session__session_timestamp', \n",
    "                'meta__session__session_datetime','meta__session__unit_mode', 'meta__versions__sample_data','meta__versions__protocol_data', 'meta__versions__report_data', 'meta__versions__data', 'summary__protocol_id', 'summary__protocol_name', \n",
    "                'summary__shoulder_abduction__captured', 'summary__shoulder_abduction__mobility__shoulder_abduction_max__unit', 'summary__shoulder_abduction__mobility__shoulder_abduction_max__left', 'summary__shoulder_abduction__mobility__shoulder_abduction_max__right',\n",
    "                'summary__shoulder_abduction__mobility__shoulder_abduction_max__delta', 'summary__shoulder_abduction__mobility__shoulder_abduction_max__asymmetry', \n",
    "                'summary__shoulder_abduction__alignment__anterior_coronal_deviation_max__unit', 'summary__shoulder_abduction__alignment__anterior_coronal_deviation_max__left', 'summary__shoulder_abduction__alignment__anterior_coronal_deviation_max__right',\n",
    "                'summary__shoulder_abduction__alignment__anterior_coronal_deviation_max__delta', 'summary__shoulder_abduction__alignment__elbow_flexion_during_abduction__unit', \n",
    "                'summary__shoulder_abduction__alignment__elbow_flexion_during_abduction__left', 'summary__shoulder_abduction__alignment__elbow_flexion_during_abduction__right', 'summary__shoulder_abduction__alignment__elbow_flexion_during_abduction__delta',\n",
    "                'summary__shoulder_abduction__pain__bilateral', 'summary__shoulder_horizontal_abduction__captured', 'summary__shoulder_horizontal_abduction__mobility__shoulder_horizontal_abduction_max__unit', 'summary__shoulder_horizontal_abduction__mobility__shoulder_horizontal_abduction_max__left', \n",
    "                'summary__shoulder_horizontal_abduction__mobility__shoulder_horizontal_abduction_max__right', 'summary__shoulder_horizontal_abduction__mobility__shoulder_horizontal_abduction_max__delta', 'summary__shoulder_horizontal_abduction__mobility__shoulder_horizontal_abduction_max__asymmetry', \n",
    "                'summary__shoulder_horizontal_abduction__alignment__inferior_transverse_deviation_max__unit', 'summary__shoulder_horizontal_abduction__alignment__inferior_transverse_deviation_max__left', 'summary__shoulder_horizontal_abduction__alignment__inferior_transverse_deviation_max__right', \n",
    "                'summary__shoulder_horizontal_abduction__alignment__inferior_transverse_deviation_max__delta', 'summary__shoulder_horizontal_abduction__alignment__elbow_flexion__unit', 'summary__shoulder_horizontal_abduction__alignment__elbow_flexion__left', 'summary__shoulder_horizontal_abduction__alignment__elbow_flexion__right',\n",
    "                'summary__shoulder_horizontal_abduction__alignment__elbow_flexion__delta', 'summary__shoulder_horizontal_abduction__pain__bilateral', 'summary__shoulder_internal/external_rotation__captured', 'summary__shoulder_internal/external_rotation__mobility__shoulder_external_rotation_max__unit', 'summary__shoulder_internal/external_rotation__mobility__shoulder_external_rotation_max__left',\n",
    "                'summary__shoulder_internal/external_rotation__mobility__shoulder_external_rotation_max__right', 'summary__shoulder_internal/external_rotation__mobility__shoulder_external_rotation_max__delta', 'summary__shoulder_internal/external_rotation__mobility__shoulder_external_rotation_max__asymmetry', 'summary__shoulder_internal/external_rotation__mobility__shoulder_internal_rotation_max__unit', \n",
    "                'summary__shoulder_internal/external_rotation__mobility__shoulder_internal_rotation_max__left', 'summary__shoulder_internal/external_rotation__mobility__shoulder_internal_rotation_max__right', 'summary__shoulder_internal/external_rotation__mobility__shoulder_internal_rotation_max__delta', 'summary__shoulder_internal/external_rotation__mobility__shoulder_internal_rotation_max__asymmetry', 'summary__shoulder_internal/external_rotation__alignment__superior_transverse_deviation_max_during_external_rotation__unit',\n",
    "                'summary__shoulder_internal/external_rotation__alignment__superior_transverse_deviation_max_during_external_rotation__left', 'summary__shoulder_internal/external_rotation__alignment__superior_transverse_deviation_max_during_external_rotation__right', 'summary__shoulder_internal/external_rotation__alignment__superior_transverse_deviation_max_during_external_rotation__delta', 'summary__shoulder_internal/external_rotation__alignment__inferior_transverse_deviation_max_during_external_rotation__unit', 'summary__shoulder_internal/external_rotation__alignment__inferior_transverse_deviation_max_during_external_rotation__left', 'summary__shoulder_internal/external_rotation__alignment__inferior_transverse_deviation_max_during_external_rotation__right', 'summary__shoulder_internal/external_rotation__alignment__inferior_transverse_deviation_max_during_external_rotation__delta', 'summary__shoulder_internal/external_rotation__alignment__anterior_coronal_deviation_max_during_external_rotation__unit', 'summary__shoulder_internal/external_rotation__alignment__anterior_coronal_deviation_max_during_external_rotation__left', 'summary__shoulder_internal/external_rotation__alignment__anterior_coronal_deviation_max_during_external_rotation__right', 'summary__shoulder_internal/external_rotation__alignment__anterior_coronal_deviation_max_during_external_rotation__delta', 'summary__shoulder_internal/external_rotation__alignment__superior_transverse_deviation_max_during_internal_rotation__unit', 'summary__shoulder_internal/external_rotation__alignment__superior_transverse_deviation_max_during_internal_rotation__left', 'summary__shoulder_internal/external_rotation__alignment__superior_transverse_deviation_max_during_internal_rotation__right', 'summary__shoulder_internal/external_rotation__alignment__superior_transverse_deviation_max_during_internal_rotation__delta', 'summary__shoulder_internal/external_rotation__alignment__inferior_transverse_deviation_max_during_internal_rotation__unit', 'summary__shoulder_internal/external_rotation__alignment__inferior_transverse_deviation_max_during_internal_rotation__left', 'summary__shoulder_internal/external_rotation__alignment__inferior_transverse_deviation_max_during_internal_rotation__right', 'summary__shoulder_internal/external_rotation__alignment__inferior_transverse_deviation_max_during_internal_rotation__delta', 'summary__shoulder_internal/external_rotation__alignment__anterior_coronal_deviation_max_during_internal_rotation__unit', 'summary__shoulder_internal/external_rotation__alignment__anterior_coronal_deviation_max_during_internal_rotation__left', 'summary__shoulder_internal/external_rotation__alignment__anterior_coronal_deviation_max_during_internal_rotation__right', 'summary__shoulder_internal/external_rotation__alignment__anterior_coronal_deviation_max_during_internal_rotation__delta', 'summary__shoulder_internal/external_rotation__pain__bilateral', 'summary__shoulder_flexion/extension__captured', 'summary__shoulder_flexion/extension__mobility__shoulder_flexion_max__unit', \n",
    "                'summary__shoulder_flexion/extension__mobility__shoulder_flexion_max__left', 'summary__shoulder_flexion/extension__mobility__shoulder_flexion_max__right', \n",
    "                'summary__shoulder_flexion/extension__mobility__shoulder_flexion_max__delta', 'summary__shoulder_flexion/extension__mobility__shoulder_flexion_max__asymmetry', 'summary__shoulder_flexion/extension__mobility__shoulder_extension_max__unit', \n",
    "                'summary__shoulder_flexion/extension__mobility__shoulder_extension_max__left', 'summary__shoulder_flexion/extension__mobility__shoulder_extension_max__right', 'summary__shoulder_flexion/extension__mobility__shoulder_extension_max__delta', \n",
    "                'summary__shoulder_flexion/extension__mobility__shoulder_extension_max__asymmetry', 'summary__shoulder_flexion/extension__alignment__elbow_flexion_max_during_flexion__unit', 'summary__shoulder_flexion/extension__alignment__elbow_flexion_max_during_flexion__left', 'summary__shoulder_flexion/extension__alignment__elbow_flexion_max_during_flexion__right', 'summary__shoulder_flexion/extension__alignment__elbow_flexion_max_during_flexion__delta', \n",
    "                'summary__shoulder_flexion/extension__alignment__elbow_flexion_max_during_extension__unit', 'summary__shoulder_flexion/extension__alignment__elbow_flexion_max_during_extension__left', 'summary__shoulder_flexion/extension__alignment__elbow_flexion_max_during_extension__right', 'summary__shoulder_flexion/extension__alignment__elbow_flexion_max_during_extension__delta', 'summary__shoulder_flexion/extension__alignment__sagittal_plane_lateral_deviation_max__unit',\n",
    "                'summary__shoulder_flexion/extension__alignment__sagittal_plane_lateral_deviation_max__left', 'summary__shoulder_flexion/extension__alignment__sagittal_plane_lateral_deviation_max__right', 'summary__shoulder_flexion/extension__alignment__sagittal_plane_lateral_deviation_max__delta', 'summary__shoulder_flexion/extension__pain__bilateral', 'summary__reverse_lunge_with_rotation__captured', 'summary__reverse_lunge_with_rotation__mobility__thoracic_rotation_max__unit', 'summary__reverse_lunge_with_rotation__mobility__thoracic_rotation_max__left', 'summary__reverse_lunge_with_rotation__mobility__thoracic_rotation_max__right', 'summary__reverse_lunge_with_rotation__mobility__thoracic_rotation_max__delta', 'summary__reverse_lunge_with_rotation__mobility__lumbar_rotation_max__unit', 'summary__reverse_lunge_with_rotation__mobility__lumbar_rotation_max__left', 'summary__reverse_lunge_with_rotation__mobility__lumbar_rotation_max__right', 'summary__reverse_lunge_with_rotation__mobility__lumbar_rotation_max__delta', 'summary__reverse_lunge_with_rotation__alignment__thoracic_flexion_max__unit', 'summary__reverse_lunge_with_rotation__alignment__thoracic_flexion_max__left', 'summary__reverse_lunge_with_rotation__alignment__thoracic_flexion_max__right', 'summary__reverse_lunge_with_rotation__alignment__thoracic_flexion_max__delta', 'summary__reverse_lunge_with_rotation__alignment__lumbar_flexion_max__unit', 'summary__reverse_lunge_with_rotation__alignment__lumbar_flexion_max__left', 'summary__reverse_lunge_with_rotation__alignment__lumbar_flexion_max__right', 'summary__reverse_lunge_with_rotation__alignment__lumbar_flexion_max__delta', 'summary__reverse_lunge_with_rotation__pain__right'], axis=1)  # list the columns to drop in the axis parameter\n",
    "\n",
    "\n",
    "print(df3.columns.to_list())\n",
    "\n",
    "df3 = df2.filter(regex = re.compile(r'summary__bilateral_squat__landing_strategy__bilateral|summary__bilateral_squat__mobility__hip__left|summary__bilateral_squat__mobility__hip__right|summary__bilateral_squat__mobility__hip__delta|summary__bilateral_squat__mobility__knee__left|summary__bilateral_squat__mobility__knee__right|summary__bilateral_squat__mobility__knee__delta|summary__bilateral_squat__mobility__ankle__left|summary__bilateral_squat__mobility__ankle__right|summary__bilateral_squat__mobility__ankle__delta|summary__bilateral_squat__alignment__max_weight_shift__left|summary__bilateral_squat__alignment__max_weight_shift__right|summary__bilateral_squat__alignment__max_weight_shift__delta|summary__bilateral_squat__alignment__dyn_valgus__left|summary__bilateral_squat__alignment__dyn_valgus__right|summary__bilateral_squat__alignment__dyn_valgus__delta|summary__bilateral_squat__loading_strategy__bilateral'))\n",
    "\n",
    "\n",
    "df3.columns.to_list()\n",
    "\n",
    "df3.dtypes\n",
    "\n",
    "\n",
    "print(df3.iloc[0])\n",
    "\n",
    "\n",
    "\n",
    "\n",
    "df3.head().T"
   ]
  },
  {
   "cell_type": "code",
   "execution_count": 86,
   "id": "36fee61c-046f-4ace-acfb-13e788db20cc",
   "metadata": {},
   "outputs": [],
   "source": [
    "import pandas as pd\n",
    "from sklearn.ensemble import RandomForestClassifier\n",
    "from sklearn.metrics import accuracy_score, confusion_matrix\n",
    "from sklearn.model_selection import train_test_split\n",
    "from sklearn.model_selection import cross_val_score"
   ]
  },
  {
   "cell_type": "code",
   "execution_count": 87,
   "id": "67789892-ac6f-484d-923a-9621770f0648",
   "metadata": {},
   "outputs": [
    {
     "name": "stdout",
     "output_type": "stream",
     "text": [
      "Accuracy: 0.5483870967741935\n",
      "Confusion Matrix:\n",
      "[[ 9 10]\n",
      " [ 4  8]]\n"
     ]
    }
   ],
   "source": [
    "X = df3.drop(['summary__bilateral_squat__loading_strategy__bilateral'], axis=1)  # independent variables\n",
    "y = df3['summary__bilateral_squat__loading_strategy__bilateral']  # target variable\n",
    "X_train, X_test, y_train, y_test = train_test_split(X, y, test_size=0.2, random_state=42)\n",
    "\n",
    "rfc = RandomForestClassifier(n_estimators=100, random_state=42)\n",
    "\n",
    "rfc.fit(X_train, y_train)\n",
    "\n",
    "y_pred = rfc.predict(X_test)\n",
    "\n",
    "accuracy = accuracy_score(y_test, y_pred)\n",
    "print(\"Accuracy:\", accuracy)\n",
    "\n",
    "cm = confusion_matrix(y_test, y_pred)\n",
    "print(\"Confusion Matrix:\")\n",
    "print(cm)"
   ]
  },
  {
   "cell_type": "code",
   "execution_count": 88,
   "id": "475ce525-9ab0-4250-b5e4-7f38402f0a4e",
   "metadata": {},
   "outputs": [
    {
     "name": "stdout",
     "output_type": "stream",
     "text": [
      "Cross-validation scores: [0.41935484 0.38709677 0.5483871  0.58064516 0.6       ]\n",
      "Average accuracy: 0.5070967741935484\n"
     ]
    }
   ],
   "source": [
    "rfc = RandomForestClassifier(n_estimators=100, random_state=42)\n",
    "\n",
    "#cross-validation\n",
    "X = df3.drop(['summary__bilateral_squat__loading_strategy__bilateral'], axis=1)  # independent variables\n",
    "y = df3['summary__bilateral_squat__loading_strategy__bilateral']  # target variable\n",
    "scores = cross_val_score(rfc, X, y, cv=5)  # cv=5 means 5-fold cross-validation\n",
    "\n",
    "print(\"Cross-validation scores:\", scores)\n",
    "print(\"Average accuracy:\", scores.mean())"
   ]
  },
  {
   "cell_type": "code",
   "execution_count": null,
   "id": "d6f03c10-5291-4033-b45e-c7ba7ced30ab",
   "metadata": {},
   "outputs": [],
   "source": []
  },
  {
   "cell_type": "code",
   "execution_count": null,
   "id": "54be1755-94f3-4bd2-ba80-bbcc920ea1bf",
   "metadata": {},
   "outputs": [],
   "source": []
  },
  {
   "cell_type": "code",
   "execution_count": null,
   "id": "3cf03991-f6a9-43a1-969d-b70a0f54d1ba",
   "metadata": {},
   "outputs": [],
   "source": []
  },
  {
   "cell_type": "code",
   "execution_count": null,
   "id": "ed05bece-6fb5-4b97-96eb-aa73fbb01bfe",
   "metadata": {},
   "outputs": [],
   "source": []
  }
 ],
 "metadata": {
  "kernelspec": {
   "display_name": "Python 3 (ipykernel)",
   "language": "python",
   "name": "python3"
  },
  "language_info": {
   "codemirror_mode": {
    "name": "ipython",
    "version": 3
   },
   "file_extension": ".py",
   "mimetype": "text/x-python",
   "name": "python",
   "nbconvert_exporter": "python",
   "pygments_lexer": "ipython3",
   "version": "3.11.2"
  }
 },
 "nbformat": 4,
 "nbformat_minor": 5
}
