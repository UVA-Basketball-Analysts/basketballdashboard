{
 "cells": [
  {
   "cell_type": "code",
   "execution_count": 1,
   "id": "3bc55b3e-c2df-491a-aeba-0479e5f17e8f",
   "metadata": {
    "tags": []
   },
   "outputs": [],
   "source": [
    "import plotly.express as px\n",
    "import numpy as np\n",
    "import pandas as pd\n",
    "import plotly.express as px\n",
    "import plotly.graph_objects as go\n",
    "import plotly.figure_factory as ff\n",
    "\n",
    "import dash\n",
    "from jupyter_dash import JupyterDash\n",
    "from dash import dcc\n",
    "from dash import html\n",
    "from dash.dependencies import Input, Output\n",
    "import dash_bootstrap_components as dbc\n",
    "from dash_bootstrap_templates import load_figure_template\n",
    "import os"
   ]
  },
  {
   "cell_type": "code",
   "execution_count": 2,
   "id": "f05b9791-1f89-4665-92fb-9e8a4432e363",
   "metadata": {
    "tags": []
   },
   "outputs": [],
   "source": [
    "csv_files = [f for f in os.listdir('.') if f.startswith('report')]\n",
    "\n",
    "# Create an empty list to store the data frames\n",
    "dfs = []\n",
    "\n",
    "# Loop through all CSV files and read them into pandas data frames\n",
    "for file in csv_files:\n",
    "    df = pd.read_csv(file)\n",
    "    dfs.append(df)\n",
    "\n",
    "# Concatenate all data frames into a single data frame\n",
    "result = pd.concat(dfs, ignore_index=True)"
   ]
  },
  {
   "cell_type": "code",
   "execution_count": 3,
   "id": "7bf65b9b-36b8-462d-bd58-a31a9de86c90",
   "metadata": {
    "tags": []
   },
   "outputs": [],
   "source": [
    "bilateral_varis = [\"summary__vertical_jump__mobility__loading__hip_flex__right\",\n",
    "\"summary__vertical_jump__mobility__loading__hip_flex__delta\",\n",
    "\"summary__vertical_jump__mobility__loading__knee_flex__left\",\n",
    "\"summary__vertical_jump__mobility__loading__knee_flex__right\",\n",
    "\"summary__vertical_jump__mobility__loading__knee_flex__delta\",\n",
    "\"summary__vertical_jump__mobility__loading__ankle_flex__left\",\n",
    "\"summary__vertical_jump__mobility__loading__ankle_flex__right\",\n",
    "\"summary__vertical_jump__mobility__loading__ankle_flex__delta\",\n",
    "\"summary__vertical_jump__mobility__landing__hip_flex__left\",\n",
    "\"summary__vertical_jump__mobility__landing__hip_flex__right\",\n",
    "\"summary__vertical_jump__mobility__landing__hip_flex__delta\",\n",
    "\"summary__vertical_jump__mobility__landing__knee_flex__left\",\n",
    "\"summary__vertical_jump__mobility__landing__knee_flex__right\",\n",
    "\"summary__vertical_jump__mobility__landing__knee_flex__delta\",\n",
    "\"summary__vertical_jump__mobility__landing__ankle_flex__left\",\n",
    "\"summary__vertical_jump__mobility__landing__ankle_flex__right\",\n",
    "\"summary__vertical_jump__mobility__landing__ankle_flex__delta\",\n",
    "\"summary__vertical_jump__alignment__loading__dyn_val__left\",\n",
    "\"summary__vertical_jump__alignment__loading__dyn_val__right\",\n",
    "\"summary__vertical_jump__alignment__loading__dyn_val__delta\",\n",
    "\"summary__vertical_jump__alignment__landing__dyn_val__left\",\n",
    "\"summary__vertical_jump__alignment__landing__dyn_val__right\",\n",
    "\"summary__vertical_jump__alignment__landing__dyn_val__delta\",\n",
    "\"summary__vertical_jump__performance__grf_takeoff__left\",\n",
    "\"summary__vertical_jump__performance__grf_takeoff__right\",\n",
    "\"summary__vertical_jump__performance__grf_takeoff__delta\",\n",
    "\"summary__vertical_jump__performance__peak_grf__bilateral\",\n",
    "\"summary__vertical_jump__landing_strategy__bilateral\",\n",
    "\"summary__concentric_jump__mobility__loading__hip_flex__left\",\n",
    "\"summary__concentric_jump__mobility__loading__hip_flex__right\",\n",
    "\"summary__concentric_jump__mobility__loading__hip_flex__delta\",\n",
    "\"summary__concentric_jump__mobility__loading__knee_flex__left\",\n",
    "\"summary__concentric_jump__mobility__loading__knee_flex__right\",\n",
    "\"summary__concentric_jump__mobility__loading__knee_flex__delta\",\n",
    "\"summary__concentric_jump__mobility__loading__ankle_flex__left\",\n",
    "\"summary__concentric_jump__mobility__loading__ankle_flex__right\",\n",
    "\"summary__concentric_jump__mobility__loading__ankle_flex__delta\",\n",
    "\"summary__concentric_jump__alignment__loading__dyn_val__left\",\n",
    "\"summary__concentric_jump__alignment__loading__dyn_val__right\",\n",
    "\"summary__concentric_jump__alignment__loading__dyn_val__delta\",\n",
    "\"summary__concentric_jump__performance__jump_height__bilateral\",\n",
    "\"summary__concentric_jump__performance__grf_takeoff__left\",\n",
    "\"summary__concentric_jump__performance__grf_takeoff__right\",\n",
    "\"summary__concentric_jump__performance__grf_takeoff__delta\",\n",
    "\"summary__concentric_jump__landing_strategy__bilateral\",        \n",
    "\"meta__person__unique_id\",\n",
    "\"timestamp\"]\n",
    "\n",
    "variable_choice = [\"summary__vertical_jump__mobility__loading__hip_flex__right\",\n",
    "\"summary__vertical_jump__mobility__loading__hip_flex__delta\",\n",
    "\"summary__vertical_jump__mobility__loading__knee_flex__left\",\n",
    "\"summary__vertical_jump__mobility__loading__knee_flex__right\",\n",
    "\"summary__vertical_jump__mobility__loading__knee_flex__delta\",\n",
    "\"summary__vertical_jump__mobility__loading__ankle_flex__left\",\n",
    "\"summary__vertical_jump__mobility__loading__ankle_flex__right\",\n",
    "\"summary__vertical_jump__mobility__loading__ankle_flex__delta\",\n",
    "\"summary__vertical_jump__mobility__landing__hip_flex__left\",\n",
    "\"summary__vertical_jump__mobility__landing__hip_flex__right\",\n",
    "\"summary__vertical_jump__mobility__landing__hip_flex__delta\",\n",
    "\"summary__vertical_jump__mobility__landing__knee_flex__left\",\n",
    "\"summary__vertical_jump__mobility__landing__knee_flex__right\",\n",
    "\"summary__vertical_jump__mobility__landing__knee_flex__delta\",\n",
    "\"summary__vertical_jump__mobility__landing__ankle_flex__left\",\n",
    "\"summary__vertical_jump__mobility__landing__ankle_flex__right\",\n",
    "\"summary__vertical_jump__mobility__landing__ankle_flex__delta\",\n",
    "\"summary__vertical_jump__alignment__loading__dyn_val__left\",\n",
    "\"summary__vertical_jump__alignment__loading__dyn_val__right\",\n",
    "\"summary__vertical_jump__alignment__loading__dyn_val__delta\",\n",
    "\"summary__vertical_jump__alignment__landing__dyn_val__left\",\n",
    "\"summary__vertical_jump__alignment__landing__dyn_val__right\",\n",
    "\"summary__vertical_jump__alignment__landing__dyn_val__delta\",\n",
    "\"summary__vertical_jump__performance__grf_takeoff__left\",\n",
    "\"summary__vertical_jump__performance__grf_takeoff__right\",\n",
    "\"summary__vertical_jump__performance__grf_takeoff__delta\",\n",
    "\"summary__vertical_jump__performance__peak_grf__bilateral\",\n",
    "\"summary__vertical_jump__landing_strategy__bilateral\",\n",
    "\"summary__concentric_jump__mobility__loading__hip_flex__left\",\n",
    "\"summary__concentric_jump__mobility__loading__hip_flex__right\",\n",
    "\"summary__concentric_jump__mobility__loading__hip_flex__delta\",\n",
    "\"summary__concentric_jump__mobility__loading__knee_flex__left\",\n",
    "\"summary__concentric_jump__mobility__loading__knee_flex__right\",\n",
    "\"summary__concentric_jump__mobility__loading__knee_flex__delta\",\n",
    "\"summary__concentric_jump__mobility__loading__ankle_flex__left\",\n",
    "\"summary__concentric_jump__mobility__loading__ankle_flex__right\",\n",
    "\"summary__concentric_jump__mobility__loading__ankle_flex__delta\",\n",
    "\"summary__concentric_jump__alignment__loading__dyn_val__left\",\n",
    "\"summary__concentric_jump__alignment__loading__dyn_val__right\",\n",
    "\"summary__concentric_jump__alignment__loading__dyn_val__delta\",\n",
    "\"summary__concentric_jump__performance__jump_height__bilateral\",\n",
    "\"summary__concentric_jump__performance__grf_takeoff__left\",\n",
    "\"summary__concentric_jump__performance__grf_takeoff__right\",\n",
    "\"summary__concentric_jump__performance__grf_takeoff__delta\",\n",
    "\"summary__concentric_jump__landing_strategy__bilateral\"]"
   ]
  },
  {
   "cell_type": "code",
   "execution_count": 4,
   "id": "a55c263c-a436-4b2b-9afd-9e3b30351fa7",
   "metadata": {
    "tags": []
   },
   "outputs": [],
   "source": [
    "users = result[\"meta__person__unique_id\"].unique()"
   ]
  },
  {
   "cell_type": "code",
   "execution_count": 5,
   "id": "80778587-4771-4b36-997e-c86e4bae509b",
   "metadata": {
    "tags": []
   },
   "outputs": [
    {
     "name": "stdout",
     "output_type": "stream",
     "text": [
      "Dash is running on http://0.0.0.0:8050/\n",
      "\n"
     ]
    },
    {
     "name": "stderr",
     "output_type": "stream",
     "text": [
      "\u001b[33m * Tip: There are .env or .flaskenv files present. Do \"pip install python-dotenv\" to use them.\u001b[0m\n"
     ]
    },
    {
     "name": "stdout",
     "output_type": "stream",
     "text": [
      "Dash app running on http://0.0.0.0:8050/\n"
     ]
    }
   ],
   "source": [
    "app = JupyterDash(__name__, external_stylesheets=[dbc.themes.BOOTSTRAP])\n",
    "\n",
    "\n",
    "app.layout = html.Div([\n",
    "    html.H1('Analysis of Vertical vs. Concentric Jump', style={'text-align': 'center'}),\n",
    "    dcc.Tabs([\n",
    "        dcc.Tab(children=[\n",
    "            html.Div([\n",
    "                html.Label('Select User:', style={'font-weight': 'bold'}),\n",
    "                dcc.Dropdown(options=[{'label': i, 'value': i} for i in users], id='user-dropdown', style={'width': '600px'})\n",
    "            ], style={'display': 'inline-block', 'vertical-align': 'top'}),\n",
    "            html.Div([\n",
    "                html.Label('Select Variables:', style={'font-weight': 'bold'}),\n",
    "                dcc.Dropdown(options=[{'label': i, 'value': i} for i in variable_choice], id='variable-dropdown', style={'width': '600px'}, multi=True)\n",
    "            ], style={'display': 'inline-block', 'vertical-align': 'top'}),\n",
    "            html.Div([\n",
    "                dcc.Graph(id='WL_graph', style={'width': '50%', 'display': 'inline-block'})\n",
    "            ])\n",
    "        ]),\n",
    "    ])\n",
    "])\n",
    "\n",
    "@app.callback(\n",
    "    [Output('WL_graph', 'figure')],\n",
    "    [Input('user-dropdown', 'value'),\n",
    "     Input('variable-dropdown', 'value')])\n",
    "\n",
    "def update_graphs(unique_id, variables):\n",
    "    \n",
    "    user_df = result.query(\"meta__person__unique_id == @unique_id\")\n",
    "    melted_df = pd.melt(user_df, id_vars=['timestamp'], value_vars=variables)\n",
    "\n",
    "    fig1 = px.scatter(melted_df,\n",
    "                   x=\"timestamp\",\n",
    "                   y=\"value\",\n",
    "                   color = \"variable\")\n",
    "    \n",
    "    fig1.update_layout(width=1750, height=800, autosize=False)\n",
    "    \n",
    "    return (fig1,)\n",
    "\n",
    "if __name__ == '__main__':\n",
    "    app.run_server(host = \"0.0.0.0\", debug=True, port=8050)"
   ]
  },
  {
   "cell_type": "code",
   "execution_count": null,
   "id": "31793c98-499a-40fd-a01a-16c16c68feec",
   "metadata": {},
   "outputs": [],
   "source": []
  }
 ],
 "metadata": {
  "kernelspec": {
   "display_name": "Python 3 (ipykernel)",
   "language": "python",
   "name": "python3"
  },
  "language_info": {
   "codemirror_mode": {
    "name": "ipython",
    "version": 3
   },
   "file_extension": ".py",
   "mimetype": "text/x-python",
   "name": "python",
   "nbconvert_exporter": "python",
   "pygments_lexer": "ipython3",
   "version": "3.11.1"
  }
 },
 "nbformat": 4,
 "nbformat_minor": 5
}
