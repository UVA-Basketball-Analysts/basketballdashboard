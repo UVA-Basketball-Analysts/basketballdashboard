{
 "cells": [
  {
   "cell_type": "code",
   "execution_count": 1,
   "id": "c267192f-c2a6-4728-ab3a-a299e05a00fe",
   "metadata": {
    "tags": []
   },
   "outputs": [],
   "source": [
    "import numpy as np\n",
    "import pandas as pd\n",
    "import plotly.express as px\n",
    "import plotly.graph_objects as go\n",
    "import plotly.figure_factory as ff"
   ]
  },
  {
   "cell_type": "code",
   "execution_count": 2,
   "id": "fd98039b-b7f0-473e-961c-93fb808b9c4b",
   "metadata": {
    "tags": []
   },
   "outputs": [],
   "source": [
    "import dash\n",
    "from dash import Dash\n",
    "from jupyter_dash import JupyterDash\n",
    "from dash import dcc\n",
    "from dash import html\n",
    "from dash.dependencies import Input, Output"
   ]
  },
  {
   "cell_type": "code",
   "execution_count": 3,
   "id": "90173395-9b15-488a-9b42-6b8c05f66f29",
   "metadata": {
    "tags": []
   },
   "outputs": [],
   "source": [
    "from utils.navbar import NavBarBball"
   ]
  },
  {
   "cell_type": "code",
   "execution_count": 4,
   "id": "eab443e8-3f87-42df-9724-0893fd50ca33",
   "metadata": {
    "tags": []
   },
   "outputs": [],
   "source": [
    "navbarObject = NavBarBball()\n",
    "navbar = navbarObject.construct_nav()"
   ]
  },
  {
   "cell_type": "code",
   "execution_count": 7,
   "id": "d55236c6-a925-47da-87c6-631c17272801",
   "metadata": {
    "tags": []
   },
   "outputs": [],
   "source": [
    "import dash_bootstrap_components as dbc\n",
    "\n",
    "external_stylesheets = [dbc.themes.BOOTSTRAP]\n",
    "\n",
    "app = JupyterDash(__name__, \n",
    "                  external_stylesheets=external_stylesheets,\n",
    "                  suppress_callback_exceptions=True, use_pages=True)"
   ]
  },
  {
   "cell_type": "code",
   "execution_count": 8,
   "id": "531f82c0-eeb0-4146-a84f-296487f4c69c",
   "metadata": {
    "tags": []
   },
   "outputs": [],
   "source": [
    "app.layout = html.Div([\n",
    "    dcc.Location(id='url', refresh=False),\n",
    "    navbar, \n",
    "    html.Br(),\n",
    "    dash.page_container, \n",
    "])"
   ]
  },
  {
   "cell_type": "code",
   "execution_count": 11,
   "id": "9f5e3f41-24e0-4458-b7f2-18e225fcf030",
   "metadata": {
    "tags": []
   },
   "outputs": [
    {
     "name": "stderr",
     "output_type": "stream",
     "text": [
      "\u001b[33m * Tip: There are .env or .flaskenv files present. Do \"pip install python-dotenv\" to use them.\u001b[0m\n"
     ]
    },
    {
     "name": "stdout",
     "output_type": "stream",
     "text": [
      "Dash app running on http://0.0.0.0:8051/\n"
     ]
    }
   ],
   "source": [
    "if __name__ == '__main__':\n",
    "    app.run_server(host=\"0.0.0.0\", mode='external', debug=True, port=8051)"
   ]
  },
  {
   "cell_type": "code",
   "execution_count": null,
   "id": "e1c391f4-292a-4af9-882c-5aed3d67854b",
   "metadata": {},
   "outputs": [],
   "source": []
  },
  {
   "cell_type": "code",
   "execution_count": null,
   "id": "7c0b98a9-7484-4ea3-8770-f054bdf0a05e",
   "metadata": {},
   "outputs": [],
   "source": []
  }
 ],
 "metadata": {
  "kernelspec": {
   "display_name": "Python 3 (ipykernel)",
   "language": "python",
   "name": "python3"
  },
  "language_info": {
   "codemirror_mode": {
    "name": "ipython",
    "version": 3
   },
   "file_extension": ".py",
   "mimetype": "text/x-python",
   "name": "python",
   "nbconvert_exporter": "python",
   "pygments_lexer": "ipython3",
   "version": "3.11.2"
  }
 },
 "nbformat": 4,
 "nbformat_minor": 5
}
