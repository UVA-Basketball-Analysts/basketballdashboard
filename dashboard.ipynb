{
 "cells": [
  {
   "cell_type": "code",
   "execution_count": 1,
   "id": "c267192f-c2a6-4728-ab3a-a299e05a00fe",
   "metadata": {
    "tags": []
   },
   "outputs": [],
   "source": [
    "import numpy as np\n",
    "import pandas as pd\n",
    "import plotly.express as px\n",
    "import plotly.graph_objects as go\n",
    "import plotly.figure_factory as ff"
   ]
  },
  {
   "cell_type": "code",
   "execution_count": 2,
   "id": "fd98039b-b7f0-473e-961c-93fb808b9c4b",
   "metadata": {
    "tags": []
   },
   "outputs": [],
   "source": [
    "import dash\n",
    "from jupyter_dash import JupyterDash\n",
    "from dash import dcc\n",
    "from dash import html\n",
    "from dash.dependencies import Input, Output"
   ]
  },
  {
   "cell_type": "code",
   "execution_count": 3,
   "id": "e0978f69-30dd-4f55-9486-2e51c537cdca",
   "metadata": {
    "tags": []
   },
   "outputs": [],
   "source": [
    "import dash_bootstrap_components as dbc\n",
    "external_stylesheets = [dbc.themes.BOOTSTRAP]\n",
    "from dash import Dash, html\n",
    "UVA_LOGO = 'https://upload.wikimedia.org/wikipedia/en/thumb/d/d1/Virginia_Cavaliers_sabre.svg/1200px-Virginia_Cavaliers_sabre.svg.png'\n",
    "header = dbc.Navbar(\n",
    "    dbc.Container(\n",
    "        [\n",
    "            html.A(\n",
    "                dbc.Row(\n",
    "                    [\n",
    "                        dbc.Col(html.Img(src=UVA_LOGO, height=\"30px\")),\n",
    "                        dbc.Col(dbc.NavbarBrand(\"UVABBall\", className=\"ms-2\")),\n",
    "                    ],\n",
    "                    align=\"center\",\n",
    "                    className=\"g-0\",\n",
    "                ),\n",
    "                href=\"https://plotly.com\",\n",
    "                style={\"textDecoration\": \"none\"},\n",
    "            ),\n",
    "            dbc.Row(\n",
    "                [\n",
    "                    dbc.NavbarToggler(id=\"navbar-toggler\"),\n",
    "                    dbc.Collapse(\n",
    "                        dbc.Nav(\n",
    "                            [\n",
    "                                dbc.NavItem(dbc.NavLink(\"Home\")),\n",
    "                                dbc.NavItem(dbc.NavLink(\"Page 1\")),\n",
    "                                dbc.NavItem(\n",
    "                                    dbc.NavLink(\"Page 2\"),\n",
    "                                    # add an auto margin after page 2 to\n",
    "                                    # push later links to end of nav\n",
    "                                    className=\"me-auto\",\n",
    "                                ),\n",
    "                                dbc.NavItem(dbc.NavLink(\"Help\")),\n",
    "                                dbc.NavItem(dbc.NavLink(\"About\"))\n",
    "                            ],\n",
    "                            # make sure nav takes up the full width for auto\n",
    "                            # margin to get applied\n",
    "                            className=\"w-100\",\n",
    "                        ),\n",
    "                        id=\"navbar-collapse\",\n",
    "                        is_open=False,\n",
    "                        navbar=True,\n",
    "                    ),\n",
    "                ],\n",
    "                # the row should expand to fill the available horizontal space\n",
    "                className=\"flex-grow-1\",\n",
    "            ),\n",
    "        ],\n",
    "        fluid=True,\n",
    "    ),\n",
    "    dark=True,\n",
    "    color=\"dark\",\n",
    ")"
   ]
  },
  {
   "cell_type": "code",
   "execution_count": 4,
   "id": "1bb1396e-3ad0-4ec1-af13-abec3124280e",
   "metadata": {
    "tags": []
   },
   "outputs": [],
   "source": [
    "fig = go.Figure(data=[go.Scatter(x=[1, 2, 3], y=[4, 1, 2])])"
   ]
  },
  {
   "cell_type": "code",
   "execution_count": 5,
   "id": "ab09fe04-a67e-478e-a422-d086b9b3b85a",
   "metadata": {
    "tags": []
   },
   "outputs": [],
   "source": [
    "news_articles = [\n",
    "    ['Louisville Cardinals lose to No. 7 Virginia Cavaliers in home ACC college basketball game', 'https://www.courier-journal.com/story/sports/college/louisville/2023/02/15/louisville-basketball-vs-uva-how-to-watch-stream-and-live-updates/69863328007/'],\n",
    "    ['Virginia Avoids Disastrous Upset, Escapes Louisville With Sloppy 61-58 Win', 'https://www.si.com/college/virginia/basketball/virginia-avoids-disastrous-upset-escapes-louisville-with-sloppy-61-58-win'],\n",
    "    ['Franklin, Clark help No. 7 UVA outlast ACC-worst Louisville', 'https://www.espn.com/mens-college-basketball/recap/_/gameId/401488496']\n",
    "]"
   ]
  },
  {
   "cell_type": "code",
   "execution_count": 6,
   "id": "3c17b1c2-ece9-48cc-8fe7-04e61386fd3a",
   "metadata": {
    "tags": []
   },
   "outputs": [],
   "source": [
    "markdown_text = '''\n",
    "\n",
    "### Header of Markdown\n",
    "Some content\n",
    "\n",
    "'''"
   ]
  },
  {
   "cell_type": "code",
   "execution_count": 7,
   "id": "989af930-7d0e-4e82-a404-6384569c7cf3",
   "metadata": {
    "tags": []
   },
   "outputs": [],
   "source": [
    "tabs_styles = {\n",
    "    'height': '44px'\n",
    "}\n",
    "tab_style = {\n",
    "    'borderBottom': '1px solid #d6d6d6',\n",
    "    'padding': '6px',\n",
    "    'fontWeight': 'bold'\n",
    "}\n",
    "\n",
    "tab_selected_style = {\n",
    "    'borderTop': '1px solid #d6d6d6',\n",
    "    'borderBottom': '1px solid #d6d6d6',\n",
    "    'backgroundColor': '#119DFF',\n",
    "    'color': 'white',\n",
    "    'padding': '6px'\n",
    "}"
   ]
  },
  {
   "cell_type": "code",
   "execution_count": 8,
   "id": "ae54bead-3e77-4b26-bf26-9e4dd787da79",
   "metadata": {
    "tags": []
   },
   "outputs": [],
   "source": [
    "app = JupyterDash(__name__, external_stylesheets=external_stylesheets)\n",
    "\n",
    "app.layout = html.Div(\n",
    "    [\n",
    "        header,\n",
    "        html.Br(),\n",
    "        dbc.Container(\n",
    "            [\n",
    "                # html.Div(\n",
    "                    # [\n",
    "                        html.H1(\n",
    "                            [\n",
    "                                html.Div([\n",
    "                                    html.Div([\n",
    "                                        html.Div([], className=\"lines\")\n",
    "                                    ], className=\"ball\"),\n",
    "                                    html.Div([],className=\"shadow\")\n",
    "                                ], className=\"basketball\"),\n",
    "                                \"UVABball Dashboard\"\n",
    "                            ], style={'text-align': 'center'}),\n",
    "                    # ]\n",
    "                # ), \n",
    "                dbc.Row(\n",
    "                    [\n",
    "                        dbc.Col(html.Img(src=\"https://cdn.vox-cdn.com/thumbor/O-tzXeJOjOWZpeoJP5JHRCajHFs=/1400x1400/filters:format(jpeg)/cdn.vox-cdn.com/uploads/chorus_asset/file/24432116/1247055249.jpg\",\n",
    "                                        style={\n",
    "                                    'max-width': '100%',\n",
    "                                    'height': 'auto',\n",
    "                                }),\n",
    "                                width=4),\n",
    "                        dbc.Col(html.Div([\n",
    "                                    html.H3(\"Recent News\", style={'textAlign': 'center'}),\n",
    "                                    html.Ul(id='news-list', children=[\n",
    "                                        html.Li(html.A(i[0], href=i[1], target=\"_blank\")) for i in news_articles\n",
    "                                    ]),\n",
    "                                    dcc.Markdown(children = markdown_text)\n",
    "                                ]),\n",
    "                                width=8),\n",
    "                    ]\n",
    "                ),\n",
    "                dbc.Row([\n",
    "                    dbc.Col(dcc.Graph(figure=fig),width=6),\n",
    "                    dbc.Col(dcc.Graph(figure=fig),width=6)\n",
    "                ]),\n",
    "                dcc.Tabs(id=\"tabs-inline\", value='tab-1', children=[\n",
    "                    dcc.Tab(label='Tab 1', value='tab-1', style=tab_style, selected_style=tab_selected_style),\n",
    "                    dcc.Tab(label='Tab 2', value='tab-2', style=tab_style, selected_style=tab_selected_style),\n",
    "                    dcc.Tab(label='Tab 3', value='tab-3', style=tab_style, selected_style=tab_selected_style),\n",
    "                    dcc.Tab(label='Tab 4', value='tab-4', style=tab_style, selected_style=tab_selected_style),\n",
    "                ], style=tabs_styles),\n",
    "                html.Div(id='tabs-content-inline-3')\n",
    "            ]\n",
    "        )\n",
    "    ]\n",
    ")"
   ]
  },
  {
   "cell_type": "code",
   "execution_count": 9,
   "id": "f0e85a0e-3f16-4691-b2c0-8fbdee3393a1",
   "metadata": {
    "tags": []
   },
   "outputs": [],
   "source": [
    "@app.callback(Output('tabs-content-inline-3', 'children'),\n",
    "              Input('tabs-inline', 'value'))\n",
    "def render_content(tab):\n",
    "    if tab == 'tab-1':\n",
    "        return dbc.Row([\n",
    "                    dbc.Col(dcc.Graph(figure=fig),width=6),\n",
    "                    dbc.Col(dcc.Graph(figure=fig),width=6)\n",
    "                ])\n",
    "    elif tab == 'tab-2':\n",
    "        return html.Div([\n",
    "            html.Img(src=\"https://cdn.vox-cdn.com/thumbor/O-tzXeJOjOWZpeoJP5JHRCajHFs=/1400x1400/filters:format(jpeg)/cdn.vox-cdn.com/uploads/chorus_asset/file/24432116/1247055249.jpg\",\n",
    "                                        style={\n",
    "                                    'max-width': '100%',\n",
    "                                    'height': 'auto',\n",
    "                                })\n",
    "        ])\n",
    "    elif tab == 'tab-3':\n",
    "        return html.Div([\n",
    "                html.H3(\"Recent News\", style={'textAlign': 'center'}),\n",
    "                html.Ul(id='news-list', children=[\n",
    "                    html.Li(html.A(i[0], href=i[1], target=\"_blank\")) for i in news_articles\n",
    "                ])\n",
    "            ])\n",
    "    elif tab == 'tab-4':\n",
    "        return dcc.Markdown(children = markdown_text)\n"
   ]
  },
  {
   "cell_type": "code",
   "execution_count": 10,
   "id": "9f5e3f41-24e0-4458-b7f2-18e225fcf030",
   "metadata": {
    "tags": []
   },
   "outputs": [
    {
     "name": "stderr",
     "output_type": "stream",
     "text": [
      "\u001b[33m * Tip: There are .env or .flaskenv files present. Do \"pip install python-dotenv\" to use them.\u001b[0m\n"
     ]
    },
    {
     "name": "stdout",
     "output_type": "stream",
     "text": [
      "Dash app running on http://0.0.0.0:8051/\n"
     ]
    }
   ],
   "source": [
    "if __name__ == '__main__':\n",
    "    app.run_server(host=\"0.0.0.0\", mode='external', debug=True, port=8051)"
   ]
  },
  {
   "cell_type": "code",
   "execution_count": null,
   "id": "e1c391f4-292a-4af9-882c-5aed3d67854b",
   "metadata": {},
   "outputs": [],
   "source": []
  }
 ],
 "metadata": {
  "kernelspec": {
   "display_name": "Python 3 (ipykernel)",
   "language": "python",
   "name": "python3"
  },
  "language_info": {
   "codemirror_mode": {
    "name": "ipython",
    "version": 3
   },
   "file_extension": ".py",
   "mimetype": "text/x-python",
   "name": "python",
   "nbconvert_exporter": "python",
   "pygments_lexer": "ipython3",
   "version": "3.11.2"
  }
 },
 "nbformat": 4,
 "nbformat_minor": 5
}
