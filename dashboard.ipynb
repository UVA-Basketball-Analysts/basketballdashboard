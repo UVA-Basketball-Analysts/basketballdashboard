{
 "cells": [
  {
   "cell_type": "code",
   "execution_count": 1,
   "id": "c267192f-c2a6-4728-ab3a-a299e05a00fe",
   "metadata": {
    "tags": []
   },
   "outputs": [],
   "source": [
    "import numpy as np\n",
    "import pandas as pd\n",
    "import plotly.express as px\n",
    "import plotly.graph_objects as go\n",
    "import plotly.figure_factory as ff"
   ]
  },
  {
   "cell_type": "code",
   "execution_count": 2,
   "id": "fd98039b-b7f0-473e-961c-93fb808b9c4b",
   "metadata": {
    "tags": []
   },
   "outputs": [],
   "source": [
    "import dash\n",
    "from jupyter_dash import JupyterDash\n",
    "from dash import dcc\n",
    "from dash import html\n",
    "from dash.dependencies import Input, Output"
   ]
  },
  {
   "cell_type": "code",
   "execution_count": 3,
   "id": "90173395-9b15-488a-9b42-6b8c05f66f29",
   "metadata": {
    "tags": []
   },
   "outputs": [],
   "source": [
    "from utils.navbar import NavBarBball"
   ]
  },
  {
   "cell_type": "code",
   "execution_count": 4,
   "id": "eab443e8-3f87-42df-9724-0893fd50ca33",
   "metadata": {
    "tags": []
   },
   "outputs": [],
   "source": [
    "navbarObject = NavBarBball()\n",
    "navbar = navbarObject.construct_nav()"
   ]
  },
  {
   "cell_type": "code",
   "execution_count": 5,
   "id": "1bb1396e-3ad0-4ec1-af13-abec3124280e",
   "metadata": {
    "tags": []
   },
   "outputs": [],
   "source": [
    "fig = go.Figure(data=[go.Scatter(x=[1, 2, 3], y=[4, 1, 2])])"
   ]
  },
  {
   "cell_type": "code",
   "execution_count": 6,
   "id": "c3d1b2c6-2d2e-46bd-8f45-6b4495996f0a",
   "metadata": {
    "tags": []
   },
   "outputs": [],
   "source": [
    "from utils.news import bballNews"
   ]
  },
  {
   "cell_type": "code",
   "execution_count": 7,
   "id": "014a3148-b3a5-4a96-95ae-c144a543983d",
   "metadata": {
    "tags": []
   },
   "outputs": [],
   "source": [
    "newsObject = bballNews()\n",
    "newsBox = newsObject.construct_news_pane()"
   ]
  },
  {
   "cell_type": "code",
   "execution_count": 8,
   "id": "989af930-7d0e-4e82-a404-6384569c7cf3",
   "metadata": {
    "tags": []
   },
   "outputs": [],
   "source": [
    "from utils.tabs import BballTabs\n",
    "tabObject = BballTabs()\n",
    "tabs = BballTabs.constructTabs(tabObject,4)"
   ]
  },
  {
   "cell_type": "code",
   "execution_count": 9,
   "id": "ae54bead-3e77-4b26-bf26-9e4dd787da79",
   "metadata": {
    "tags": []
   },
   "outputs": [],
   "source": [
    "import dash_bootstrap_components as dbc\n",
    "\n",
    "external_stylesheets = [dbc.themes.BOOTSTRAP]\n",
    "\n",
    "app = JupyterDash(__name__, external_stylesheets=external_stylesheets)\n",
    "\n",
    "app.layout = html.Div(\n",
    "    [\n",
    "        navbar,\n",
    "        html.Br(),\n",
    "        dbc.Container(\n",
    "            [\n",
    "                # html.Div(\n",
    "                    # [\n",
    "                        html.H1(\n",
    "                            [\n",
    "                                html.Div([\n",
    "                                    html.Div([\n",
    "                                        html.Div([], className=\"lines\")\n",
    "                                    ], className=\"ball\"),\n",
    "                                    html.Div([],className=\"shadow\")\n",
    "                                ], className=\"basketball\"),\n",
    "                                \"UVABball Dashboard\"\n",
    "                            ], style={'text-align': 'center'}),\n",
    "                    # ]\n",
    "                # ), \n",
    "                dbc.Row(\n",
    "                    [\n",
    "                        dbc.Col(html.Img(src=\"https://cdn.vox-cdn.com/thumbor/O-tzXeJOjOWZpeoJP5JHRCajHFs=/1400x1400/filters:format(jpeg)/cdn.vox-cdn.com/uploads/chorus_asset/file/24432116/1247055249.jpg\",\n",
    "                                        style={\n",
    "                                    'max-width': '100%',\n",
    "                                    'height': 'auto',\n",
    "                                }),\n",
    "                                width=4),\n",
    "                        dbc.Col(newsBox,\n",
    "                                width=8),\n",
    "                    ]\n",
    "                ),\n",
    "                dbc.Row([\n",
    "                    dbc.Col(dcc.Graph(figure=fig),width=6),\n",
    "                    dbc.Col(dcc.Graph(figure=fig),width=6)\n",
    "                ]),\n",
    "                tabs[0],\n",
    "                tabs[1]\n",
    "            ]\n",
    "        )\n",
    "    ]\n",
    ")"
   ]
  },
  {
   "cell_type": "code",
   "execution_count": 10,
   "id": "f0e85a0e-3f16-4691-b2c0-8fbdee3393a1",
   "metadata": {
    "tags": []
   },
   "outputs": [],
   "source": [
    "@app.callback(Output('tabs-content-inline-3', 'children'),\n",
    "              Input('tabs-inline', 'value'))\n",
    "def render_content(tab):\n",
    "    if tab == 'tab-1':\n",
    "        return dbc.Row([\n",
    "                    dbc.Col(dcc.Graph(figure=fig),width=6),\n",
    "                    dbc.Col(dcc.Graph(figure=fig),width=6)\n",
    "                ])\n",
    "    elif tab == 'tab-2':\n",
    "        return html.Div([\n",
    "            html.Img(src=\"https://cdn.vox-cdn.com/thumbor/O-tzXeJOjOWZpeoJP5JHRCajHFs=/1400x1400/filters:format(jpeg)/cdn.vox-cdn.com/uploads/chorus_asset/file/24432116/1247055249.jpg\",\n",
    "                                        style={\n",
    "                                    'max-width': '100%',\n",
    "                                    'height': 'auto',\n",
    "                                })\n",
    "        ])\n",
    "    elif tab == 'tab-3':\n",
    "        return newsBox\n",
    "    elif tab == 'tab-4':\n",
    "        return dcc.Markdown(children = '''\n",
    "        ## Markdown\n",
    "        Yay!\n",
    "        ''')\n"
   ]
  },
  {
   "cell_type": "code",
   "execution_count": 11,
   "id": "9f5e3f41-24e0-4458-b7f2-18e225fcf030",
   "metadata": {
    "tags": []
   },
   "outputs": [
    {
     "name": "stderr",
     "output_type": "stream",
     "text": [
      "\u001b[33m * Tip: There are .env or .flaskenv files present. Do \"pip install python-dotenv\" to use them.\u001b[0m\n"
     ]
    },
    {
     "name": "stdout",
     "output_type": "stream",
     "text": [
      "Dash app running on http://0.0.0.0:8051/\n"
     ]
    }
   ],
   "source": [
    "if __name__ == '__main__':\n",
    "    app.run_server(host=\"0.0.0.0\", mode='external', debug=True, port=8051)"
   ]
  },
  {
   "cell_type": "code",
   "execution_count": null,
   "id": "e1c391f4-292a-4af9-882c-5aed3d67854b",
   "metadata": {},
   "outputs": [],
   "source": []
  }
 ],
 "metadata": {
  "kernelspec": {
   "display_name": "Python 3 (ipykernel)",
   "language": "python",
   "name": "python3"
  },
  "language_info": {
   "codemirror_mode": {
    "name": "ipython",
    "version": 3
   },
   "file_extension": ".py",
   "mimetype": "text/x-python",
   "name": "python",
   "nbconvert_exporter": "python",
   "pygments_lexer": "ipython3",
   "version": "3.11.2"
  }
 },
 "nbformat": 4,
 "nbformat_minor": 5
}
