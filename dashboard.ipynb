{
 "cells": [
  {
   "cell_type": "code",
   "execution_count": 1,
   "id": "c267192f-c2a6-4728-ab3a-a299e05a00fe",
   "metadata": {
    "tags": []
   },
   "outputs": [],
   "source": [
    "import numpy as np\n",
    "import pandas as pd\n",
    "import plotly.express as px\n",
    "import plotly.graph_objects as go\n",
    "import plotly.figure_factory as ff"
   ]
  },
  {
   "cell_type": "code",
   "execution_count": 2,
   "id": "fd98039b-b7f0-473e-961c-93fb808b9c4b",
   "metadata": {
    "tags": []
   },
   "outputs": [],
   "source": [
    "import dash\n",
    "from dash import Dash\n",
    "from jupyter_dash import JupyterDash\n",
    "from dash import dcc\n",
    "from dash import html\n",
    "from dash.dependencies import Input, Output"
   ]
  },
  {
   "cell_type": "code",
   "execution_count": 3,
   "id": "4b755c57-4328-4bfc-8a0e-901cd79e8385",
   "metadata": {
    "tags": []
   },
   "outputs": [],
   "source": [
    "import pandas as pd\n",
    "import os\n",
    "\n",
    "def collapseData():\n",
    "    csv_files_clinician = [f for f in os.listdir('data/Athleticism') if f.startswith('report')]\n",
    "    list_dfs = [pd.read_csv('data/Athleticism/'+file) for file in csv_files_clinician]\n",
    "    athleticism_df = pd.concat(list_dfs, ignore_index=True)\n",
    "    athleticism_df.to_csv('data/Athleticism.csv')\n",
    "    \n",
    "    csv_files = [f for f in os.listdir('data/ClinicianReport') if f.startswith('report')]\n",
    "    list_dfs = [pd.read_csv('data/ClinicianReport/'+file) for file in csv_files]\n",
    "    clinician_df = pd.concat(list_dfs, ignore_index=True)\n",
    "    clinician_df.to_csv('data/ClinicianReport.csv')\n",
    "    \n",
    "    \n",
    "collapseData()"
   ]
  },
  {
   "cell_type": "code",
   "execution_count": 3,
   "id": "eab443e8-3f87-42df-9724-0893fd50ca33",
   "metadata": {
    "tags": []
   },
   "outputs": [],
   "source": [
    "from utils.navbar import NavBarBball\n",
    "from utils.footer import Footer\n",
    "navbarObject = NavBarBball()\n",
    "navbar = navbarObject.construct_nav()\n",
    "footerObject = Footer()\n",
    "footer = footerObject.construct_footer()"
   ]
  },
  {
   "cell_type": "code",
   "execution_count": 4,
   "id": "d55236c6-a925-47da-87c6-631c17272801",
   "metadata": {
    "tags": []
   },
   "outputs": [],
   "source": [
    "import dash_bootstrap_components as dbc\n",
    "\n",
    "external_stylesheets = [dbc.themes.BOOTSTRAP]\n",
    "\n",
    "app = JupyterDash(__name__, \n",
    "                  external_stylesheets=external_stylesheets,\n",
    "                  suppress_callback_exceptions=True, use_pages=True)"
   ]
  },
  {
   "cell_type": "code",
   "execution_count": 5,
   "id": "531f82c0-eeb0-4146-a84f-296487f4c69c",
   "metadata": {
    "tags": []
   },
   "outputs": [],
   "source": [
    "app.layout = html.Div([\n",
    "    dcc.Location(id='url', refresh=False),\n",
    "    navbar, \n",
    "    html.Br(),\n",
    "    dash.page_container, \n",
    "    html.Br(),\n",
    "    footer\n",
    "])"
   ]
  },
  {
   "cell_type": "code",
   "execution_count": 6,
   "id": "9f5e3f41-24e0-4458-b7f2-18e225fcf030",
   "metadata": {
    "tags": []
   },
   "outputs": [
    {
     "name": "stdout",
     "output_type": "stream",
     "text": [
      "Dash app running on http://0.0.0.0:8051/\n"
     ]
    }
   ],
   "source": [
    "if __name__ == '__main__':\n",
    "    app.run_server(host=\"0.0.0.0\", mode='external', debug=True, port=8051)"
   ]
  },
  {
   "cell_type": "code",
   "execution_count": null,
   "id": "ee2b8fe3-ed58-4769-9531-ccccc15e080f",
   "metadata": {},
   "outputs": [],
   "source": []
  }
 ],
 "metadata": {
  "kernelspec": {
   "display_name": "Python 3 (ipykernel)",
   "language": "python",
   "name": "python3"
  },
  "language_info": {
   "codemirror_mode": {
    "name": "ipython",
    "version": 3
   },
   "file_extension": ".py",
   "mimetype": "text/x-python",
   "name": "python",
   "nbconvert_exporter": "python",
   "pygments_lexer": "ipython3",
   "version": "3.11.2"
  }
 },
 "nbformat": 4,
 "nbformat_minor": 5
}
