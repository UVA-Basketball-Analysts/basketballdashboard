{
 "cells": [
  {
   "cell_type": "code",
   "execution_count": 3,
   "id": "ca881184-1223-4e39-bcb0-e82916fbca7e",
   "metadata": {},
   "outputs": [],
   "source": [
    "import os\n",
    "import glob\n",
    "import pandas as pd\n",
    "import re\n",
    "import dash\n",
    "from jupyter_dash import JupyterDash\n",
    "from dash import dcc\n",
    "from dash import html\n",
    "from dash.dependencies import Input, Output\n",
    "import numpy as np\n",
    "import plotly.express as px\n",
    "import plotly.graph_objects as go\n",
    "import plotly.figure_factory as ff\n",
    "\n",
    "df2 = pd.read_csv(\"clinician.csv\")\n",
    "\n",
    "df2 = df2.sort_values(['meta__person__unique_id', 'timestamp'])\n",
    "\n",
    "def hips(playerid):\n",
    "    one_athlete = df2[df2['meta__person__unique_id'].str.contains(playerid)]\n",
    "    df_hips = one_athlete.filter(regex = re.compile(r'meta__person__unique_id|meta__session__session_guid|timestamp|hip|HIP|Hip'))\n",
    "    \n",
    "    lines = []\n",
    "\n",
    "    for column in df_hips.columns[5:20]:\n",
    "        trace = go.Scatter(\n",
    "            x=df_hips['timestamp'],\n",
    "            y=df_hips[column],\n",
    "            mode='lines',\n",
    "            name=column\n",
    "        )\n",
    "        lines.append(trace)\n",
    "\n",
    "    layout = go.Layout(\n",
    "        title='Clinician Hips',\n",
    "        xaxis=dict(title='Timestamp'),\n",
    "        yaxis=dict(title='Value')\n",
    "    )\n",
    "\n",
    "# Create the figure and plot it\n",
    "    fig = go.Figure(data=lines, layout=layout)\n",
    "    fig.show()\n",
    "    return fig\n",
    "\n",
    "\n",
    "# Define the app layout\n",
    "app = dash.Dash(__name__, external_stylesheets=['https://codepen.io/chriddyp/pen/bWLwgP.css'])\n",
    "app.layout = html.Div([\n",
    "    html.H1(\"Tales of Dunk and Leg\"),\n",
    "    dcc.Dropdown(\n",
    "        id='playerid-dropdown',\n",
    "        options=[{'label': i, 'value': i} for i in df2['meta__person__unique_id'].unique()],\n",
    "        value=df2['meta__person__unique_id'].unique()[0]\n",
    "    ),       \n",
    "    html.H2(\"Hips\"),\n",
    "    dcc.Graph(id='hips-graph'),\n",
    "    html.H2(\"Knees\"),\n",
    "    #dcc.Graph(id='my-graph',figure=scatter),\n",
    "    html.H2(\"Ankles\"),\n",
    "    #dcc.Graph(id='my-graph',figure=scatter)      \n",
    "])\n",
    "\n",
    "\n",
    "@app.callback(\n",
    "    dash.dependencies.Output('hip-graph', 'figure'),\n",
    "    [dash.dependencies.Input('playerid-dropdown', 'value')])\n",
    "\n",
    "def update_figure(playerid):\n",
    "    one_athlete = df2[df2['meta__person__unique_id'].str.contains(playerid)]\n",
    "    df_hips = one_athlete.filter(regex=re.compile(r'meta__person__unique_id|meta__session__session_guid|timestamp|hip|HIP|Hip'))\n",
    "\n",
    "    lines = []\n",
    "\n",
    "    for column in df_hips.columns[5:20]:\n",
    "        trace = go.Scatter(\n",
    "            x=df_hips['timestamp'],\n",
    "            y=df_hips[column],\n",
    "            mode='lines',\n",
    "            name=column\n",
    "        )\n",
    "        lines.append(trace)\n",
    "\n",
    "    layout = go.Layout(\n",
    "        title=f\"Clinician Hips\",\n",
    "        xaxis=dict(title='Timestamp'),\n",
    "        yaxis=dict(title='Value')\n",
    "    )\n",
    "\n",
    "    # Create the figure and plot it\n",
    "    fig = go.Figure(data=lines, layout=layout)\n",
    "    return fig\n",
    "\n",
    "if __name__ == '__main__':\n",
    "    app.run_server(host = \"0.0.0.0\", debug=True, port=8050)"
   ]
  },
  {
   "cell_type": "code",
   "execution_count": null,
   "id": "fc696db0-a312-4a53-a193-648e3093f33f",
   "metadata": {},
   "outputs": [],
   "source": []
  },
  {
   "cell_type": "code",
   "execution_count": null,
   "id": "a611bbdb-13d4-419d-b803-3b04b215bf1a",
   "metadata": {},
   "outputs": [],
   "source": []
  },
  {
   "cell_type": "code",
   "execution_count": null,
   "id": "a1d68a11-681e-413a-8f62-3c17f1d32362",
   "metadata": {},
   "outputs": [],
   "source": []
  },
  {
   "cell_type": "code",
   "execution_count": null,
   "id": "8a7fb926-4bd7-4aa1-a93f-f71740c3f3e3",
   "metadata": {},
   "outputs": [],
   "source": []
  },
  {
   "cell_type": "code",
   "execution_count": null,
   "id": "7e916661-698d-4cd7-9bca-fb6368326ba7",
   "metadata": {},
   "outputs": [],
   "source": []
  },
  {
   "cell_type": "code",
   "execution_count": null,
   "id": "1230adc7-bab2-40e6-b061-63dc8f3aa2f0",
   "metadata": {},
   "outputs": [],
   "source": []
  },
  {
   "cell_type": "code",
   "execution_count": null,
   "id": "6f84d328-ac73-47a9-ae0a-61466d6b8d55",
   "metadata": {},
   "outputs": [],
   "source": []
  },
  {
   "cell_type": "code",
   "execution_count": null,
   "id": "8dd6ead0-c98b-467a-9280-e1beb07f1c69",
   "metadata": {},
   "outputs": [],
   "source": []
  },
  {
   "cell_type": "code",
   "execution_count": null,
   "id": "0cd656a7-708b-4a06-857d-0f686ae46f45",
   "metadata": {},
   "outputs": [],
   "source": []
  },
  {
   "cell_type": "code",
   "execution_count": null,
   "id": "7103e3cc-dd5c-4237-80c2-e11e37ac8e52",
   "metadata": {},
   "outputs": [],
   "source": []
  },
  {
   "cell_type": "code",
   "execution_count": null,
   "id": "7fa2305b-e8cc-482d-a731-6a814f9787ef",
   "metadata": {},
   "outputs": [],
   "source": []
  },
  {
   "cell_type": "code",
   "execution_count": null,
   "id": "f17b22f0-b3df-4f72-a46c-99a58f9b44c4",
   "metadata": {},
   "outputs": [],
   "source": []
  },
  {
   "cell_type": "code",
   "execution_count": null,
   "id": "c87c0676-33ee-4a85-9382-5ba788d21764",
   "metadata": {},
   "outputs": [],
   "source": []
  },
  {
   "cell_type": "code",
   "execution_count": null,
   "id": "d00f9190-9214-4190-9ae5-c0a3e020395f",
   "metadata": {},
   "outputs": [],
   "source": []
  },
  {
   "cell_type": "code",
   "execution_count": null,
   "id": "bc577bc6-4e4b-4554-afec-5d331eeccbdf",
   "metadata": {},
   "outputs": [],
   "source": []
  },
  {
   "cell_type": "code",
   "execution_count": null,
   "id": "ca24c7f8-fbba-410f-a6a3-deb8eb37660b",
   "metadata": {},
   "outputs": [],
   "source": []
  },
  {
   "cell_type": "code",
   "execution_count": null,
   "id": "a712e956-6d19-4883-9248-0364d5bb1fd0",
   "metadata": {},
   "outputs": [],
   "source": []
  },
  {
   "cell_type": "code",
   "execution_count": null,
   "id": "209e24b7-0c25-4256-b577-c6803de4641b",
   "metadata": {},
   "outputs": [],
   "source": []
  },
  {
   "cell_type": "code",
   "execution_count": null,
   "id": "be914ae7-387a-47a5-9f79-e42b2ae0e05d",
   "metadata": {},
   "outputs": [],
   "source": []
  },
  {
   "cell_type": "code",
   "execution_count": null,
   "id": "e70c8bc6-dd1d-4704-b88b-c5c9250d9f00",
   "metadata": {},
   "outputs": [],
   "source": []
  },
  {
   "cell_type": "code",
   "execution_count": null,
   "id": "8c7a3696-4192-4406-8445-7b9f4a446548",
   "metadata": {},
   "outputs": [],
   "source": []
  }
 ],
 "metadata": {
  "kernelspec": {
   "display_name": "Python 3 (ipykernel)",
   "language": "python",
   "name": "python3"
  },
  "language_info": {
   "codemirror_mode": {
    "name": "ipython",
    "version": 3
   },
   "file_extension": ".py",
   "mimetype": "text/x-python",
   "name": "python",
   "nbconvert_exporter": "python",
   "pygments_lexer": "ipython3",
   "version": "3.11.2"
  }
 },
 "nbformat": 4,
 "nbformat_minor": 5
}
